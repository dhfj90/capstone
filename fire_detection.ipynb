{
  "nbformat": 4,
  "nbformat_minor": 0,
  "metadata": {
    "colab": {
      "provenance": [],
      "gpuType": "T4",
      "mount_file_id": "1WWjkGfaCMu0N_MhUU6-EpLa8_7ZNVgy3",
      "authorship_tag": "ABX9TyO+VWUYPHzooxWuX8wfRO/k",
      "include_colab_link": true
    },
    "kernelspec": {
      "name": "python3",
      "display_name": "Python 3"
    },
    "language_info": {
      "name": "python"
    },
    "accelerator": "GPU"
  },
  "cells": [
    {
      "cell_type": "markdown",
      "metadata": {
        "id": "view-in-github",
        "colab_type": "text"
      },
      "source": [
        "<a href=\"https://colab.research.google.com/github/dhfj90/capstone/blob/main/fire_detection.ipynb\" target=\"_parent\"><img src=\"https://colab.research.google.com/assets/colab-badge.svg\" alt=\"Open In Colab\"/></a>"
      ]
    },
    {
      "cell_type": "code",
      "source": [
        "!pip install ultralytics\n",
        "from ultralytics import YOLO\n",
        "import tensorflow as tf\n",
        "import os\n",
        "import random\n",
        "import shutil\n",
        "import glob"
      ],
      "metadata": {
        "colab": {
          "base_uri": "https://localhost:8080/"
        },
        "id": "s3q35urorDFq",
        "outputId": "47ef24f1-b31a-474a-d63e-dea5f60da9be",
        "collapsed": true
      },
      "execution_count": null,
      "outputs": [
        {
          "output_type": "stream",
          "name": "stdout",
          "text": [
            "Collecting ultralytics\n",
            "  Downloading ultralytics-8.3.10-py3-none-any.whl.metadata (34 kB)\n",
            "Requirement already satisfied: numpy>=1.23.0 in /usr/local/lib/python3.10/dist-packages (from ultralytics) (1.26.4)\n",
            "Requirement already satisfied: matplotlib>=3.3.0 in /usr/local/lib/python3.10/dist-packages (from ultralytics) (3.7.1)\n",
            "Requirement already satisfied: opencv-python>=4.6.0 in /usr/local/lib/python3.10/dist-packages (from ultralytics) (4.10.0.84)\n",
            "Requirement already satisfied: pillow>=7.1.2 in /usr/local/lib/python3.10/dist-packages (from ultralytics) (10.4.0)\n",
            "Requirement already satisfied: pyyaml>=5.3.1 in /usr/local/lib/python3.10/dist-packages (from ultralytics) (6.0.2)\n",
            "Requirement already satisfied: requests>=2.23.0 in /usr/local/lib/python3.10/dist-packages (from ultralytics) (2.32.3)\n",
            "Requirement already satisfied: scipy>=1.4.1 in /usr/local/lib/python3.10/dist-packages (from ultralytics) (1.13.1)\n",
            "Requirement already satisfied: torch>=1.8.0 in /usr/local/lib/python3.10/dist-packages (from ultralytics) (2.4.1+cu121)\n",
            "Requirement already satisfied: torchvision>=0.9.0 in /usr/local/lib/python3.10/dist-packages (from ultralytics) (0.19.1+cu121)\n",
            "Requirement already satisfied: tqdm>=4.64.0 in /usr/local/lib/python3.10/dist-packages (from ultralytics) (4.66.5)\n",
            "Requirement already satisfied: psutil in /usr/local/lib/python3.10/dist-packages (from ultralytics) (5.9.5)\n",
            "Requirement already satisfied: py-cpuinfo in /usr/local/lib/python3.10/dist-packages (from ultralytics) (9.0.0)\n",
            "Requirement already satisfied: pandas>=1.1.4 in /usr/local/lib/python3.10/dist-packages (from ultralytics) (2.2.2)\n",
            "Requirement already satisfied: seaborn>=0.11.0 in /usr/local/lib/python3.10/dist-packages (from ultralytics) (0.13.2)\n",
            "Collecting ultralytics-thop>=2.0.0 (from ultralytics)\n",
            "  Downloading ultralytics_thop-2.0.9-py3-none-any.whl.metadata (9.3 kB)\n",
            "Requirement already satisfied: contourpy>=1.0.1 in /usr/local/lib/python3.10/dist-packages (from matplotlib>=3.3.0->ultralytics) (1.3.0)\n",
            "Requirement already satisfied: cycler>=0.10 in /usr/local/lib/python3.10/dist-packages (from matplotlib>=3.3.0->ultralytics) (0.12.1)\n",
            "Requirement already satisfied: fonttools>=4.22.0 in /usr/local/lib/python3.10/dist-packages (from matplotlib>=3.3.0->ultralytics) (4.54.1)\n",
            "Requirement already satisfied: kiwisolver>=1.0.1 in /usr/local/lib/python3.10/dist-packages (from matplotlib>=3.3.0->ultralytics) (1.4.7)\n",
            "Requirement already satisfied: packaging>=20.0 in /usr/local/lib/python3.10/dist-packages (from matplotlib>=3.3.0->ultralytics) (24.1)\n",
            "Requirement already satisfied: pyparsing>=2.3.1 in /usr/local/lib/python3.10/dist-packages (from matplotlib>=3.3.0->ultralytics) (3.1.4)\n",
            "Requirement already satisfied: python-dateutil>=2.7 in /usr/local/lib/python3.10/dist-packages (from matplotlib>=3.3.0->ultralytics) (2.8.2)\n",
            "Requirement already satisfied: pytz>=2020.1 in /usr/local/lib/python3.10/dist-packages (from pandas>=1.1.4->ultralytics) (2024.2)\n",
            "Requirement already satisfied: tzdata>=2022.7 in /usr/local/lib/python3.10/dist-packages (from pandas>=1.1.4->ultralytics) (2024.2)\n",
            "Requirement already satisfied: charset-normalizer<4,>=2 in /usr/local/lib/python3.10/dist-packages (from requests>=2.23.0->ultralytics) (3.3.2)\n",
            "Requirement already satisfied: idna<4,>=2.5 in /usr/local/lib/python3.10/dist-packages (from requests>=2.23.0->ultralytics) (3.10)\n",
            "Requirement already satisfied: urllib3<3,>=1.21.1 in /usr/local/lib/python3.10/dist-packages (from requests>=2.23.0->ultralytics) (2.2.3)\n",
            "Requirement already satisfied: certifi>=2017.4.17 in /usr/local/lib/python3.10/dist-packages (from requests>=2.23.0->ultralytics) (2024.8.30)\n",
            "Requirement already satisfied: filelock in /usr/local/lib/python3.10/dist-packages (from torch>=1.8.0->ultralytics) (3.16.1)\n",
            "Requirement already satisfied: typing-extensions>=4.8.0 in /usr/local/lib/python3.10/dist-packages (from torch>=1.8.0->ultralytics) (4.12.2)\n",
            "Requirement already satisfied: sympy in /usr/local/lib/python3.10/dist-packages (from torch>=1.8.0->ultralytics) (1.13.3)\n",
            "Requirement already satisfied: networkx in /usr/local/lib/python3.10/dist-packages (from torch>=1.8.0->ultralytics) (3.3)\n",
            "Requirement already satisfied: jinja2 in /usr/local/lib/python3.10/dist-packages (from torch>=1.8.0->ultralytics) (3.1.4)\n",
            "Requirement already satisfied: fsspec in /usr/local/lib/python3.10/dist-packages (from torch>=1.8.0->ultralytics) (2024.6.1)\n",
            "Requirement already satisfied: six>=1.5 in /usr/local/lib/python3.10/dist-packages (from python-dateutil>=2.7->matplotlib>=3.3.0->ultralytics) (1.16.0)\n",
            "Requirement already satisfied: MarkupSafe>=2.0 in /usr/local/lib/python3.10/dist-packages (from jinja2->torch>=1.8.0->ultralytics) (2.1.5)\n",
            "Requirement already satisfied: mpmath<1.4,>=1.1.0 in /usr/local/lib/python3.10/dist-packages (from sympy->torch>=1.8.0->ultralytics) (1.3.0)\n",
            "Downloading ultralytics-8.3.10-py3-none-any.whl (882 kB)\n",
            "\u001b[2K   \u001b[90m━━━━━━━━━━━━━━━━━━━━━━━━━━━━━━━━━━━━━━━━\u001b[0m \u001b[32m882.7/882.7 kB\u001b[0m \u001b[31m18.2 MB/s\u001b[0m eta \u001b[36m0:00:00\u001b[0m\n",
            "\u001b[?25hDownloading ultralytics_thop-2.0.9-py3-none-any.whl (26 kB)\n",
            "Installing collected packages: ultralytics-thop, ultralytics\n",
            "Successfully installed ultralytics-8.3.10 ultralytics-thop-2.0.9\n",
            "Creating new Ultralytics Settings v0.0.6 file ✅ \n",
            "View Ultralytics Settings with 'yolo settings' or at '/root/.config/Ultralytics/settings.json'\n",
            "Update Settings with 'yolo settings key=value', i.e. 'yolo settings runs_dir=path/to/dir'. For help see https://docs.ultralytics.com/quickstart/#ultralytics-settings.\n"
          ]
        }
      ]
    },
    {
      "cell_type": "markdown",
      "source": [
        "# 새 섹션"
      ],
      "metadata": {
        "id": "hxDzYXR-kE4f"
      }
    },
    {
      "cell_type": "code",
      "source": [
        "!unzip -qq '/content/drive/MyDrive/capstone/sample/sample.zip' -d '/content/capstone/'"
      ],
      "metadata": {
        "id": "dwGg01mE0Pop"
      },
      "execution_count": null,
      "outputs": []
    },
    {
      "cell_type": "code",
      "source": [
        "# 데이터 경로 설정\n",
        "path = \"/content/capstone/\"\n",
        "image_dir = str(path + \"images/\")  # 이미지 폴더 경로\n",
        "label_dir = str(path + \"labels/\")  # 텍스트 레이블 폴더 경로\n",
        "image_output_dir = \"/content/capstone/\"  # 이미지 폴더를 저장할 경로\n",
        "label_output_dir = \"/content/capstone/\"  # 레이블 폴더를 저장할 경로"
      ],
      "metadata": {
        "id": "MfpjULmFajG-"
      },
      "execution_count": null,
      "outputs": []
    },
    {
      "cell_type": "code",
      "source": [
        "# 분할된 폴더 생성\n",
        "os.makedirs(os.path.join(image_output_dir, \"train/images\"), exist_ok=True)\n",
        "os.makedirs(os.path.join(image_output_dir, \"test/images\"), exist_ok=True)\n",
        "os.makedirs(os.path.join(image_output_dir, \"val/images\"), exist_ok=True)"
      ],
      "metadata": {
        "id": "HJq1iLi_bg4Q"
      },
      "execution_count": null,
      "outputs": []
    },
    {
      "cell_type": "code",
      "source": [
        "# 이미지 파일 목록 가져오기\n",
        "image_files = [f for f in os.listdir(image_dir) if f.lower().endswith(\".jpg\")]"
      ],
      "metadata": {
        "id": "jylZdrKEEqZT"
      },
      "execution_count": null,
      "outputs": []
    },
    {
      "cell_type": "code",
      "source": [
        "# 데이터 셔플\n",
        "random.shuffle(image_files)\n",
        "\n",
        "# 분할할 이미지 개수 계산\n",
        "total_images = len(image_files)\n",
        "train_split = int(total_images * 0.7)\n",
        "test_split = int(total_images * 0.2)\n",
        "val_split = int(total_images * 0.1)"
      ],
      "metadata": {
        "id": "dlxpA9I3bRUd"
      },
      "execution_count": null,
      "outputs": []
    },
    {
      "cell_type": "code",
      "source": [
        "# 이미지 파일 복사\n",
        "for i, image_file in enumerate(image_files):\n",
        "    if i < train_split:\n",
        "        shutil.copy(os.path.join(image_dir, image_file), os.path.join(image_output_dir, \"train/images\"))\n",
        "    elif i < train_split + val_split:\n",
        "        shutil.copy(os.path.join(image_dir, image_file), os.path.join(image_output_dir, \"val/images\"))\n",
        "    else:\n",
        "        shutil.copy(os.path.join(image_dir, image_file), os.path.join(image_output_dir, \"test/images\"))\n",
        "\n",
        "print(\"데이터 분할이 완료되었습니다!\")\n"
      ],
      "metadata": {
        "colab": {
          "base_uri": "https://localhost:8080/"
        },
        "id": "Y7Wi93cDh9kW",
        "outputId": "b1bf748f-bcfd-411b-e4b4-c79a8671b0f0"
      },
      "execution_count": null,
      "outputs": [
        {
          "output_type": "stream",
          "name": "stdout",
          "text": [
            "데이터 분할이 완료되었습니다!\n"
          ]
        }
      ]
    },
    {
      "cell_type": "code",
      "source": [
        "# 분할된 폴더 생성\n",
        "os.makedirs(os.path.join(label_output_dir, \"train/labels\"), exist_ok=True)\n",
        "os.makedirs(os.path.join(label_output_dir, \"test/labels\"), exist_ok=True)\n",
        "os.makedirs(os.path.join(label_output_dir, \"val/labels\"), exist_ok=True)"
      ],
      "metadata": {
        "id": "P1ceip0bjFjM"
      },
      "execution_count": null,
      "outputs": []
    },
    {
      "cell_type": "code",
      "source": [
        "# 원본 폴더 내 모든 파일 목록 가져오기\n",
        "label_files = [f for f in os.listdir(label_dir) if f.lower().endswith(\".txt\")]"
      ],
      "metadata": {
        "collapsed": true,
        "id": "AdyI63SLkR_S"
      },
      "execution_count": null,
      "outputs": []
    },
    {
      "cell_type": "code",
      "source": [
        "# 이미지 파일 목록 가져오기\n",
        "test_image_files = [f for f in os.listdir(\"/content/capstone/test/images\") if f.lower().endswith(\".jpg\")]\n",
        "train_image_files = [f for f in os.listdir(\"/content/capstone/train/images\") if f.lower().endswith(\".jpg\")]\n",
        "val_image_files = [f for f in os.listdir(\"/content/capstone/val/images\") if f.lower().endswith(\".jpg\")]"
      ],
      "metadata": {
        "id": "VKNWrEj3nFHx"
      },
      "execution_count": null,
      "outputs": []
    },
    {
      "cell_type": "code",
      "source": [
        "for filename in label_files:\n",
        "  file_name, _ = os.path.splitext(filename)\n",
        "  for image_file in test_image_files:\n",
        "    if file_name + \".jpg\" == image_file:\n",
        "      shutil.copy(os.path.join(label_dir, filename), os.path.join(label_output_dir, \"test/labels\"))\n",
        "  for image_file in train_image_files:\n",
        "    if file_name + \".jpg\" == image_file:\n",
        "      shutil.copy(os.path.join(label_dir, filename), os.path.join(label_output_dir, \"train/labels\"))\n",
        "  for image_file in val_image_files:\n",
        "    if file_name + \".jpg\" == image_file:\n",
        "      shutil.copy(os.path.join(label_dir, filename), os.path.join(label_output_dir, \"val/labels\"))"
      ],
      "metadata": {
        "id": "YnBU8T8Tjfvb",
        "collapsed": true
      },
      "execution_count": null,
      "outputs": []
    },
    {
      "cell_type": "code",
      "source": [
        "test_image_files = [f for f in os.listdir(\"/content/capstone/test/images\")]\n",
        "train_image_files = [f for f in os.listdir(\"/content/capstone/train/images\")]\n",
        "val_image_files = [f for f in os.listdir(\"/content/capstone/val/images\")]\n",
        "test_label_files = [f for f in os.listdir(\"/content/capstone/test/labels\")]\n",
        "train_label_files = [f for f in os.listdir(\"/content/capstone/train/labels\")]\n",
        "val_label_files = [f for f in os.listdir(\"/content/capstone/val/labels\")]"
      ],
      "metadata": {
        "id": "bYRJ0YNk49Bv"
      },
      "execution_count": null,
      "outputs": []
    },
    {
      "cell_type": "code",
      "source": [
        "print(len(test_image_files))\n",
        "print(len(train_image_files))\n",
        "print(len(val_image_files))\n",
        "print(len(test_label_files))\n",
        "print(len(train_label_files))\n",
        "print(len(val_label_files))"
      ],
      "metadata": {
        "id": "g9KcZSt74kFd"
      },
      "execution_count": null,
      "outputs": []
    },
    {
      "cell_type": "code",
      "source": [
        "!mv /content/capstone/test/images/* /content/drive/MyDrive/capstone/test/images/\n",
        "!mv /content/capstone/test/labels/* /content/drive/MyDrive/capstone/test/labels/\n",
        "!mv /content/capstone/train/images/* /content/drive/MyDrive/capstone/train/images/\n",
        "!mv /content/capstone/train/labels/* /content/drive/MyDrive/capstone/train/labels/\n",
        "!mv /content/capstone/val/images/* /content/drive/MyDrive/capstone/val/images\n",
        "!mv /content/capstone/val/labels/* /content/drive/MyDrive/capstone/val/labels"
      ],
      "metadata": {
        "id": "avoOxaJJ5G9J"
      },
      "execution_count": null,
      "outputs": []
    },
    {
      "cell_type": "code",
      "source": [
        "test_image_files = [f for f in os.listdir(\"/content/drive/MyDrive/capstone/test/images\")]\n",
        "train_image_files = [f for f in os.listdir(\"/content/drive/MyDrive/capstone/train/images\")]\n",
        "val_image_files = [f for f in os.listdir(\"/content/drive/MyDrive/capstone/val/images\")]\n",
        "test_label_files = [f for f in os.listdir(\"/content/drive/MyDrive/capstone/test/labels\")]\n",
        "train_label_files = [f for f in os.listdir(\"/content/drive/MyDrive/capstone/train/labels\")]\n",
        "val_label_files = [f for f in os.listdir(\"/content/drive/MyDrive/capstone/val/labels\")]"
      ],
      "metadata": {
        "id": "WM3zxepgY-Io"
      },
      "execution_count": null,
      "outputs": []
    },
    {
      "cell_type": "code",
      "source": [
        "print(len(test_image_files))\n",
        "print(len(train_image_files))\n",
        "print(len(val_image_files))\n",
        "print(len(test_label_files))\n",
        "print(len(train_label_files))\n",
        "print(len(val_label_files))"
      ],
      "metadata": {
        "colab": {
          "base_uri": "https://localhost:8080/"
        },
        "id": "fzyfAeJtZOig",
        "outputId": "7c2910d4-769f-4064-ba97-49d038bc63c7"
      },
      "execution_count": null,
      "outputs": [
        {
          "output_type": "stream",
          "name": "stdout",
          "text": [
            "527\n",
            "1836\n",
            "261\n",
            "527\n",
            "1836\n",
            "261\n"
          ]
        }
      ]
    },
    {
      "cell_type": "markdown",
      "source": [
        "# yolov8코드"
      ],
      "metadata": {
        "id": "5dymTytGtUms"
      }
    },
    {
      "cell_type": "code",
      "source": [
        "model = YOLO(\"yolov8n.pt\")"
      ],
      "metadata": {
        "colab": {
          "base_uri": "https://localhost:8080/"
        },
        "id": "WshnFKFwtZu5",
        "outputId": "39851079-3760-4190-9ff1-f7d5c1ac54e1"
      },
      "execution_count": null,
      "outputs": [
        {
          "output_type": "stream",
          "name": "stdout",
          "text": [
            "Downloading https://github.com/ultralytics/assets/releases/download/v8.3.0/yolov8n.pt to 'yolov8n.pt'...\n"
          ]
        },
        {
          "output_type": "stream",
          "name": "stderr",
          "text": [
            "100%|██████████| 6.25M/6.25M [00:00<00:00, 128MB/s]\n"
          ]
        }
      ]
    },
    {
      "cell_type": "code",
      "source": [
        "from IPython.display import display, Image"
      ],
      "metadata": {
        "id": "GjrYZBUp4XAJ"
      },
      "execution_count": null,
      "outputs": []
    },
    {
      "cell_type": "code",
      "source": [
        "!pip install PyYAML"
      ],
      "metadata": {
        "colab": {
          "base_uri": "https://localhost:8080/"
        },
        "id": "HySg7MPwLaFQ",
        "outputId": "f0f6afc0-d609-4c6e-b421-41802094c357"
      },
      "execution_count": null,
      "outputs": [
        {
          "output_type": "stream",
          "name": "stdout",
          "text": [
            "Requirement already satisfied: PyYAML in /usr/local/lib/python3.10/dist-packages (6.0.2)\n"
          ]
        }
      ]
    },
    {
      "cell_type": "code",
      "source": [
        "import yaml\n",
        "\n",
        "data = { 'train' : '/content/drive/MyDrive/capstone/train/images/',\n",
        "         'val' : '/content/drive/MyDrive/capstone/val/images',\n",
        "         'test' : '/content/drive/MyDrive/capstone/test/images',\n",
        "         'names' : ['fire','smoke'],\n",
        "         'nc' : 2}\n",
        "\n",
        "with open('/content/drive/MyDrive/capstone/data.yaml', 'w') as f:\n",
        "  yaml.dump(data, f)\n",
        "\n",
        "with open('/content/drive/MyDrive/capstone/data.yaml', 'r') as f:\n",
        "  fire_detect = yaml.safe_load(f)\n",
        "  display(fire_detect)"
      ],
      "metadata": {
        "colab": {
          "base_uri": "https://localhost:8080/",
          "height": 104
        },
        "id": "TtlJFjWjMG69",
        "outputId": "db1e5ee7-6a7b-4563-87d6-66dd5b74f979"
      },
      "execution_count": null,
      "outputs": [
        {
          "output_type": "display_data",
          "data": {
            "text/plain": [
              "{'names': ['fire', 'smoke'],\n",
              " 'nc': 2,\n",
              " 'test': '/content/drive/MyDrive/capstone/test/images',\n",
              " 'train': '/content/drive/MyDrive/capstone/train/images/',\n",
              " 'val': '/content/drive/MyDrive/capstone/val/images'}"
            ]
          },
          "metadata": {}
        }
      ]
    },
    {
      "cell_type": "code",
      "source": [
        "model.train(data='/content/drive/MyDrive/capstone/data.yaml', epochs=100, imgsz=640)"
      ],
      "metadata": {
        "id": "tfE0z9xu4xVz",
        "colab": {
          "base_uri": "https://localhost:8080/"
        },
        "outputId": "58099d5c-8b60-4d2a-b271-fd43b3dd25c6",
        "collapsed": true
      },
      "execution_count": null,
      "outputs": [
        {
          "output_type": "stream",
          "name": "stdout",
          "text": [
            "Ultralytics 8.3.10 🚀 Python-3.10.12 torch-2.4.1+cu121 CUDA:0 (Tesla T4, 15102MiB)\n",
            "\u001b[34m\u001b[1mengine/trainer: \u001b[0mtask=detect, mode=train, model=yolov8n.pt, data=/content/drive/MyDrive/capstone/data.yaml, epochs=100, time=None, patience=100, batch=16, imgsz=640, save=True, save_period=-1, cache=False, device=None, workers=8, project=None, name=train, exist_ok=False, pretrained=True, optimizer=auto, verbose=True, seed=0, deterministic=True, single_cls=False, rect=False, cos_lr=False, close_mosaic=10, resume=False, amp=True, fraction=1.0, profile=False, freeze=None, multi_scale=False, overlap_mask=True, mask_ratio=4, dropout=0.0, val=True, split=val, save_json=False, save_hybrid=False, conf=None, iou=0.7, max_det=300, half=False, dnn=False, plots=True, source=None, vid_stride=1, stream_buffer=False, visualize=False, augment=False, agnostic_nms=False, classes=None, retina_masks=False, embed=None, show=False, save_frames=False, save_txt=False, save_conf=False, save_crop=False, show_labels=True, show_conf=True, show_boxes=True, line_width=None, format=torchscript, keras=False, optimize=False, int8=False, dynamic=False, simplify=True, opset=None, workspace=4, nms=False, lr0=0.01, lrf=0.01, momentum=0.937, weight_decay=0.0005, warmup_epochs=3.0, warmup_momentum=0.8, warmup_bias_lr=0.1, box=7.5, cls=0.5, dfl=1.5, pose=12.0, kobj=1.0, label_smoothing=0.0, nbs=64, hsv_h=0.015, hsv_s=0.7, hsv_v=0.4, degrees=0.0, translate=0.1, scale=0.5, shear=0.0, perspective=0.0, flipud=0.0, fliplr=0.5, bgr=0.0, mosaic=1.0, mixup=0.0, copy_paste=0.0, copy_paste_mode=flip, auto_augment=randaugment, erasing=0.4, crop_fraction=1.0, cfg=None, tracker=botsort.yaml, save_dir=runs/detect/train\n",
            "Downloading https://ultralytics.com/assets/Arial.ttf to '/root/.config/Ultralytics/Arial.ttf'...\n"
          ]
        },
        {
          "output_type": "stream",
          "name": "stderr",
          "text": [
            "100%|██████████| 755k/755k [00:00<00:00, 24.4MB/s]\n"
          ]
        },
        {
          "output_type": "stream",
          "name": "stdout",
          "text": [
            "Overriding model.yaml nc=80 with nc=2\n",
            "\n",
            "                   from  n    params  module                                       arguments                     \n",
            "  0                  -1  1       464  ultralytics.nn.modules.conv.Conv             [3, 16, 3, 2]                 \n",
            "  1                  -1  1      4672  ultralytics.nn.modules.conv.Conv             [16, 32, 3, 2]                \n",
            "  2                  -1  1      7360  ultralytics.nn.modules.block.C2f             [32, 32, 1, True]             \n",
            "  3                  -1  1     18560  ultralytics.nn.modules.conv.Conv             [32, 64, 3, 2]                \n",
            "  4                  -1  2     49664  ultralytics.nn.modules.block.C2f             [64, 64, 2, True]             \n",
            "  5                  -1  1     73984  ultralytics.nn.modules.conv.Conv             [64, 128, 3, 2]               \n",
            "  6                  -1  2    197632  ultralytics.nn.modules.block.C2f             [128, 128, 2, True]           \n",
            "  7                  -1  1    295424  ultralytics.nn.modules.conv.Conv             [128, 256, 3, 2]              \n",
            "  8                  -1  1    460288  ultralytics.nn.modules.block.C2f             [256, 256, 1, True]           \n",
            "  9                  -1  1    164608  ultralytics.nn.modules.block.SPPF            [256, 256, 5]                 \n",
            " 10                  -1  1         0  torch.nn.modules.upsampling.Upsample         [None, 2, 'nearest']          \n",
            " 11             [-1, 6]  1         0  ultralytics.nn.modules.conv.Concat           [1]                           \n",
            " 12                  -1  1    148224  ultralytics.nn.modules.block.C2f             [384, 128, 1]                 \n",
            " 13                  -1  1         0  torch.nn.modules.upsampling.Upsample         [None, 2, 'nearest']          \n",
            " 14             [-1, 4]  1         0  ultralytics.nn.modules.conv.Concat           [1]                           \n",
            " 15                  -1  1     37248  ultralytics.nn.modules.block.C2f             [192, 64, 1]                  \n",
            " 16                  -1  1     36992  ultralytics.nn.modules.conv.Conv             [64, 64, 3, 2]                \n",
            " 17            [-1, 12]  1         0  ultralytics.nn.modules.conv.Concat           [1]                           \n",
            " 18                  -1  1    123648  ultralytics.nn.modules.block.C2f             [192, 128, 1]                 \n",
            " 19                  -1  1    147712  ultralytics.nn.modules.conv.Conv             [128, 128, 3, 2]              \n",
            " 20             [-1, 9]  1         0  ultralytics.nn.modules.conv.Concat           [1]                           \n",
            " 21                  -1  1    493056  ultralytics.nn.modules.block.C2f             [384, 256, 1]                 \n",
            " 22        [15, 18, 21]  1    431062  ultralytics.nn.modules.head.Detect           [2, [64, 128, 256]]           \n",
            "Model summary: 249 layers, 2,690,598 parameters, 2,690,582 gradients, 6.9 GFLOPs\n",
            "\n",
            "Transferred 313/391 items from pretrained weights\n",
            "\u001b[34m\u001b[1mTensorBoard: \u001b[0mStart with 'tensorboard --logdir runs/detect/train', view at http://localhost:6006/\n",
            "Freezing layer 'model.22.dfl.conv.weight'\n",
            "\u001b[34m\u001b[1mAMP: \u001b[0mrunning Automatic Mixed Precision (AMP) checks with YOLO11n...\n",
            "Downloading https://github.com/ultralytics/assets/releases/download/v8.3.0/yolo11n.pt to 'yolo11n.pt'...\n"
          ]
        },
        {
          "output_type": "stream",
          "name": "stderr",
          "text": [
            "100%|██████████| 5.35M/5.35M [00:00<00:00, 94.3MB/s]\n"
          ]
        },
        {
          "output_type": "stream",
          "name": "stdout",
          "text": [
            "\u001b[34m\u001b[1mAMP: \u001b[0mchecks passed ✅\n"
          ]
        },
        {
          "output_type": "stream",
          "name": "stderr",
          "text": [
            "\u001b[34m\u001b[1mtrain: \u001b[0mScanning /content/drive/MyDrive/capstone/train/labels.cache... 1836 images, 0 backgrounds, 0 corrupt: 100%|██████████| 1836/1836 [00:00<?, ?it/s]\n"
          ]
        },
        {
          "output_type": "stream",
          "name": "stdout",
          "text": [
            "\u001b[34m\u001b[1malbumentations: \u001b[0mBlur(p=0.01, blur_limit=(3, 7)), MedianBlur(p=0.01, blur_limit=(3, 7)), ToGray(p=0.01, num_output_channels=3, method='weighted_average'), CLAHE(p=0.01, clip_limit=(1, 4.0), tile_grid_size=(8, 8))\n"
          ]
        },
        {
          "output_type": "stream",
          "name": "stderr",
          "text": [
            "/usr/local/lib/python3.10/dist-packages/albumentations/__init__.py:13: UserWarning: A new version of Albumentations is available: 1.4.18 (you have 1.4.15). Upgrade using: pip install -U albumentations. To disable automatic update checks, set the environment variable NO_ALBUMENTATIONS_UPDATE to 1.\n",
            "  check_for_updates()\n",
            "\u001b[34m\u001b[1mval: \u001b[0mScanning /content/drive/MyDrive/capstone/val/labels.cache... 261 images, 0 backgrounds, 0 corrupt: 100%|██████████| 261/261 [00:00<?, ?it/s]\n"
          ]
        },
        {
          "output_type": "stream",
          "name": "stdout",
          "text": [
            "Plotting labels to runs/detect/train/labels.jpg... \n",
            "\u001b[34m\u001b[1moptimizer:\u001b[0m 'optimizer=auto' found, ignoring 'lr0=0.01' and 'momentum=0.937' and determining best 'optimizer', 'lr0' and 'momentum' automatically... \n",
            "\u001b[34m\u001b[1moptimizer:\u001b[0m AdamW(lr=0.001667, momentum=0.9) with parameter groups 63 weight(decay=0.0), 70 weight(decay=0.0005), 69 bias(decay=0.0)\n",
            "\u001b[34m\u001b[1mTensorBoard: \u001b[0mmodel graph visualization added ✅\n",
            "Image sizes 640 train, 640 val\n",
            "Using 2 dataloader workers\n",
            "Logging results to \u001b[1mruns/detect/train\u001b[0m\n",
            "Starting training for 100 epochs...\n",
            "\n",
            "      Epoch    GPU_mem   box_loss   cls_loss   dfl_loss  Instances       Size\n"
          ]
        },
        {
          "output_type": "stream",
          "name": "stderr",
          "text": [
            "      1/100      2.33G      1.903      2.994      1.824         61        640: 100%|██████████| 115/115 [05:11<00:00,  2.71s/it]\n",
            "                 Class     Images  Instances      Box(P          R      mAP50  mAP50-95): 100%|██████████| 9/9 [00:04<00:00,  2.03it/s]"
          ]
        },
        {
          "output_type": "stream",
          "name": "stdout",
          "text": [
            "                   all        261       1010      0.383      0.115      0.125     0.0457\n"
          ]
        },
        {
          "output_type": "stream",
          "name": "stderr",
          "text": [
            "\n"
          ]
        },
        {
          "output_type": "stream",
          "name": "stdout",
          "text": [
            "\n",
            "      Epoch    GPU_mem   box_loss   cls_loss   dfl_loss  Instances       Size\n"
          ]
        },
        {
          "output_type": "stream",
          "name": "stderr",
          "text": [
            "      2/100       2.4G      1.965      2.549      1.899         93        640: 100%|██████████| 115/115 [00:46<00:00,  2.46it/s]\n",
            "                 Class     Images  Instances      Box(P          R      mAP50  mAP50-95): 100%|██████████| 9/9 [00:03<00:00,  2.46it/s]\n"
          ]
        },
        {
          "output_type": "stream",
          "name": "stdout",
          "text": [
            "                   all        261       1010       0.12      0.164      0.117     0.0437\n",
            "\n",
            "      Epoch    GPU_mem   box_loss   cls_loss   dfl_loss  Instances       Size\n"
          ]
        },
        {
          "output_type": "stream",
          "name": "stderr",
          "text": [
            "      3/100      2.37G      1.951      2.423      1.901         96        640: 100%|██████████| 115/115 [00:49<00:00,  2.33it/s]\n",
            "                 Class     Images  Instances      Box(P          R      mAP50  mAP50-95): 100%|██████████| 9/9 [00:04<00:00,  2.05it/s]"
          ]
        },
        {
          "output_type": "stream",
          "name": "stdout",
          "text": [
            "                   all        261       1010      0.224       0.25      0.146     0.0493\n"
          ]
        },
        {
          "output_type": "stream",
          "name": "stderr",
          "text": [
            "\n"
          ]
        },
        {
          "output_type": "stream",
          "name": "stdout",
          "text": [
            "\n",
            "      Epoch    GPU_mem   box_loss   cls_loss   dfl_loss  Instances       Size\n"
          ]
        },
        {
          "output_type": "stream",
          "name": "stderr",
          "text": [
            "      4/100      2.34G      1.946      2.352      1.895         89        640: 100%|██████████| 115/115 [00:43<00:00,  2.64it/s]\n",
            "                 Class     Images  Instances      Box(P          R      mAP50  mAP50-95): 100%|██████████| 9/9 [00:04<00:00,  2.04it/s]"
          ]
        },
        {
          "output_type": "stream",
          "name": "stdout",
          "text": [
            "                   all        261       1010       0.31      0.256      0.203      0.079\n"
          ]
        },
        {
          "output_type": "stream",
          "name": "stderr",
          "text": [
            "\n"
          ]
        },
        {
          "output_type": "stream",
          "name": "stdout",
          "text": [
            "\n",
            "      Epoch    GPU_mem   box_loss   cls_loss   dfl_loss  Instances       Size\n"
          ]
        },
        {
          "output_type": "stream",
          "name": "stderr",
          "text": [
            "      5/100      2.32G      1.922      2.288      1.878         61        640: 100%|██████████| 115/115 [00:45<00:00,  2.54it/s]\n",
            "                 Class     Images  Instances      Box(P          R      mAP50  mAP50-95): 100%|██████████| 9/9 [00:03<00:00,  2.73it/s]"
          ]
        },
        {
          "output_type": "stream",
          "name": "stdout",
          "text": [
            "                   all        261       1010      0.383      0.277      0.254     0.0969\n"
          ]
        },
        {
          "output_type": "stream",
          "name": "stderr",
          "text": [
            "\n"
          ]
        },
        {
          "output_type": "stream",
          "name": "stdout",
          "text": [
            "\n",
            "      Epoch    GPU_mem   box_loss   cls_loss   dfl_loss  Instances       Size\n"
          ]
        },
        {
          "output_type": "stream",
          "name": "stderr",
          "text": [
            "      6/100      2.37G      1.877       2.22      1.839         70        640: 100%|██████████| 115/115 [00:50<00:00,  2.30it/s]\n",
            "                 Class     Images  Instances      Box(P          R      mAP50  mAP50-95): 100%|██████████| 9/9 [00:03<00:00,  2.79it/s]"
          ]
        },
        {
          "output_type": "stream",
          "name": "stdout",
          "text": [
            "                   all        261       1010      0.338      0.298      0.232     0.0923\n"
          ]
        },
        {
          "output_type": "stream",
          "name": "stderr",
          "text": [
            "\n"
          ]
        },
        {
          "output_type": "stream",
          "name": "stdout",
          "text": [
            "\n",
            "      Epoch    GPU_mem   box_loss   cls_loss   dfl_loss  Instances       Size\n"
          ]
        },
        {
          "output_type": "stream",
          "name": "stderr",
          "text": [
            "      7/100      2.31G       1.87      2.201      1.836         44        640: 100%|██████████| 115/115 [00:45<00:00,  2.54it/s]\n",
            "                 Class     Images  Instances      Box(P          R      mAP50  mAP50-95): 100%|██████████| 9/9 [00:04<00:00,  2.05it/s]"
          ]
        },
        {
          "output_type": "stream",
          "name": "stdout",
          "text": [
            "                   all        261       1010      0.408      0.287      0.259      0.101\n"
          ]
        },
        {
          "output_type": "stream",
          "name": "stderr",
          "text": [
            "\n"
          ]
        },
        {
          "output_type": "stream",
          "name": "stdout",
          "text": [
            "\n",
            "      Epoch    GPU_mem   box_loss   cls_loss   dfl_loss  Instances       Size\n"
          ]
        },
        {
          "output_type": "stream",
          "name": "stderr",
          "text": [
            "      8/100      2.34G      1.837      2.137      1.825         56        640: 100%|██████████| 115/115 [00:43<00:00,  2.64it/s]\n",
            "                 Class     Images  Instances      Box(P          R      mAP50  mAP50-95): 100%|██████████| 9/9 [00:05<00:00,  1.79it/s]"
          ]
        },
        {
          "output_type": "stream",
          "name": "stdout",
          "text": [
            "                   all        261       1010      0.408      0.296      0.271      0.112\n"
          ]
        },
        {
          "output_type": "stream",
          "name": "stderr",
          "text": [
            "\n"
          ]
        },
        {
          "output_type": "stream",
          "name": "stdout",
          "text": [
            "\n",
            "      Epoch    GPU_mem   box_loss   cls_loss   dfl_loss  Instances       Size\n"
          ]
        },
        {
          "output_type": "stream",
          "name": "stderr",
          "text": [
            "      9/100      2.35G      1.839       2.09      1.806         56        640: 100%|██████████| 115/115 [00:47<00:00,  2.43it/s]\n",
            "                 Class     Images  Instances      Box(P          R      mAP50  mAP50-95): 100%|██████████| 9/9 [00:03<00:00,  2.84it/s]"
          ]
        },
        {
          "output_type": "stream",
          "name": "stdout",
          "text": [
            "                   all        261       1010      0.386      0.322      0.281      0.107\n"
          ]
        },
        {
          "output_type": "stream",
          "name": "stderr",
          "text": [
            "\n"
          ]
        },
        {
          "output_type": "stream",
          "name": "stdout",
          "text": [
            "\n",
            "      Epoch    GPU_mem   box_loss   cls_loss   dfl_loss  Instances       Size\n"
          ]
        },
        {
          "output_type": "stream",
          "name": "stderr",
          "text": [
            "     10/100      2.41G       1.83      2.073       1.79         85        640: 100%|██████████| 115/115 [00:45<00:00,  2.51it/s]\n",
            "                 Class     Images  Instances      Box(P          R      mAP50  mAP50-95): 100%|██████████| 9/9 [00:03<00:00,  2.27it/s]"
          ]
        },
        {
          "output_type": "stream",
          "name": "stdout",
          "text": [
            "                   all        261       1010      0.433      0.315      0.312      0.122\n"
          ]
        },
        {
          "output_type": "stream",
          "name": "stderr",
          "text": [
            "\n"
          ]
        },
        {
          "output_type": "stream",
          "name": "stdout",
          "text": [
            "\n",
            "      Epoch    GPU_mem   box_loss   cls_loss   dfl_loss  Instances       Size\n"
          ]
        },
        {
          "output_type": "stream",
          "name": "stderr",
          "text": [
            "     11/100      2.29G      1.792      2.031      1.762         48        640: 100%|██████████| 115/115 [00:43<00:00,  2.64it/s]\n",
            "                 Class     Images  Instances      Box(P          R      mAP50  mAP50-95): 100%|██████████| 9/9 [00:05<00:00,  1.71it/s]"
          ]
        },
        {
          "output_type": "stream",
          "name": "stdout",
          "text": [
            "                   all        261       1010      0.454       0.33       0.31      0.123\n"
          ]
        },
        {
          "output_type": "stream",
          "name": "stderr",
          "text": [
            "\n"
          ]
        },
        {
          "output_type": "stream",
          "name": "stdout",
          "text": [
            "\n",
            "      Epoch    GPU_mem   box_loss   cls_loss   dfl_loss  Instances       Size\n"
          ]
        },
        {
          "output_type": "stream",
          "name": "stderr",
          "text": [
            "     12/100      2.32G       1.79       2.07      1.784         61        640: 100%|██████████| 115/115 [00:47<00:00,  2.44it/s]\n",
            "                 Class     Images  Instances      Box(P          R      mAP50  mAP50-95): 100%|██████████| 9/9 [00:04<00:00,  1.89it/s]\n"
          ]
        },
        {
          "output_type": "stream",
          "name": "stdout",
          "text": [
            "                   all        261       1010      0.376      0.352      0.325      0.135\n",
            "\n",
            "      Epoch    GPU_mem   box_loss   cls_loss   dfl_loss  Instances       Size\n"
          ]
        },
        {
          "output_type": "stream",
          "name": "stderr",
          "text": [
            "     13/100      2.31G      1.779      2.013       1.76        106        640: 100%|██████████| 115/115 [00:44<00:00,  2.60it/s]\n",
            "                 Class     Images  Instances      Box(P          R      mAP50  mAP50-95): 100%|██████████| 9/9 [00:03<00:00,  2.71it/s]\n"
          ]
        },
        {
          "output_type": "stream",
          "name": "stdout",
          "text": [
            "                   all        261       1010      0.414      0.345      0.302      0.116\n",
            "\n",
            "      Epoch    GPU_mem   box_loss   cls_loss   dfl_loss  Instances       Size\n"
          ]
        },
        {
          "output_type": "stream",
          "name": "stderr",
          "text": [
            "     14/100       2.4G      1.764       1.97      1.763         50        640: 100%|██████████| 115/115 [00:46<00:00,  2.45it/s]\n",
            "                 Class     Images  Instances      Box(P          R      mAP50  mAP50-95): 100%|██████████| 9/9 [00:05<00:00,  1.63it/s]"
          ]
        },
        {
          "output_type": "stream",
          "name": "stdout",
          "text": [
            "                   all        261       1010      0.471      0.336      0.348      0.146\n"
          ]
        },
        {
          "output_type": "stream",
          "name": "stderr",
          "text": [
            "\n"
          ]
        },
        {
          "output_type": "stream",
          "name": "stdout",
          "text": [
            "\n",
            "      Epoch    GPU_mem   box_loss   cls_loss   dfl_loss  Instances       Size\n"
          ]
        },
        {
          "output_type": "stream",
          "name": "stderr",
          "text": [
            "     15/100      2.31G       1.75      1.988      1.744         54        640: 100%|██████████| 115/115 [00:46<00:00,  2.48it/s]\n",
            "                 Class     Images  Instances      Box(P          R      mAP50  mAP50-95): 100%|██████████| 9/9 [00:03<00:00,  2.85it/s]"
          ]
        },
        {
          "output_type": "stream",
          "name": "stdout",
          "text": [
            "                   all        261       1010      0.422      0.341      0.333      0.149\n"
          ]
        },
        {
          "output_type": "stream",
          "name": "stderr",
          "text": [
            "\n"
          ]
        },
        {
          "output_type": "stream",
          "name": "stdout",
          "text": [
            "\n",
            "      Epoch    GPU_mem   box_loss   cls_loss   dfl_loss  Instances       Size\n"
          ]
        },
        {
          "output_type": "stream",
          "name": "stderr",
          "text": [
            "     16/100      2.29G      1.718      1.915       1.72         71        640: 100%|██████████| 115/115 [00:43<00:00,  2.62it/s]\n",
            "                 Class     Images  Instances      Box(P          R      mAP50  mAP50-95): 100%|██████████| 9/9 [00:05<00:00,  1.60it/s]"
          ]
        },
        {
          "output_type": "stream",
          "name": "stdout",
          "text": [
            "                   all        261       1010      0.485      0.337      0.348      0.148\n"
          ]
        },
        {
          "output_type": "stream",
          "name": "stderr",
          "text": [
            "\n"
          ]
        },
        {
          "output_type": "stream",
          "name": "stdout",
          "text": [
            "\n",
            "      Epoch    GPU_mem   box_loss   cls_loss   dfl_loss  Instances       Size\n"
          ]
        },
        {
          "output_type": "stream",
          "name": "stderr",
          "text": [
            "     17/100      2.32G      1.716      1.911      1.707         59        640: 100%|██████████| 115/115 [00:46<00:00,  2.46it/s]\n",
            "                 Class     Images  Instances      Box(P          R      mAP50  mAP50-95): 100%|██████████| 9/9 [00:03<00:00,  2.29it/s]"
          ]
        },
        {
          "output_type": "stream",
          "name": "stdout",
          "text": [
            "                   all        261       1010      0.449      0.328      0.317      0.139\n"
          ]
        },
        {
          "output_type": "stream",
          "name": "stderr",
          "text": [
            "\n"
          ]
        },
        {
          "output_type": "stream",
          "name": "stdout",
          "text": [
            "\n",
            "      Epoch    GPU_mem   box_loss   cls_loss   dfl_loss  Instances       Size\n"
          ]
        },
        {
          "output_type": "stream",
          "name": "stderr",
          "text": [
            "     18/100       2.4G      1.719      1.872      1.707        101        640: 100%|██████████| 115/115 [00:45<00:00,  2.54it/s]\n",
            "                 Class     Images  Instances      Box(P          R      mAP50  mAP50-95): 100%|██████████| 9/9 [00:03<00:00,  2.88it/s]"
          ]
        },
        {
          "output_type": "stream",
          "name": "stdout",
          "text": [
            "                   all        261       1010      0.501      0.359       0.37      0.161\n"
          ]
        },
        {
          "output_type": "stream",
          "name": "stderr",
          "text": [
            "\n"
          ]
        },
        {
          "output_type": "stream",
          "name": "stdout",
          "text": [
            "\n",
            "      Epoch    GPU_mem   box_loss   cls_loss   dfl_loss  Instances       Size\n"
          ]
        },
        {
          "output_type": "stream",
          "name": "stderr",
          "text": [
            "     19/100      2.32G      1.725       1.89      1.714         55        640: 100%|██████████| 115/115 [00:47<00:00,  2.43it/s]\n",
            "                 Class     Images  Instances      Box(P          R      mAP50  mAP50-95): 100%|██████████| 9/9 [00:02<00:00,  3.11it/s]\n"
          ]
        },
        {
          "output_type": "stream",
          "name": "stdout",
          "text": [
            "                   all        261       1010      0.417      0.354      0.349      0.157\n",
            "\n",
            "      Epoch    GPU_mem   box_loss   cls_loss   dfl_loss  Instances       Size\n"
          ]
        },
        {
          "output_type": "stream",
          "name": "stderr",
          "text": [
            "     20/100      2.32G      1.697      1.852      1.696         48        640: 100%|██████████| 115/115 [00:46<00:00,  2.48it/s]\n",
            "                 Class     Images  Instances      Box(P          R      mAP50  mAP50-95): 100%|██████████| 9/9 [00:05<00:00,  1.58it/s]"
          ]
        },
        {
          "output_type": "stream",
          "name": "stdout",
          "text": [
            "                   all        261       1010      0.435      0.343       0.35       0.16\n"
          ]
        },
        {
          "output_type": "stream",
          "name": "stderr",
          "text": [
            "\n"
          ]
        },
        {
          "output_type": "stream",
          "name": "stdout",
          "text": [
            "\n",
            "      Epoch    GPU_mem   box_loss   cls_loss   dfl_loss  Instances       Size\n"
          ]
        },
        {
          "output_type": "stream",
          "name": "stderr",
          "text": [
            "     21/100      2.41G      1.705      1.866      1.694         80        640: 100%|██████████| 115/115 [00:43<00:00,  2.62it/s]\n",
            "                 Class     Images  Instances      Box(P          R      mAP50  mAP50-95): 100%|██████████| 9/9 [00:03<00:00,  2.71it/s]\n"
          ]
        },
        {
          "output_type": "stream",
          "name": "stdout",
          "text": [
            "                   all        261       1010      0.464      0.346       0.36       0.17\n",
            "\n",
            "      Epoch    GPU_mem   box_loss   cls_loss   dfl_loss  Instances       Size\n"
          ]
        },
        {
          "output_type": "stream",
          "name": "stderr",
          "text": [
            "     22/100      2.39G        1.7      1.863      1.695         56        640: 100%|██████████| 115/115 [00:45<00:00,  2.50it/s]\n",
            "                 Class     Images  Instances      Box(P          R      mAP50  mAP50-95): 100%|██████████| 9/9 [00:03<00:00,  2.88it/s]"
          ]
        },
        {
          "output_type": "stream",
          "name": "stdout",
          "text": [
            "                   all        261       1010      0.459      0.388       0.39      0.179\n"
          ]
        },
        {
          "output_type": "stream",
          "name": "stderr",
          "text": [
            "\n"
          ]
        },
        {
          "output_type": "stream",
          "name": "stdout",
          "text": [
            "\n",
            "      Epoch    GPU_mem   box_loss   cls_loss   dfl_loss  Instances       Size\n"
          ]
        },
        {
          "output_type": "stream",
          "name": "stderr",
          "text": [
            "     23/100      2.34G      1.678      1.839      1.687         77        640: 100%|██████████| 115/115 [00:49<00:00,  2.32it/s]\n",
            "                 Class     Images  Instances      Box(P          R      mAP50  mAP50-95): 100%|██████████| 9/9 [00:03<00:00,  2.76it/s]"
          ]
        },
        {
          "output_type": "stream",
          "name": "stdout",
          "text": [
            "                   all        261       1010      0.443      0.384      0.367      0.164\n"
          ]
        },
        {
          "output_type": "stream",
          "name": "stderr",
          "text": [
            "\n"
          ]
        },
        {
          "output_type": "stream",
          "name": "stdout",
          "text": [
            "\n",
            "      Epoch    GPU_mem   box_loss   cls_loss   dfl_loss  Instances       Size\n"
          ]
        },
        {
          "output_type": "stream",
          "name": "stderr",
          "text": [
            "     24/100      2.32G      1.688      1.804      1.693         95        640: 100%|██████████| 115/115 [00:42<00:00,  2.68it/s]\n",
            "                 Class     Images  Instances      Box(P          R      mAP50  mAP50-95): 100%|██████████| 9/9 [00:05<00:00,  1.61it/s]"
          ]
        },
        {
          "output_type": "stream",
          "name": "stdout",
          "text": [
            "                   all        261       1010      0.455      0.414      0.394      0.178\n"
          ]
        },
        {
          "output_type": "stream",
          "name": "stderr",
          "text": [
            "\n"
          ]
        },
        {
          "output_type": "stream",
          "name": "stdout",
          "text": [
            "\n",
            "      Epoch    GPU_mem   box_loss   cls_loss   dfl_loss  Instances       Size\n"
          ]
        },
        {
          "output_type": "stream",
          "name": "stderr",
          "text": [
            "     25/100      2.36G      1.647      1.791      1.667         78        640: 100%|██████████| 115/115 [00:43<00:00,  2.62it/s]\n",
            "                 Class     Images  Instances      Box(P          R      mAP50  mAP50-95): 100%|██████████| 9/9 [00:03<00:00,  2.68it/s]\n"
          ]
        },
        {
          "output_type": "stream",
          "name": "stdout",
          "text": [
            "                   all        261       1010      0.507      0.375      0.398      0.179\n",
            "\n",
            "      Epoch    GPU_mem   box_loss   cls_loss   dfl_loss  Instances       Size\n"
          ]
        },
        {
          "output_type": "stream",
          "name": "stderr",
          "text": [
            "     26/100       2.4G      1.674      1.798      1.677         61        640: 100%|██████████| 115/115 [00:49<00:00,  2.34it/s]\n",
            "                 Class     Images  Instances      Box(P          R      mAP50  mAP50-95): 100%|██████████| 9/9 [00:03<00:00,  2.67it/s]\n"
          ]
        },
        {
          "output_type": "stream",
          "name": "stdout",
          "text": [
            "                   all        261       1010      0.475        0.4      0.398      0.185\n",
            "\n",
            "      Epoch    GPU_mem   box_loss   cls_loss   dfl_loss  Instances       Size\n"
          ]
        },
        {
          "output_type": "stream",
          "name": "stderr",
          "text": [
            "     27/100      2.32G      1.644      1.756      1.653         67        640: 100%|██████████| 115/115 [00:46<00:00,  2.48it/s]\n",
            "                 Class     Images  Instances      Box(P          R      mAP50  mAP50-95): 100%|██████████| 9/9 [00:03<00:00,  2.92it/s]\n"
          ]
        },
        {
          "output_type": "stream",
          "name": "stdout",
          "text": [
            "                   all        261       1010      0.475      0.387      0.398      0.187\n",
            "\n",
            "      Epoch    GPU_mem   box_loss   cls_loss   dfl_loss  Instances       Size\n"
          ]
        },
        {
          "output_type": "stream",
          "name": "stderr",
          "text": [
            "     28/100      2.32G       1.64      1.749      1.651         75        640: 100%|██████████| 115/115 [00:44<00:00,  2.57it/s]\n",
            "                 Class     Images  Instances      Box(P          R      mAP50  mAP50-95): 100%|██████████| 9/9 [00:05<00:00,  1.62it/s]"
          ]
        },
        {
          "output_type": "stream",
          "name": "stdout",
          "text": [
            "                   all        261       1010      0.544      0.377      0.414      0.193\n"
          ]
        },
        {
          "output_type": "stream",
          "name": "stderr",
          "text": [
            "\n"
          ]
        },
        {
          "output_type": "stream",
          "name": "stdout",
          "text": [
            "\n",
            "      Epoch    GPU_mem   box_loss   cls_loss   dfl_loss  Instances       Size\n"
          ]
        },
        {
          "output_type": "stream",
          "name": "stderr",
          "text": [
            "     29/100      2.31G      1.633      1.755      1.643         71        640: 100%|██████████| 115/115 [00:46<00:00,  2.47it/s]\n",
            "                 Class     Images  Instances      Box(P          R      mAP50  mAP50-95): 100%|██████████| 9/9 [00:05<00:00,  1.64it/s]\n"
          ]
        },
        {
          "output_type": "stream",
          "name": "stdout",
          "text": [
            "                   all        261       1010      0.503      0.408      0.427      0.204\n",
            "\n",
            "      Epoch    GPU_mem   box_loss   cls_loss   dfl_loss  Instances       Size\n"
          ]
        },
        {
          "output_type": "stream",
          "name": "stderr",
          "text": [
            "     30/100      2.37G       1.62      1.725      1.641         70        640: 100%|██████████| 115/115 [00:42<00:00,  2.69it/s]\n",
            "                 Class     Images  Instances      Box(P          R      mAP50  mAP50-95): 100%|██████████| 9/9 [00:03<00:00,  2.59it/s]"
          ]
        },
        {
          "output_type": "stream",
          "name": "stdout",
          "text": [
            "                   all        261       1010      0.459      0.387      0.394      0.184\n"
          ]
        },
        {
          "output_type": "stream",
          "name": "stderr",
          "text": [
            "\n"
          ]
        },
        {
          "output_type": "stream",
          "name": "stdout",
          "text": [
            "\n",
            "      Epoch    GPU_mem   box_loss   cls_loss   dfl_loss  Instances       Size\n"
          ]
        },
        {
          "output_type": "stream",
          "name": "stderr",
          "text": [
            "     31/100      2.33G      1.637      1.712      1.639         88        640: 100%|██████████| 115/115 [00:45<00:00,  2.51it/s]\n",
            "                 Class     Images  Instances      Box(P          R      mAP50  mAP50-95): 100%|██████████| 9/9 [00:05<00:00,  1.51it/s]"
          ]
        },
        {
          "output_type": "stream",
          "name": "stdout",
          "text": [
            "                   all        261       1010      0.458      0.406      0.391      0.176\n"
          ]
        },
        {
          "output_type": "stream",
          "name": "stderr",
          "text": [
            "\n"
          ]
        },
        {
          "output_type": "stream",
          "name": "stdout",
          "text": [
            "\n",
            "      Epoch    GPU_mem   box_loss   cls_loss   dfl_loss  Instances       Size\n"
          ]
        },
        {
          "output_type": "stream",
          "name": "stderr",
          "text": [
            "     32/100      2.32G      1.611      1.686      1.626         72        640: 100%|██████████| 115/115 [00:45<00:00,  2.55it/s]\n",
            "                 Class     Images  Instances      Box(P          R      mAP50  mAP50-95): 100%|██████████| 9/9 [00:03<00:00,  2.79it/s]"
          ]
        },
        {
          "output_type": "stream",
          "name": "stdout",
          "text": [
            "                   all        261       1010       0.52      0.409      0.407      0.192\n"
          ]
        },
        {
          "output_type": "stream",
          "name": "stderr",
          "text": [
            "\n"
          ]
        },
        {
          "output_type": "stream",
          "name": "stdout",
          "text": [
            "\n",
            "      Epoch    GPU_mem   box_loss   cls_loss   dfl_loss  Instances       Size\n"
          ]
        },
        {
          "output_type": "stream",
          "name": "stderr",
          "text": [
            "     33/100      2.34G      1.596       1.69      1.626         96        640: 100%|██████████| 115/115 [00:45<00:00,  2.52it/s]\n",
            "                 Class     Images  Instances      Box(P          R      mAP50  mAP50-95): 100%|██████████| 9/9 [00:04<00:00,  2.17it/s]"
          ]
        },
        {
          "output_type": "stream",
          "name": "stdout",
          "text": [
            "                   all        261       1010      0.462      0.415      0.412      0.185\n"
          ]
        },
        {
          "output_type": "stream",
          "name": "stderr",
          "text": [
            "\n"
          ]
        },
        {
          "output_type": "stream",
          "name": "stdout",
          "text": [
            "\n",
            "      Epoch    GPU_mem   box_loss   cls_loss   dfl_loss  Instances       Size\n"
          ]
        },
        {
          "output_type": "stream",
          "name": "stderr",
          "text": [
            "     34/100      2.39G      1.595      1.673      1.612         67        640: 100%|██████████| 115/115 [00:46<00:00,  2.46it/s]\n",
            "                 Class     Images  Instances      Box(P          R      mAP50  mAP50-95): 100%|██████████| 9/9 [00:05<00:00,  1.71it/s]"
          ]
        },
        {
          "output_type": "stream",
          "name": "stdout",
          "text": [
            "                   all        261       1010      0.477      0.443      0.419      0.194\n"
          ]
        },
        {
          "output_type": "stream",
          "name": "stderr",
          "text": [
            "\n"
          ]
        },
        {
          "output_type": "stream",
          "name": "stdout",
          "text": [
            "\n",
            "      Epoch    GPU_mem   box_loss   cls_loss   dfl_loss  Instances       Size\n"
          ]
        },
        {
          "output_type": "stream",
          "name": "stderr",
          "text": [
            "     35/100      2.31G      1.611       1.66      1.615         60        640: 100%|██████████| 115/115 [00:43<00:00,  2.66it/s]\n",
            "                 Class     Images  Instances      Box(P          R      mAP50  mAP50-95): 100%|██████████| 9/9 [00:03<00:00,  2.50it/s]"
          ]
        },
        {
          "output_type": "stream",
          "name": "stdout",
          "text": [
            "                   all        261       1010      0.492      0.418       0.43      0.208\n"
          ]
        },
        {
          "output_type": "stream",
          "name": "stderr",
          "text": [
            "\n"
          ]
        },
        {
          "output_type": "stream",
          "name": "stdout",
          "text": [
            "\n",
            "      Epoch    GPU_mem   box_loss   cls_loss   dfl_loss  Instances       Size\n"
          ]
        },
        {
          "output_type": "stream",
          "name": "stderr",
          "text": [
            "     36/100      2.32G      1.607      1.672      1.617         72        640: 100%|██████████| 115/115 [00:46<00:00,  2.50it/s]\n",
            "                 Class     Images  Instances      Box(P          R      mAP50  mAP50-95): 100%|██████████| 9/9 [00:03<00:00,  2.88it/s]\n"
          ]
        },
        {
          "output_type": "stream",
          "name": "stdout",
          "text": [
            "                   all        261       1010      0.479      0.441      0.439      0.204\n",
            "\n",
            "      Epoch    GPU_mem   box_loss   cls_loss   dfl_loss  Instances       Size\n"
          ]
        },
        {
          "output_type": "stream",
          "name": "stderr",
          "text": [
            "     37/100      2.31G      1.584      1.643      1.594         62        640: 100%|██████████| 115/115 [00:49<00:00,  2.31it/s]\n",
            "                 Class     Images  Instances      Box(P          R      mAP50  mAP50-95): 100%|██████████| 9/9 [00:02<00:00,  3.01it/s]\n"
          ]
        },
        {
          "output_type": "stream",
          "name": "stdout",
          "text": [
            "                   all        261       1010      0.446      0.399      0.387      0.181\n",
            "\n",
            "      Epoch    GPU_mem   box_loss   cls_loss   dfl_loss  Instances       Size\n"
          ]
        },
        {
          "output_type": "stream",
          "name": "stderr",
          "text": [
            "     38/100       2.4G      1.591      1.627      1.609         63        640: 100%|██████████| 115/115 [00:44<00:00,  2.56it/s]\n",
            "                 Class     Images  Instances      Box(P          R      mAP50  mAP50-95): 100%|██████████| 9/9 [00:04<00:00,  2.16it/s]"
          ]
        },
        {
          "output_type": "stream",
          "name": "stdout",
          "text": [
            "                   all        261       1010      0.518      0.423       0.44       0.21\n"
          ]
        },
        {
          "output_type": "stream",
          "name": "stderr",
          "text": [
            "\n"
          ]
        },
        {
          "output_type": "stream",
          "name": "stdout",
          "text": [
            "\n",
            "      Epoch    GPU_mem   box_loss   cls_loss   dfl_loss  Instances       Size\n"
          ]
        },
        {
          "output_type": "stream",
          "name": "stderr",
          "text": [
            "     39/100      2.37G      1.559      1.586      1.582         75        640: 100%|██████████| 115/115 [00:43<00:00,  2.64it/s]\n",
            "                 Class     Images  Instances      Box(P          R      mAP50  mAP50-95): 100%|██████████| 9/9 [00:04<00:00,  1.98it/s]"
          ]
        },
        {
          "output_type": "stream",
          "name": "stdout",
          "text": [
            "                   all        261       1010      0.546       0.42      0.446      0.212\n"
          ]
        },
        {
          "output_type": "stream",
          "name": "stderr",
          "text": [
            "\n"
          ]
        },
        {
          "output_type": "stream",
          "name": "stdout",
          "text": [
            "\n",
            "      Epoch    GPU_mem   box_loss   cls_loss   dfl_loss  Instances       Size\n"
          ]
        },
        {
          "output_type": "stream",
          "name": "stderr",
          "text": [
            "     40/100      2.31G      1.558      1.588       1.58         73        640: 100%|██████████| 115/115 [00:48<00:00,  2.39it/s]\n",
            "                 Class     Images  Instances      Box(P          R      mAP50  mAP50-95): 100%|██████████| 9/9 [00:02<00:00,  3.05it/s]\n"
          ]
        },
        {
          "output_type": "stream",
          "name": "stdout",
          "text": [
            "                   all        261       1010      0.542      0.404      0.435      0.213\n",
            "\n",
            "      Epoch    GPU_mem   box_loss   cls_loss   dfl_loss  Instances       Size\n"
          ]
        },
        {
          "output_type": "stream",
          "name": "stderr",
          "text": [
            "     41/100      2.43G      1.569      1.593      1.576         70        640: 100%|██████████| 115/115 [00:46<00:00,  2.45it/s]\n",
            "                 Class     Images  Instances      Box(P          R      mAP50  mAP50-95): 100%|██████████| 9/9 [00:03<00:00,  2.93it/s]"
          ]
        },
        {
          "output_type": "stream",
          "name": "stdout",
          "text": [
            "                   all        261       1010      0.506      0.405      0.422      0.202\n"
          ]
        },
        {
          "output_type": "stream",
          "name": "stderr",
          "text": [
            "\n"
          ]
        },
        {
          "output_type": "stream",
          "name": "stdout",
          "text": [
            "\n",
            "      Epoch    GPU_mem   box_loss   cls_loss   dfl_loss  Instances       Size\n"
          ]
        },
        {
          "output_type": "stream",
          "name": "stderr",
          "text": [
            "     42/100      2.41G      1.544      1.561      1.576         85        640: 100%|██████████| 115/115 [00:44<00:00,  2.59it/s]\n",
            "                 Class     Images  Instances      Box(P          R      mAP50  mAP50-95): 100%|██████████| 9/9 [00:05<00:00,  1.76it/s]\n"
          ]
        },
        {
          "output_type": "stream",
          "name": "stdout",
          "text": [
            "                   all        261       1010       0.57      0.431      0.455      0.222\n",
            "\n",
            "      Epoch    GPU_mem   box_loss   cls_loss   dfl_loss  Instances       Size\n"
          ]
        },
        {
          "output_type": "stream",
          "name": "stderr",
          "text": [
            "     43/100      2.32G      1.548      1.584      1.583         63        640: 100%|██████████| 115/115 [00:47<00:00,  2.40it/s]\n",
            "                 Class     Images  Instances      Box(P          R      mAP50  mAP50-95): 100%|██████████| 9/9 [00:04<00:00,  1.83it/s]"
          ]
        },
        {
          "output_type": "stream",
          "name": "stdout",
          "text": [
            "                   all        261       1010      0.539      0.419      0.458      0.226\n"
          ]
        },
        {
          "output_type": "stream",
          "name": "stderr",
          "text": [
            "\n"
          ]
        },
        {
          "output_type": "stream",
          "name": "stdout",
          "text": [
            "\n",
            "      Epoch    GPU_mem   box_loss   cls_loss   dfl_loss  Instances       Size\n"
          ]
        },
        {
          "output_type": "stream",
          "name": "stderr",
          "text": [
            "     44/100      2.32G      1.538      1.541       1.56         45        640: 100%|██████████| 115/115 [00:43<00:00,  2.63it/s]\n",
            "                 Class     Images  Instances      Box(P          R      mAP50  mAP50-95): 100%|██████████| 9/9 [00:03<00:00,  2.63it/s]"
          ]
        },
        {
          "output_type": "stream",
          "name": "stdout",
          "text": [
            "                   all        261       1010      0.533      0.418      0.452      0.224\n"
          ]
        },
        {
          "output_type": "stream",
          "name": "stderr",
          "text": [
            "\n"
          ]
        },
        {
          "output_type": "stream",
          "name": "stdout",
          "text": [
            "\n",
            "      Epoch    GPU_mem   box_loss   cls_loss   dfl_loss  Instances       Size\n"
          ]
        },
        {
          "output_type": "stream",
          "name": "stderr",
          "text": [
            "     45/100      2.31G      1.532      1.539      1.559         77        640: 100%|██████████| 115/115 [00:45<00:00,  2.54it/s]\n",
            "                 Class     Images  Instances      Box(P          R      mAP50  mAP50-95): 100%|██████████| 9/9 [00:03<00:00,  2.83it/s]\n"
          ]
        },
        {
          "output_type": "stream",
          "name": "stdout",
          "text": [
            "                   all        261       1010       0.55      0.424      0.461      0.231\n",
            "\n",
            "      Epoch    GPU_mem   box_loss   cls_loss   dfl_loss  Instances       Size\n"
          ]
        },
        {
          "output_type": "stream",
          "name": "stderr",
          "text": [
            "     46/100      2.39G      1.535      1.543      1.554         88        640: 100%|██████████| 115/115 [00:48<00:00,  2.36it/s]\n",
            "                 Class     Images  Instances      Box(P          R      mAP50  mAP50-95): 100%|██████████| 9/9 [00:03<00:00,  2.44it/s]\n"
          ]
        },
        {
          "output_type": "stream",
          "name": "stdout",
          "text": [
            "                   all        261       1010      0.516      0.448      0.445      0.222\n",
            "\n",
            "      Epoch    GPU_mem   box_loss   cls_loss   dfl_loss  Instances       Size\n"
          ]
        },
        {
          "output_type": "stream",
          "name": "stderr",
          "text": [
            "     47/100      2.32G      1.512      1.494      1.535         45        640: 100%|██████████| 115/115 [00:42<00:00,  2.71it/s]\n",
            "                 Class     Images  Instances      Box(P          R      mAP50  mAP50-95): 100%|██████████| 9/9 [00:05<00:00,  1.63it/s]"
          ]
        },
        {
          "output_type": "stream",
          "name": "stdout",
          "text": [
            "                   all        261       1010        0.5      0.444      0.455      0.231\n"
          ]
        },
        {
          "output_type": "stream",
          "name": "stderr",
          "text": [
            "\n"
          ]
        },
        {
          "output_type": "stream",
          "name": "stdout",
          "text": [
            "\n",
            "      Epoch    GPU_mem   box_loss   cls_loss   dfl_loss  Instances       Size\n"
          ]
        },
        {
          "output_type": "stream",
          "name": "stderr",
          "text": [
            "     48/100      2.32G      1.513       1.49      1.544         96        640: 100%|██████████| 115/115 [00:42<00:00,  2.69it/s]\n",
            "                 Class     Images  Instances      Box(P          R      mAP50  mAP50-95): 100%|██████████| 9/9 [00:03<00:00,  2.77it/s]"
          ]
        },
        {
          "output_type": "stream",
          "name": "stdout",
          "text": [
            "                   all        261       1010      0.541      0.417      0.456      0.221\n"
          ]
        },
        {
          "output_type": "stream",
          "name": "stderr",
          "text": [
            "\n"
          ]
        },
        {
          "output_type": "stream",
          "name": "stdout",
          "text": [
            "\n",
            "      Epoch    GPU_mem   box_loss   cls_loss   dfl_loss  Instances       Size\n"
          ]
        },
        {
          "output_type": "stream",
          "name": "stderr",
          "text": [
            "     49/100      2.33G      1.512      1.494      1.541         75        640: 100%|██████████| 115/115 [00:48<00:00,  2.38it/s]\n",
            "                 Class     Images  Instances      Box(P          R      mAP50  mAP50-95): 100%|██████████| 9/9 [00:03<00:00,  2.87it/s]"
          ]
        },
        {
          "output_type": "stream",
          "name": "stdout",
          "text": [
            "                   all        261       1010      0.518      0.461      0.469       0.23\n"
          ]
        },
        {
          "output_type": "stream",
          "name": "stderr",
          "text": [
            "\n"
          ]
        },
        {
          "output_type": "stream",
          "name": "stdout",
          "text": [
            "\n",
            "      Epoch    GPU_mem   box_loss   cls_loss   dfl_loss  Instances       Size\n"
          ]
        },
        {
          "output_type": "stream",
          "name": "stderr",
          "text": [
            "     50/100      2.39G      1.511      1.476      1.541         59        640: 100%|██████████| 115/115 [00:48<00:00,  2.38it/s]\n",
            "                 Class     Images  Instances      Box(P          R      mAP50  mAP50-95): 100%|██████████| 9/9 [00:04<00:00,  2.22it/s]"
          ]
        },
        {
          "output_type": "stream",
          "name": "stdout",
          "text": [
            "                   all        261       1010      0.581      0.435      0.476      0.246\n"
          ]
        },
        {
          "output_type": "stream",
          "name": "stderr",
          "text": [
            "\n"
          ]
        },
        {
          "output_type": "stream",
          "name": "stdout",
          "text": [
            "\n",
            "      Epoch    GPU_mem   box_loss   cls_loss   dfl_loss  Instances       Size\n"
          ]
        },
        {
          "output_type": "stream",
          "name": "stderr",
          "text": [
            "     51/100      2.32G      1.507      1.464      1.542         73        640: 100%|██████████| 115/115 [00:42<00:00,  2.71it/s]\n",
            "                 Class     Images  Instances      Box(P          R      mAP50  mAP50-95): 100%|██████████| 9/9 [00:05<00:00,  1.73it/s]"
          ]
        },
        {
          "output_type": "stream",
          "name": "stdout",
          "text": [
            "                   all        261       1010      0.526      0.468      0.478       0.24\n"
          ]
        },
        {
          "output_type": "stream",
          "name": "stderr",
          "text": [
            "\n"
          ]
        },
        {
          "output_type": "stream",
          "name": "stdout",
          "text": [
            "\n",
            "      Epoch    GPU_mem   box_loss   cls_loss   dfl_loss  Instances       Size\n"
          ]
        },
        {
          "output_type": "stream",
          "name": "stderr",
          "text": [
            "     52/100      2.33G      1.496      1.466       1.53         85        640: 100%|██████████| 115/115 [00:46<00:00,  2.47it/s]\n",
            "                 Class     Images  Instances      Box(P          R      mAP50  mAP50-95): 100%|██████████| 9/9 [00:03<00:00,  2.85it/s]"
          ]
        },
        {
          "output_type": "stream",
          "name": "stdout",
          "text": [
            "                   all        261       1010      0.578      0.421       0.46      0.231\n"
          ]
        },
        {
          "output_type": "stream",
          "name": "stderr",
          "text": [
            "\n"
          ]
        },
        {
          "output_type": "stream",
          "name": "stdout",
          "text": [
            "\n",
            "      Epoch    GPU_mem   box_loss   cls_loss   dfl_loss  Instances       Size\n"
          ]
        },
        {
          "output_type": "stream",
          "name": "stderr",
          "text": [
            "     53/100      2.31G      1.488      1.441      1.519         76        640: 100%|██████████| 115/115 [00:45<00:00,  2.52it/s]\n",
            "                 Class     Images  Instances      Box(P          R      mAP50  mAP50-95): 100%|██████████| 9/9 [00:03<00:00,  2.85it/s]"
          ]
        },
        {
          "output_type": "stream",
          "name": "stdout",
          "text": [
            "                   all        261       1010      0.545      0.451      0.488       0.24\n"
          ]
        },
        {
          "output_type": "stream",
          "name": "stderr",
          "text": [
            "\n"
          ]
        },
        {
          "output_type": "stream",
          "name": "stdout",
          "text": [
            "\n",
            "      Epoch    GPU_mem   box_loss   cls_loss   dfl_loss  Instances       Size\n"
          ]
        },
        {
          "output_type": "stream",
          "name": "stderr",
          "text": [
            "     54/100      2.39G      1.466      1.419      1.501         83        640: 100%|██████████| 115/115 [00:46<00:00,  2.49it/s]\n",
            "                 Class     Images  Instances      Box(P          R      mAP50  mAP50-95): 100%|██████████| 9/9 [00:04<00:00,  2.10it/s]\n"
          ]
        },
        {
          "output_type": "stream",
          "name": "stdout",
          "text": [
            "                   all        261       1010      0.489      0.475      0.468      0.236\n",
            "\n",
            "      Epoch    GPU_mem   box_loss   cls_loss   dfl_loss  Instances       Size\n"
          ]
        },
        {
          "output_type": "stream",
          "name": "stderr",
          "text": [
            "     55/100       2.3G      1.487      1.427      1.505         46        640: 100%|██████████| 115/115 [00:45<00:00,  2.51it/s]\n",
            "                 Class     Images  Instances      Box(P          R      mAP50  mAP50-95): 100%|██████████| 9/9 [00:04<00:00,  1.85it/s]"
          ]
        },
        {
          "output_type": "stream",
          "name": "stdout",
          "text": [
            "                   all        261       1010      0.541       0.48      0.492      0.244\n"
          ]
        },
        {
          "output_type": "stream",
          "name": "stderr",
          "text": [
            "\n"
          ]
        },
        {
          "output_type": "stream",
          "name": "stdout",
          "text": [
            "\n",
            "      Epoch    GPU_mem   box_loss   cls_loss   dfl_loss  Instances       Size\n"
          ]
        },
        {
          "output_type": "stream",
          "name": "stderr",
          "text": [
            "     56/100      2.32G      1.463      1.412      1.503         85        640: 100%|██████████| 115/115 [00:43<00:00,  2.63it/s]\n",
            "                 Class     Images  Instances      Box(P          R      mAP50  mAP50-95): 100%|██████████| 9/9 [00:02<00:00,  3.11it/s]"
          ]
        },
        {
          "output_type": "stream",
          "name": "stdout",
          "text": [
            "                   all        261       1010      0.551      0.455      0.479      0.246\n"
          ]
        },
        {
          "output_type": "stream",
          "name": "stderr",
          "text": [
            "\n"
          ]
        },
        {
          "output_type": "stream",
          "name": "stdout",
          "text": [
            "\n",
            "      Epoch    GPU_mem   box_loss   cls_loss   dfl_loss  Instances       Size\n"
          ]
        },
        {
          "output_type": "stream",
          "name": "stderr",
          "text": [
            "     57/100      2.33G      1.474       1.42      1.503         57        640: 100%|██████████| 115/115 [00:46<00:00,  2.49it/s]\n",
            "                 Class     Images  Instances      Box(P          R      mAP50  mAP50-95): 100%|██████████| 9/9 [00:02<00:00,  3.06it/s]"
          ]
        },
        {
          "output_type": "stream",
          "name": "stdout",
          "text": [
            "                   all        261       1010      0.492      0.439      0.457      0.227\n"
          ]
        },
        {
          "output_type": "stream",
          "name": "stderr",
          "text": [
            "\n"
          ]
        },
        {
          "output_type": "stream",
          "name": "stdout",
          "text": [
            "\n",
            "      Epoch    GPU_mem   box_loss   cls_loss   dfl_loss  Instances       Size\n"
          ]
        },
        {
          "output_type": "stream",
          "name": "stderr",
          "text": [
            "     58/100      2.39G       1.45      1.393      1.493         62        640: 100%|██████████| 115/115 [00:46<00:00,  2.46it/s]\n",
            "                 Class     Images  Instances      Box(P          R      mAP50  mAP50-95): 100%|██████████| 9/9 [00:05<00:00,  1.72it/s]"
          ]
        },
        {
          "output_type": "stream",
          "name": "stdout",
          "text": [
            "                   all        261       1010      0.529      0.467       0.48      0.246\n"
          ]
        },
        {
          "output_type": "stream",
          "name": "stderr",
          "text": [
            "\n"
          ]
        },
        {
          "output_type": "stream",
          "name": "stdout",
          "text": [
            "\n",
            "      Epoch    GPU_mem   box_loss   cls_loss   dfl_loss  Instances       Size\n"
          ]
        },
        {
          "output_type": "stream",
          "name": "stderr",
          "text": [
            "     59/100      2.31G      1.446      1.404      1.501         84        640: 100%|██████████| 115/115 [00:42<00:00,  2.69it/s]\n",
            "                 Class     Images  Instances      Box(P          R      mAP50  mAP50-95): 100%|██████████| 9/9 [00:03<00:00,  2.85it/s]"
          ]
        },
        {
          "output_type": "stream",
          "name": "stdout",
          "text": [
            "                   all        261       1010      0.627      0.445        0.5      0.253\n"
          ]
        },
        {
          "output_type": "stream",
          "name": "stderr",
          "text": [
            "\n"
          ]
        },
        {
          "output_type": "stream",
          "name": "stdout",
          "text": [
            "\n",
            "      Epoch    GPU_mem   box_loss   cls_loss   dfl_loss  Instances       Size\n"
          ]
        },
        {
          "output_type": "stream",
          "name": "stderr",
          "text": [
            "     60/100      2.32G      1.442      1.373      1.481         62        640: 100%|██████████| 115/115 [00:46<00:00,  2.48it/s]\n",
            "                 Class     Images  Instances      Box(P          R      mAP50  mAP50-95): 100%|██████████| 9/9 [00:03<00:00,  2.89it/s]\n"
          ]
        },
        {
          "output_type": "stream",
          "name": "stdout",
          "text": [
            "                   all        261       1010      0.565      0.485      0.505      0.259\n",
            "\n",
            "      Epoch    GPU_mem   box_loss   cls_loss   dfl_loss  Instances       Size\n"
          ]
        },
        {
          "output_type": "stream",
          "name": "stderr",
          "text": [
            "     61/100      2.29G      1.432      1.374      1.489         44        640: 100%|██████████| 115/115 [00:48<00:00,  2.37it/s]\n",
            "                 Class     Images  Instances      Box(P          R      mAP50  mAP50-95): 100%|██████████| 9/9 [00:03<00:00,  2.40it/s]"
          ]
        },
        {
          "output_type": "stream",
          "name": "stdout",
          "text": [
            "                   all        261       1010      0.573      0.446      0.485       0.25\n"
          ]
        },
        {
          "output_type": "stream",
          "name": "stderr",
          "text": [
            "\n"
          ]
        },
        {
          "output_type": "stream",
          "name": "stdout",
          "text": [
            "\n",
            "      Epoch    GPU_mem   box_loss   cls_loss   dfl_loss  Instances       Size\n"
          ]
        },
        {
          "output_type": "stream",
          "name": "stderr",
          "text": [
            "     62/100       2.4G      1.416      1.343      1.475         93        640: 100%|██████████| 115/115 [00:43<00:00,  2.65it/s]\n",
            "                 Class     Images  Instances      Box(P          R      mAP50  mAP50-95): 100%|██████████| 9/9 [00:03<00:00,  2.25it/s]\n"
          ]
        },
        {
          "output_type": "stream",
          "name": "stdout",
          "text": [
            "                   all        261       1010      0.469      0.506      0.475      0.243\n",
            "\n",
            "      Epoch    GPU_mem   box_loss   cls_loss   dfl_loss  Instances       Size\n"
          ]
        },
        {
          "output_type": "stream",
          "name": "stderr",
          "text": [
            "     63/100      2.32G      1.419      1.345      1.479         73        640: 100%|██████████| 115/115 [00:44<00:00,  2.59it/s]\n",
            "                 Class     Images  Instances      Box(P          R      mAP50  mAP50-95): 100%|██████████| 9/9 [00:03<00:00,  2.60it/s]\n"
          ]
        },
        {
          "output_type": "stream",
          "name": "stdout",
          "text": [
            "                   all        261       1010      0.549      0.483      0.501       0.26\n",
            "\n",
            "      Epoch    GPU_mem   box_loss   cls_loss   dfl_loss  Instances       Size\n"
          ]
        },
        {
          "output_type": "stream",
          "name": "stderr",
          "text": [
            "     64/100      2.29G      1.403       1.33      1.463         83        640: 100%|██████████| 115/115 [00:48<00:00,  2.36it/s]\n",
            "                 Class     Images  Instances      Box(P          R      mAP50  mAP50-95): 100%|██████████| 9/9 [00:03<00:00,  2.84it/s]"
          ]
        },
        {
          "output_type": "stream",
          "name": "stdout",
          "text": [
            "                   all        261       1010      0.568       0.49      0.515       0.27\n"
          ]
        },
        {
          "output_type": "stream",
          "name": "stderr",
          "text": [
            "\n"
          ]
        },
        {
          "output_type": "stream",
          "name": "stdout",
          "text": [
            "\n",
            "      Epoch    GPU_mem   box_loss   cls_loss   dfl_loss  Instances       Size\n"
          ]
        },
        {
          "output_type": "stream",
          "name": "stderr",
          "text": [
            "     65/100      2.29G      1.406      1.312      1.458         65        640: 100%|██████████| 115/115 [00:44<00:00,  2.61it/s]\n",
            "                 Class     Images  Instances      Box(P          R      mAP50  mAP50-95): 100%|██████████| 9/9 [00:05<00:00,  1.67it/s]"
          ]
        },
        {
          "output_type": "stream",
          "name": "stdout",
          "text": [
            "                   all        261       1010      0.557      0.482      0.506      0.266\n"
          ]
        },
        {
          "output_type": "stream",
          "name": "stderr",
          "text": [
            "\n"
          ]
        },
        {
          "output_type": "stream",
          "name": "stdout",
          "text": [
            "\n",
            "      Epoch    GPU_mem   box_loss   cls_loss   dfl_loss  Instances       Size\n"
          ]
        },
        {
          "output_type": "stream",
          "name": "stderr",
          "text": [
            "     66/100       2.5G      1.399      1.318      1.456         65        640: 100%|██████████| 115/115 [00:43<00:00,  2.65it/s]\n",
            "                 Class     Images  Instances      Box(P          R      mAP50  mAP50-95): 100%|██████████| 9/9 [00:04<00:00,  2.18it/s]"
          ]
        },
        {
          "output_type": "stream",
          "name": "stdout",
          "text": [
            "                   all        261       1010      0.558      0.465      0.498      0.266\n"
          ]
        },
        {
          "output_type": "stream",
          "name": "stderr",
          "text": [
            "\n"
          ]
        },
        {
          "output_type": "stream",
          "name": "stdout",
          "text": [
            "\n",
            "      Epoch    GPU_mem   box_loss   cls_loss   dfl_loss  Instances       Size\n"
          ]
        },
        {
          "output_type": "stream",
          "name": "stderr",
          "text": [
            "     67/100      2.32G      1.385      1.287      1.442         91        640: 100%|██████████| 115/115 [00:47<00:00,  2.41it/s]\n",
            "                 Class     Images  Instances      Box(P          R      mAP50  mAP50-95): 100%|██████████| 9/9 [00:03<00:00,  2.89it/s]"
          ]
        },
        {
          "output_type": "stream",
          "name": "stdout",
          "text": [
            "                   all        261       1010      0.545      0.506      0.514      0.273\n"
          ]
        },
        {
          "output_type": "stream",
          "name": "stderr",
          "text": [
            "\n"
          ]
        },
        {
          "output_type": "stream",
          "name": "stdout",
          "text": [
            "\n",
            "      Epoch    GPU_mem   box_loss   cls_loss   dfl_loss  Instances       Size\n"
          ]
        },
        {
          "output_type": "stream",
          "name": "stderr",
          "text": [
            "     68/100      2.39G      1.373      1.264      1.437         70        640: 100%|██████████| 115/115 [00:44<00:00,  2.61it/s]\n",
            "                 Class     Images  Instances      Box(P          R      mAP50  mAP50-95): 100%|██████████| 9/9 [00:04<00:00,  1.97it/s]\n"
          ]
        },
        {
          "output_type": "stream",
          "name": "stdout",
          "text": [
            "                   all        261       1010      0.613      0.483      0.522      0.283\n",
            "\n",
            "      Epoch    GPU_mem   box_loss   cls_loss   dfl_loss  Instances       Size\n"
          ]
        },
        {
          "output_type": "stream",
          "name": "stderr",
          "text": [
            "     69/100      2.32G      1.382      1.284      1.447         75        640: 100%|██████████| 115/115 [00:42<00:00,  2.68it/s]\n",
            "                 Class     Images  Instances      Box(P          R      mAP50  mAP50-95): 100%|██████████| 9/9 [00:04<00:00,  1.99it/s]"
          ]
        },
        {
          "output_type": "stream",
          "name": "stdout",
          "text": [
            "                   all        261       1010      0.629      0.442      0.501      0.271\n"
          ]
        },
        {
          "output_type": "stream",
          "name": "stderr",
          "text": [
            "\n"
          ]
        },
        {
          "output_type": "stream",
          "name": "stdout",
          "text": [
            "\n",
            "      Epoch    GPU_mem   box_loss   cls_loss   dfl_loss  Instances       Size\n"
          ]
        },
        {
          "output_type": "stream",
          "name": "stderr",
          "text": [
            "     70/100      2.37G      1.367      1.268      1.425         79        640: 100%|██████████| 115/115 [00:46<00:00,  2.46it/s]\n",
            "                 Class     Images  Instances      Box(P          R      mAP50  mAP50-95): 100%|██████████| 9/9 [00:02<00:00,  3.10it/s]"
          ]
        },
        {
          "output_type": "stream",
          "name": "stdout",
          "text": [
            "                   all        261       1010      0.564      0.496      0.514      0.276\n"
          ]
        },
        {
          "output_type": "stream",
          "name": "stderr",
          "text": [
            "\n"
          ]
        },
        {
          "output_type": "stream",
          "name": "stdout",
          "text": [
            "\n",
            "      Epoch    GPU_mem   box_loss   cls_loss   dfl_loss  Instances       Size\n"
          ]
        },
        {
          "output_type": "stream",
          "name": "stderr",
          "text": [
            "     71/100      2.34G      1.392      1.273      1.443         86        640: 100%|██████████| 115/115 [00:46<00:00,  2.48it/s]\n",
            "                 Class     Images  Instances      Box(P          R      mAP50  mAP50-95): 100%|██████████| 9/9 [00:02<00:00,  3.02it/s]\n"
          ]
        },
        {
          "output_type": "stream",
          "name": "stdout",
          "text": [
            "                   all        261       1010      0.584      0.489      0.527      0.286\n",
            "\n",
            "      Epoch    GPU_mem   box_loss   cls_loss   dfl_loss  Instances       Size\n"
          ]
        },
        {
          "output_type": "stream",
          "name": "stderr",
          "text": [
            "     72/100      2.32G      1.362      1.231      1.421         73        640: 100%|██████████| 115/115 [00:44<00:00,  2.57it/s]\n",
            "                 Class     Images  Instances      Box(P          R      mAP50  mAP50-95): 100%|██████████| 9/9 [00:04<00:00,  2.08it/s]"
          ]
        },
        {
          "output_type": "stream",
          "name": "stdout",
          "text": [
            "                   all        261       1010      0.591      0.484      0.533      0.284\n"
          ]
        },
        {
          "output_type": "stream",
          "name": "stderr",
          "text": [
            "\n"
          ]
        },
        {
          "output_type": "stream",
          "name": "stdout",
          "text": [
            "\n",
            "      Epoch    GPU_mem   box_loss   cls_loss   dfl_loss  Instances       Size\n"
          ]
        },
        {
          "output_type": "stream",
          "name": "stderr",
          "text": [
            "     73/100      2.38G      1.365      1.235      1.426         69        640: 100%|██████████| 115/115 [00:46<00:00,  2.47it/s]\n",
            "                 Class     Images  Instances      Box(P          R      mAP50  mAP50-95): 100%|██████████| 9/9 [00:05<00:00,  1.63it/s]"
          ]
        },
        {
          "output_type": "stream",
          "name": "stdout",
          "text": [
            "                   all        261       1010      0.614       0.49      0.522      0.281\n"
          ]
        },
        {
          "output_type": "stream",
          "name": "stderr",
          "text": [
            "\n"
          ]
        },
        {
          "output_type": "stream",
          "name": "stdout",
          "text": [
            "\n",
            "      Epoch    GPU_mem   box_loss   cls_loss   dfl_loss  Instances       Size\n"
          ]
        },
        {
          "output_type": "stream",
          "name": "stderr",
          "text": [
            "     74/100       2.4G      1.345      1.218      1.413         90        640: 100%|██████████| 115/115 [00:42<00:00,  2.73it/s]\n",
            "                 Class     Images  Instances      Box(P          R      mAP50  mAP50-95): 100%|██████████| 9/9 [00:03<00:00,  2.50it/s]"
          ]
        },
        {
          "output_type": "stream",
          "name": "stdout",
          "text": [
            "                   all        261       1010        0.6      0.475      0.528      0.284\n"
          ]
        },
        {
          "output_type": "stream",
          "name": "stderr",
          "text": [
            "\n"
          ]
        },
        {
          "output_type": "stream",
          "name": "stdout",
          "text": [
            "\n",
            "      Epoch    GPU_mem   box_loss   cls_loss   dfl_loss  Instances       Size\n"
          ]
        },
        {
          "output_type": "stream",
          "name": "stderr",
          "text": [
            "     75/100      2.31G      1.335      1.213      1.415         51        640: 100%|██████████| 115/115 [00:46<00:00,  2.49it/s]\n",
            "                 Class     Images  Instances      Box(P          R      mAP50  mAP50-95): 100%|██████████| 9/9 [00:02<00:00,  3.03it/s]\n"
          ]
        },
        {
          "output_type": "stream",
          "name": "stdout",
          "text": [
            "                   all        261       1010      0.608      0.514      0.544      0.292\n",
            "\n",
            "      Epoch    GPU_mem   box_loss   cls_loss   dfl_loss  Instances       Size\n"
          ]
        },
        {
          "output_type": "stream",
          "name": "stderr",
          "text": [
            "     76/100      2.41G      1.339      1.212       1.41         66        640: 100%|██████████| 115/115 [00:47<00:00,  2.43it/s]\n",
            "                 Class     Images  Instances      Box(P          R      mAP50  mAP50-95): 100%|██████████| 9/9 [00:04<00:00,  2.09it/s]"
          ]
        },
        {
          "output_type": "stream",
          "name": "stdout",
          "text": [
            "                   all        261       1010      0.611      0.515      0.546      0.298\n"
          ]
        },
        {
          "output_type": "stream",
          "name": "stderr",
          "text": [
            "\n"
          ]
        },
        {
          "output_type": "stream",
          "name": "stdout",
          "text": [
            "\n",
            "      Epoch    GPU_mem   box_loss   cls_loss   dfl_loss  Instances       Size\n"
          ]
        },
        {
          "output_type": "stream",
          "name": "stderr",
          "text": [
            "     77/100      2.32G      1.325      1.193      1.405         92        640: 100%|██████████| 115/115 [00:42<00:00,  2.70it/s]\n",
            "                 Class     Images  Instances      Box(P          R      mAP50  mAP50-95): 100%|██████████| 9/9 [00:03<00:00,  2.31it/s]\n"
          ]
        },
        {
          "output_type": "stream",
          "name": "stdout",
          "text": [
            "                   all        261       1010       0.64      0.496       0.54      0.297\n",
            "\n",
            "      Epoch    GPU_mem   box_loss   cls_loss   dfl_loss  Instances       Size\n"
          ]
        },
        {
          "output_type": "stream",
          "name": "stderr",
          "text": [
            "     78/100      2.39G       1.34      1.215      1.413         50        640: 100%|██████████| 115/115 [00:44<00:00,  2.59it/s]\n",
            "                 Class     Images  Instances      Box(P          R      mAP50  mAP50-95): 100%|██████████| 9/9 [00:02<00:00,  3.03it/s]"
          ]
        },
        {
          "output_type": "stream",
          "name": "stdout",
          "text": [
            "                   all        261       1010      0.576      0.533      0.549      0.304\n"
          ]
        },
        {
          "output_type": "stream",
          "name": "stderr",
          "text": [
            "\n"
          ]
        },
        {
          "output_type": "stream",
          "name": "stdout",
          "text": [
            "\n",
            "      Epoch    GPU_mem   box_loss   cls_loss   dfl_loss  Instances       Size\n"
          ]
        },
        {
          "output_type": "stream",
          "name": "stderr",
          "text": [
            "     79/100      2.32G      1.321      1.177       1.39         59        640: 100%|██████████| 115/115 [00:50<00:00,  2.30it/s]\n",
            "                 Class     Images  Instances      Box(P          R      mAP50  mAP50-95): 100%|██████████| 9/9 [00:03<00:00,  2.97it/s]"
          ]
        },
        {
          "output_type": "stream",
          "name": "stdout",
          "text": [
            "                   all        261       1010      0.612      0.523      0.559      0.303\n"
          ]
        },
        {
          "output_type": "stream",
          "name": "stderr",
          "text": [
            "\n"
          ]
        },
        {
          "output_type": "stream",
          "name": "stdout",
          "text": [
            "\n",
            "      Epoch    GPU_mem   box_loss   cls_loss   dfl_loss  Instances       Size\n"
          ]
        },
        {
          "output_type": "stream",
          "name": "stderr",
          "text": [
            "     80/100      2.32G      1.315      1.188      1.396         90        640: 100%|██████████| 115/115 [00:44<00:00,  2.56it/s]\n",
            "                 Class     Images  Instances      Box(P          R      mAP50  mAP50-95): 100%|██████████| 9/9 [00:04<00:00,  2.04it/s]"
          ]
        },
        {
          "output_type": "stream",
          "name": "stdout",
          "text": [
            "                   all        261       1010      0.593      0.532      0.548      0.302\n"
          ]
        },
        {
          "output_type": "stream",
          "name": "stderr",
          "text": [
            "\n"
          ]
        },
        {
          "output_type": "stream",
          "name": "stdout",
          "text": [
            "\n",
            "      Epoch    GPU_mem   box_loss   cls_loss   dfl_loss  Instances       Size\n"
          ]
        },
        {
          "output_type": "stream",
          "name": "stderr",
          "text": [
            "     81/100      2.31G      1.301      1.157      1.383         88        640: 100%|██████████| 115/115 [00:43<00:00,  2.66it/s]\n",
            "                 Class     Images  Instances      Box(P          R      mAP50  mAP50-95): 100%|██████████| 9/9 [00:05<00:00,  1.60it/s]"
          ]
        },
        {
          "output_type": "stream",
          "name": "stdout",
          "text": [
            "                   all        261       1010      0.565       0.55      0.556      0.309\n"
          ]
        },
        {
          "output_type": "stream",
          "name": "stderr",
          "text": [
            "\n"
          ]
        },
        {
          "output_type": "stream",
          "name": "stdout",
          "text": [
            "\n",
            "      Epoch    GPU_mem   box_loss   cls_loss   dfl_loss  Instances       Size\n"
          ]
        },
        {
          "output_type": "stream",
          "name": "stderr",
          "text": [
            "     82/100      2.39G      1.293      1.156      1.379         63        640: 100%|██████████| 115/115 [00:47<00:00,  2.44it/s]\n",
            "                 Class     Images  Instances      Box(P          R      mAP50  mAP50-95): 100%|██████████| 9/9 [00:03<00:00,  2.35it/s]"
          ]
        },
        {
          "output_type": "stream",
          "name": "stdout",
          "text": [
            "                   all        261       1010      0.627      0.522      0.552      0.304\n"
          ]
        },
        {
          "output_type": "stream",
          "name": "stderr",
          "text": [
            "\n"
          ]
        },
        {
          "output_type": "stream",
          "name": "stdout",
          "text": [
            "\n",
            "      Epoch    GPU_mem   box_loss   cls_loss   dfl_loss  Instances       Size\n"
          ]
        },
        {
          "output_type": "stream",
          "name": "stderr",
          "text": [
            "     83/100      2.32G      1.284      1.147      1.372         58        640: 100%|██████████| 115/115 [00:44<00:00,  2.60it/s]\n",
            "                 Class     Images  Instances      Box(P          R      mAP50  mAP50-95): 100%|██████████| 9/9 [00:03<00:00,  2.83it/s]"
          ]
        },
        {
          "output_type": "stream",
          "name": "stdout",
          "text": [
            "                   all        261       1010      0.638      0.529      0.574      0.312\n"
          ]
        },
        {
          "output_type": "stream",
          "name": "stderr",
          "text": [
            "\n"
          ]
        },
        {
          "output_type": "stream",
          "name": "stdout",
          "text": [
            "\n",
            "      Epoch    GPU_mem   box_loss   cls_loss   dfl_loss  Instances       Size\n"
          ]
        },
        {
          "output_type": "stream",
          "name": "stderr",
          "text": [
            "     84/100       2.3G      1.286      1.142      1.369        111        640: 100%|██████████| 115/115 [00:46<00:00,  2.48it/s]\n",
            "                 Class     Images  Instances      Box(P          R      mAP50  mAP50-95): 100%|██████████| 9/9 [00:03<00:00,  2.82it/s]"
          ]
        },
        {
          "output_type": "stream",
          "name": "stdout",
          "text": [
            "                   all        261       1010      0.643      0.524      0.566      0.314\n"
          ]
        },
        {
          "output_type": "stream",
          "name": "stderr",
          "text": [
            "\n"
          ]
        },
        {
          "output_type": "stream",
          "name": "stdout",
          "text": [
            "\n",
            "      Epoch    GPU_mem   box_loss   cls_loss   dfl_loss  Instances       Size\n"
          ]
        },
        {
          "output_type": "stream",
          "name": "stderr",
          "text": [
            "     85/100      2.34G      1.294      1.134      1.371         83        640: 100%|██████████| 115/115 [00:47<00:00,  2.44it/s]\n",
            "                 Class     Images  Instances      Box(P          R      mAP50  mAP50-95): 100%|██████████| 9/9 [00:05<00:00,  1.68it/s]"
          ]
        },
        {
          "output_type": "stream",
          "name": "stdout",
          "text": [
            "                   all        261       1010      0.651      0.514      0.561      0.308\n"
          ]
        },
        {
          "output_type": "stream",
          "name": "stderr",
          "text": [
            "\n"
          ]
        },
        {
          "output_type": "stream",
          "name": "stdout",
          "text": [
            "\n",
            "      Epoch    GPU_mem   box_loss   cls_loss   dfl_loss  Instances       Size\n"
          ]
        },
        {
          "output_type": "stream",
          "name": "stderr",
          "text": [
            "     86/100       2.4G      1.288      1.131      1.366         54        640: 100%|██████████| 115/115 [00:43<00:00,  2.65it/s]\n",
            "                 Class     Images  Instances      Box(P          R      mAP50  mAP50-95): 100%|██████████| 9/9 [00:03<00:00,  2.85it/s]"
          ]
        },
        {
          "output_type": "stream",
          "name": "stdout",
          "text": [
            "                   all        261       1010      0.657      0.514      0.567       0.31\n"
          ]
        },
        {
          "output_type": "stream",
          "name": "stderr",
          "text": [
            "\n"
          ]
        },
        {
          "output_type": "stream",
          "name": "stdout",
          "text": [
            "\n",
            "      Epoch    GPU_mem   box_loss   cls_loss   dfl_loss  Instances       Size\n"
          ]
        },
        {
          "output_type": "stream",
          "name": "stderr",
          "text": [
            "     87/100       2.3G      1.281      1.123      1.363         60        640: 100%|██████████| 115/115 [00:45<00:00,  2.53it/s]\n",
            "                 Class     Images  Instances      Box(P          R      mAP50  mAP50-95): 100%|██████████| 9/9 [00:03<00:00,  2.95it/s]"
          ]
        },
        {
          "output_type": "stream",
          "name": "stdout",
          "text": [
            "                   all        261       1010      0.636      0.541      0.574      0.316\n"
          ]
        },
        {
          "output_type": "stream",
          "name": "stderr",
          "text": [
            "\n"
          ]
        },
        {
          "output_type": "stream",
          "name": "stdout",
          "text": [
            "\n",
            "      Epoch    GPU_mem   box_loss   cls_loss   dfl_loss  Instances       Size\n"
          ]
        },
        {
          "output_type": "stream",
          "name": "stderr",
          "text": [
            "     88/100      2.33G       1.26      1.103      1.356         50        640: 100%|██████████| 115/115 [00:50<00:00,  2.29it/s]\n",
            "                 Class     Images  Instances      Box(P          R      mAP50  mAP50-95): 100%|██████████| 9/9 [00:03<00:00,  2.91it/s]"
          ]
        },
        {
          "output_type": "stream",
          "name": "stdout",
          "text": [
            "                   all        261       1010      0.617      0.553      0.577      0.318\n"
          ]
        },
        {
          "output_type": "stream",
          "name": "stderr",
          "text": [
            "\n"
          ]
        },
        {
          "output_type": "stream",
          "name": "stdout",
          "text": [
            "\n",
            "      Epoch    GPU_mem   box_loss   cls_loss   dfl_loss  Instances       Size\n"
          ]
        },
        {
          "output_type": "stream",
          "name": "stderr",
          "text": [
            "     89/100      2.33G      1.275      1.108      1.355         97        640: 100%|██████████| 115/115 [00:46<00:00,  2.47it/s]\n",
            "                 Class     Images  Instances      Box(P          R      mAP50  mAP50-95): 100%|██████████| 9/9 [00:03<00:00,  2.66it/s]\n"
          ]
        },
        {
          "output_type": "stream",
          "name": "stdout",
          "text": [
            "                   all        261       1010       0.65      0.538      0.575      0.323\n",
            "\n",
            "      Epoch    GPU_mem   box_loss   cls_loss   dfl_loss  Instances       Size\n"
          ]
        },
        {
          "output_type": "stream",
          "name": "stderr",
          "text": [
            "     90/100      2.39G      1.255      1.086      1.346         55        640: 100%|██████████| 115/115 [00:43<00:00,  2.65it/s]\n",
            "                 Class     Images  Instances      Box(P          R      mAP50  mAP50-95): 100%|██████████| 9/9 [00:05<00:00,  1.54it/s]"
          ]
        },
        {
          "output_type": "stream",
          "name": "stdout",
          "text": [
            "                   all        261       1010      0.686      0.506      0.573      0.318\n"
          ]
        },
        {
          "output_type": "stream",
          "name": "stderr",
          "text": [
            "\n"
          ]
        },
        {
          "output_type": "stream",
          "name": "stdout",
          "text": [
            "Closing dataloader mosaic\n",
            "\u001b[34m\u001b[1malbumentations: \u001b[0mBlur(p=0.01, blur_limit=(3, 7)), MedianBlur(p=0.01, blur_limit=(3, 7)), ToGray(p=0.01, num_output_channels=3, method='weighted_average'), CLAHE(p=0.01, clip_limit=(1, 4.0), tile_grid_size=(8, 8))\n",
            "\n",
            "      Epoch    GPU_mem   box_loss   cls_loss   dfl_loss  Instances       Size\n"
          ]
        },
        {
          "output_type": "stream",
          "name": "stderr",
          "text": [
            "     91/100      2.29G      1.241      1.039      1.355         57        640: 100%|██████████| 115/115 [00:46<00:00,  2.46it/s]\n",
            "                 Class     Images  Instances      Box(P          R      mAP50  mAP50-95): 100%|██████████| 9/9 [00:03<00:00,  2.91it/s]\n"
          ]
        },
        {
          "output_type": "stream",
          "name": "stdout",
          "text": [
            "                   all        261       1010      0.653      0.531      0.578       0.32\n",
            "\n",
            "      Epoch    GPU_mem   box_loss   cls_loss   dfl_loss  Instances       Size\n"
          ]
        },
        {
          "output_type": "stream",
          "name": "stderr",
          "text": [
            "     92/100      2.29G      1.205     0.9903      1.331         58        640: 100%|██████████| 115/115 [00:45<00:00,  2.53it/s]\n",
            "                 Class     Images  Instances      Box(P          R      mAP50  mAP50-95): 100%|██████████| 9/9 [00:02<00:00,  3.07it/s]"
          ]
        },
        {
          "output_type": "stream",
          "name": "stdout",
          "text": [
            "                   all        261       1010      0.638      0.545      0.585      0.328\n"
          ]
        },
        {
          "output_type": "stream",
          "name": "stderr",
          "text": [
            "\n"
          ]
        },
        {
          "output_type": "stream",
          "name": "stdout",
          "text": [
            "\n",
            "      Epoch    GPU_mem   box_loss   cls_loss   dfl_loss  Instances       Size\n"
          ]
        },
        {
          "output_type": "stream",
          "name": "stderr",
          "text": [
            "     93/100      2.32G      1.203     0.9765      1.331         51        640: 100%|██████████| 115/115 [00:42<00:00,  2.71it/s]\n",
            "                 Class     Images  Instances      Box(P          R      mAP50  mAP50-95): 100%|██████████| 9/9 [00:03<00:00,  2.36it/s]"
          ]
        },
        {
          "output_type": "stream",
          "name": "stdout",
          "text": [
            "                   all        261       1010      0.615      0.569      0.589      0.329\n"
          ]
        },
        {
          "output_type": "stream",
          "name": "stderr",
          "text": [
            "\n"
          ]
        },
        {
          "output_type": "stream",
          "name": "stdout",
          "text": [
            "\n",
            "      Epoch    GPU_mem   box_loss   cls_loss   dfl_loss  Instances       Size\n"
          ]
        },
        {
          "output_type": "stream",
          "name": "stderr",
          "text": [
            "     94/100      2.37G      1.186     0.9519      1.319         39        640: 100%|██████████| 115/115 [00:46<00:00,  2.45it/s]\n",
            "                 Class     Images  Instances      Box(P          R      mAP50  mAP50-95): 100%|██████████| 9/9 [00:03<00:00,  2.89it/s]\n"
          ]
        },
        {
          "output_type": "stream",
          "name": "stdout",
          "text": [
            "                   all        261       1010      0.654      0.541      0.588      0.329\n",
            "\n",
            "      Epoch    GPU_mem   box_loss   cls_loss   dfl_loss  Instances       Size\n"
          ]
        },
        {
          "output_type": "stream",
          "name": "stderr",
          "text": [
            "     95/100       2.3G      1.173     0.9283      1.301         56        640: 100%|██████████| 115/115 [00:41<00:00,  2.75it/s]\n",
            "                 Class     Images  Instances      Box(P          R      mAP50  mAP50-95): 100%|██████████| 9/9 [00:04<00:00,  2.06it/s]\n"
          ]
        },
        {
          "output_type": "stream",
          "name": "stdout",
          "text": [
            "                   all        261       1010      0.712      0.516      0.598      0.336\n",
            "\n",
            "      Epoch    GPU_mem   box_loss   cls_loss   dfl_loss  Instances       Size\n"
          ]
        },
        {
          "output_type": "stream",
          "name": "stderr",
          "text": [
            "     96/100      2.28G      1.181     0.9393      1.314         62        640: 100%|██████████| 115/115 [00:43<00:00,  2.61it/s]\n",
            "                 Class     Images  Instances      Box(P          R      mAP50  mAP50-95): 100%|██████████| 9/9 [00:02<00:00,  3.25it/s]"
          ]
        },
        {
          "output_type": "stream",
          "name": "stdout",
          "text": [
            "                   all        261       1010      0.666      0.558      0.603      0.337\n"
          ]
        },
        {
          "output_type": "stream",
          "name": "stderr",
          "text": [
            "\n"
          ]
        },
        {
          "output_type": "stream",
          "name": "stdout",
          "text": [
            "\n",
            "      Epoch    GPU_mem   box_loss   cls_loss   dfl_loss  Instances       Size\n"
          ]
        },
        {
          "output_type": "stream",
          "name": "stderr",
          "text": [
            "     97/100       2.3G      1.164     0.9264      1.309         57        640: 100%|██████████| 115/115 [00:46<00:00,  2.49it/s]\n",
            "                 Class     Images  Instances      Box(P          R      mAP50  mAP50-95): 100%|██████████| 9/9 [00:04<00:00,  1.88it/s]"
          ]
        },
        {
          "output_type": "stream",
          "name": "stdout",
          "text": [
            "                   all        261       1010      0.671      0.555      0.599       0.34\n"
          ]
        },
        {
          "output_type": "stream",
          "name": "stderr",
          "text": [
            "\n"
          ]
        },
        {
          "output_type": "stream",
          "name": "stdout",
          "text": [
            "\n",
            "      Epoch    GPU_mem   box_loss   cls_loss   dfl_loss  Instances       Size\n"
          ]
        },
        {
          "output_type": "stream",
          "name": "stderr",
          "text": [
            "     98/100      2.39G      1.157     0.9119        1.3         48        640: 100%|██████████| 115/115 [00:42<00:00,  2.71it/s]\n",
            "                 Class     Images  Instances      Box(P          R      mAP50  mAP50-95): 100%|██████████| 9/9 [00:03<00:00,  2.97it/s]\n"
          ]
        },
        {
          "output_type": "stream",
          "name": "stdout",
          "text": [
            "                   all        261       1010      0.649      0.564        0.6       0.34\n",
            "\n",
            "      Epoch    GPU_mem   box_loss   cls_loss   dfl_loss  Instances       Size\n"
          ]
        },
        {
          "output_type": "stream",
          "name": "stderr",
          "text": [
            "     99/100       2.3G      1.152     0.9126      1.296         61        640: 100%|██████████| 115/115 [00:44<00:00,  2.61it/s]\n",
            "                 Class     Images  Instances      Box(P          R      mAP50  mAP50-95): 100%|██████████| 9/9 [00:04<00:00,  2.03it/s]"
          ]
        },
        {
          "output_type": "stream",
          "name": "stdout",
          "text": [
            "                   all        261       1010       0.66      0.565      0.603      0.341\n"
          ]
        },
        {
          "output_type": "stream",
          "name": "stderr",
          "text": [
            "\n"
          ]
        },
        {
          "output_type": "stream",
          "name": "stdout",
          "text": [
            "\n",
            "      Epoch    GPU_mem   box_loss   cls_loss   dfl_loss  Instances       Size\n"
          ]
        },
        {
          "output_type": "stream",
          "name": "stderr",
          "text": [
            "    100/100      2.31G      1.149     0.9101      1.296         44        640: 100%|██████████| 115/115 [00:44<00:00,  2.56it/s]\n",
            "                 Class     Images  Instances      Box(P          R      mAP50  mAP50-95): 100%|██████████| 9/9 [00:03<00:00,  2.34it/s]"
          ]
        },
        {
          "output_type": "stream",
          "name": "stdout",
          "text": [
            "                   all        261       1010      0.664      0.562      0.602      0.341\n"
          ]
        },
        {
          "output_type": "stream",
          "name": "stderr",
          "text": [
            "\n"
          ]
        },
        {
          "output_type": "stream",
          "name": "stdout",
          "text": [
            "\n",
            "100 epochs completed in 1.484 hours.\n",
            "Optimizer stripped from runs/detect/train/weights/last.pt, 5.6MB\n",
            "Optimizer stripped from runs/detect/train/weights/best.pt, 5.6MB\n",
            "\n",
            "Validating runs/detect/train/weights/best.pt...\n",
            "Ultralytics 8.3.10 🚀 Python-3.10.12 torch-2.4.1+cu121 CUDA:0 (Tesla T4, 15102MiB)\n",
            "Model summary (fused): 186 layers, 2,684,758 parameters, 0 gradients, 6.8 GFLOPs\n"
          ]
        },
        {
          "output_type": "stream",
          "name": "stderr",
          "text": [
            "                 Class     Images  Instances      Box(P          R      mAP50  mAP50-95): 100%|██████████| 9/9 [00:07<00:00,  1.17it/s]\n"
          ]
        },
        {
          "output_type": "stream",
          "name": "stdout",
          "text": [
            "                   all        261       1010      0.672       0.56      0.603      0.341\n",
            "                  fire        257        649      0.694      0.605       0.65       0.38\n",
            "                 smoke        150        361       0.65      0.514      0.555      0.301\n",
            "Speed: 0.4ms preprocess, 3.0ms inference, 0.0ms loss, 5.5ms postprocess per image\n",
            "Results saved to \u001b[1mruns/detect/train\u001b[0m\n"
          ]
        },
        {
          "output_type": "execute_result",
          "data": {
            "text/plain": [
              "ultralytics.utils.metrics.DetMetrics object with attributes:\n",
              "\n",
              "ap_class_index: array([0, 1])\n",
              "box: ultralytics.utils.metrics.Metric object\n",
              "confusion_matrix: <ultralytics.utils.metrics.ConfusionMatrix object at 0x7bfa144abeb0>\n",
              "curves: ['Precision-Recall(B)', 'F1-Confidence(B)', 'Precision-Confidence(B)', 'Recall-Confidence(B)']\n",
              "curves_results: [[array([          0,    0.001001,    0.002002,    0.003003,    0.004004,    0.005005,    0.006006,    0.007007,    0.008008,    0.009009,     0.01001,    0.011011,    0.012012,    0.013013,    0.014014,    0.015015,    0.016016,    0.017017,    0.018018,    0.019019,     0.02002,    0.021021,    0.022022,    0.023023,\n",
              "          0.024024,    0.025025,    0.026026,    0.027027,    0.028028,    0.029029,     0.03003,    0.031031,    0.032032,    0.033033,    0.034034,    0.035035,    0.036036,    0.037037,    0.038038,    0.039039,     0.04004,    0.041041,    0.042042,    0.043043,    0.044044,    0.045045,    0.046046,    0.047047,\n",
              "          0.048048,    0.049049,     0.05005,    0.051051,    0.052052,    0.053053,    0.054054,    0.055055,    0.056056,    0.057057,    0.058058,    0.059059,     0.06006,    0.061061,    0.062062,    0.063063,    0.064064,    0.065065,    0.066066,    0.067067,    0.068068,    0.069069,     0.07007,    0.071071,\n",
              "          0.072072,    0.073073,    0.074074,    0.075075,    0.076076,    0.077077,    0.078078,    0.079079,     0.08008,    0.081081,    0.082082,    0.083083,    0.084084,    0.085085,    0.086086,    0.087087,    0.088088,    0.089089,     0.09009,    0.091091,    0.092092,    0.093093,    0.094094,    0.095095,\n",
              "          0.096096,    0.097097,    0.098098,    0.099099,      0.1001,      0.1011,      0.1021,      0.1031,      0.1041,     0.10511,     0.10611,     0.10711,     0.10811,     0.10911,     0.11011,     0.11111,     0.11211,     0.11311,     0.11411,     0.11512,     0.11612,     0.11712,     0.11812,     0.11912,\n",
              "           0.12012,     0.12112,     0.12212,     0.12312,     0.12412,     0.12513,     0.12613,     0.12713,     0.12813,     0.12913,     0.13013,     0.13113,     0.13213,     0.13313,     0.13413,     0.13514,     0.13614,     0.13714,     0.13814,     0.13914,     0.14014,     0.14114,     0.14214,     0.14314,\n",
              "           0.14414,     0.14515,     0.14615,     0.14715,     0.14815,     0.14915,     0.15015,     0.15115,     0.15215,     0.15315,     0.15415,     0.15516,     0.15616,     0.15716,     0.15816,     0.15916,     0.16016,     0.16116,     0.16216,     0.16316,     0.16416,     0.16517,     0.16617,     0.16717,\n",
              "           0.16817,     0.16917,     0.17017,     0.17117,     0.17217,     0.17317,     0.17417,     0.17518,     0.17618,     0.17718,     0.17818,     0.17918,     0.18018,     0.18118,     0.18218,     0.18318,     0.18418,     0.18519,     0.18619,     0.18719,     0.18819,     0.18919,     0.19019,     0.19119,\n",
              "           0.19219,     0.19319,     0.19419,      0.1952,      0.1962,      0.1972,      0.1982,      0.1992,      0.2002,      0.2012,      0.2022,      0.2032,      0.2042,     0.20521,     0.20621,     0.20721,     0.20821,     0.20921,     0.21021,     0.21121,     0.21221,     0.21321,     0.21421,     0.21522,\n",
              "           0.21622,     0.21722,     0.21822,     0.21922,     0.22022,     0.22122,     0.22222,     0.22322,     0.22422,     0.22523,     0.22623,     0.22723,     0.22823,     0.22923,     0.23023,     0.23123,     0.23223,     0.23323,     0.23423,     0.23524,     0.23624,     0.23724,     0.23824,     0.23924,\n",
              "           0.24024,     0.24124,     0.24224,     0.24324,     0.24424,     0.24525,     0.24625,     0.24725,     0.24825,     0.24925,     0.25025,     0.25125,     0.25225,     0.25325,     0.25425,     0.25526,     0.25626,     0.25726,     0.25826,     0.25926,     0.26026,     0.26126,     0.26226,     0.26326,\n",
              "           0.26426,     0.26527,     0.26627,     0.26727,     0.26827,     0.26927,     0.27027,     0.27127,     0.27227,     0.27327,     0.27427,     0.27528,     0.27628,     0.27728,     0.27828,     0.27928,     0.28028,     0.28128,     0.28228,     0.28328,     0.28428,     0.28529,     0.28629,     0.28729,\n",
              "           0.28829,     0.28929,     0.29029,     0.29129,     0.29229,     0.29329,     0.29429,      0.2953,      0.2963,      0.2973,      0.2983,      0.2993,      0.3003,      0.3013,      0.3023,      0.3033,      0.3043,     0.30531,     0.30631,     0.30731,     0.30831,     0.30931,     0.31031,     0.31131,\n",
              "           0.31231,     0.31331,     0.31431,     0.31532,     0.31632,     0.31732,     0.31832,     0.31932,     0.32032,     0.32132,     0.32232,     0.32332,     0.32432,     0.32533,     0.32633,     0.32733,     0.32833,     0.32933,     0.33033,     0.33133,     0.33233,     0.33333,     0.33433,     0.33534,\n",
              "           0.33634,     0.33734,     0.33834,     0.33934,     0.34034,     0.34134,     0.34234,     0.34334,     0.34434,     0.34535,     0.34635,     0.34735,     0.34835,     0.34935,     0.35035,     0.35135,     0.35235,     0.35335,     0.35435,     0.35536,     0.35636,     0.35736,     0.35836,     0.35936,\n",
              "           0.36036,     0.36136,     0.36236,     0.36336,     0.36436,     0.36537,     0.36637,     0.36737,     0.36837,     0.36937,     0.37037,     0.37137,     0.37237,     0.37337,     0.37437,     0.37538,     0.37638,     0.37738,     0.37838,     0.37938,     0.38038,     0.38138,     0.38238,     0.38338,\n",
              "           0.38438,     0.38539,     0.38639,     0.38739,     0.38839,     0.38939,     0.39039,     0.39139,     0.39239,     0.39339,     0.39439,      0.3954,      0.3964,      0.3974,      0.3984,      0.3994,      0.4004,      0.4014,      0.4024,      0.4034,      0.4044,     0.40541,     0.40641,     0.40741,\n",
              "           0.40841,     0.40941,     0.41041,     0.41141,     0.41241,     0.41341,     0.41441,     0.41542,     0.41642,     0.41742,     0.41842,     0.41942,     0.42042,     0.42142,     0.42242,     0.42342,     0.42442,     0.42543,     0.42643,     0.42743,     0.42843,     0.42943,     0.43043,     0.43143,\n",
              "           0.43243,     0.43343,     0.43443,     0.43544,     0.43644,     0.43744,     0.43844,     0.43944,     0.44044,     0.44144,     0.44244,     0.44344,     0.44444,     0.44545,     0.44645,     0.44745,     0.44845,     0.44945,     0.45045,     0.45145,     0.45245,     0.45345,     0.45445,     0.45546,\n",
              "           0.45646,     0.45746,     0.45846,     0.45946,     0.46046,     0.46146,     0.46246,     0.46346,     0.46446,     0.46547,     0.46647,     0.46747,     0.46847,     0.46947,     0.47047,     0.47147,     0.47247,     0.47347,     0.47447,     0.47548,     0.47648,     0.47748,     0.47848,     0.47948,\n",
              "           0.48048,     0.48148,     0.48248,     0.48348,     0.48448,     0.48549,     0.48649,     0.48749,     0.48849,     0.48949,     0.49049,     0.49149,     0.49249,     0.49349,     0.49449,      0.4955,      0.4965,      0.4975,      0.4985,      0.4995,      0.5005,      0.5015,      0.5025,      0.5035,\n",
              "            0.5045,     0.50551,     0.50651,     0.50751,     0.50851,     0.50951,     0.51051,     0.51151,     0.51251,     0.51351,     0.51451,     0.51552,     0.51652,     0.51752,     0.51852,     0.51952,     0.52052,     0.52152,     0.52252,     0.52352,     0.52452,     0.52553,     0.52653,     0.52753,\n",
              "           0.52853,     0.52953,     0.53053,     0.53153,     0.53253,     0.53353,     0.53453,     0.53554,     0.53654,     0.53754,     0.53854,     0.53954,     0.54054,     0.54154,     0.54254,     0.54354,     0.54454,     0.54555,     0.54655,     0.54755,     0.54855,     0.54955,     0.55055,     0.55155,\n",
              "           0.55255,     0.55355,     0.55455,     0.55556,     0.55656,     0.55756,     0.55856,     0.55956,     0.56056,     0.56156,     0.56256,     0.56356,     0.56456,     0.56557,     0.56657,     0.56757,     0.56857,     0.56957,     0.57057,     0.57157,     0.57257,     0.57357,     0.57457,     0.57558,\n",
              "           0.57658,     0.57758,     0.57858,     0.57958,     0.58058,     0.58158,     0.58258,     0.58358,     0.58458,     0.58559,     0.58659,     0.58759,     0.58859,     0.58959,     0.59059,     0.59159,     0.59259,     0.59359,     0.59459,      0.5956,      0.5966,      0.5976,      0.5986,      0.5996,\n",
              "            0.6006,      0.6016,      0.6026,      0.6036,      0.6046,     0.60561,     0.60661,     0.60761,     0.60861,     0.60961,     0.61061,     0.61161,     0.61261,     0.61361,     0.61461,     0.61562,     0.61662,     0.61762,     0.61862,     0.61962,     0.62062,     0.62162,     0.62262,     0.62362,\n",
              "           0.62462,     0.62563,     0.62663,     0.62763,     0.62863,     0.62963,     0.63063,     0.63163,     0.63263,     0.63363,     0.63463,     0.63564,     0.63664,     0.63764,     0.63864,     0.63964,     0.64064,     0.64164,     0.64264,     0.64364,     0.64464,     0.64565,     0.64665,     0.64765,\n",
              "           0.64865,     0.64965,     0.65065,     0.65165,     0.65265,     0.65365,     0.65465,     0.65566,     0.65666,     0.65766,     0.65866,     0.65966,     0.66066,     0.66166,     0.66266,     0.66366,     0.66466,     0.66567,     0.66667,     0.66767,     0.66867,     0.66967,     0.67067,     0.67167,\n",
              "           0.67267,     0.67367,     0.67467,     0.67568,     0.67668,     0.67768,     0.67868,     0.67968,     0.68068,     0.68168,     0.68268,     0.68368,     0.68468,     0.68569,     0.68669,     0.68769,     0.68869,     0.68969,     0.69069,     0.69169,     0.69269,     0.69369,     0.69469,      0.6957,\n",
              "            0.6967,      0.6977,      0.6987,      0.6997,      0.7007,      0.7017,      0.7027,      0.7037,      0.7047,     0.70571,     0.70671,     0.70771,     0.70871,     0.70971,     0.71071,     0.71171,     0.71271,     0.71371,     0.71471,     0.71572,     0.71672,     0.71772,     0.71872,     0.71972,\n",
              "           0.72072,     0.72172,     0.72272,     0.72372,     0.72472,     0.72573,     0.72673,     0.72773,     0.72873,     0.72973,     0.73073,     0.73173,     0.73273,     0.73373,     0.73473,     0.73574,     0.73674,     0.73774,     0.73874,     0.73974,     0.74074,     0.74174,     0.74274,     0.74374,\n",
              "           0.74474,     0.74575,     0.74675,     0.74775,     0.74875,     0.74975,     0.75075,     0.75175,     0.75275,     0.75375,     0.75475,     0.75576,     0.75676,     0.75776,     0.75876,     0.75976,     0.76076,     0.76176,     0.76276,     0.76376,     0.76476,     0.76577,     0.76677,     0.76777,\n",
              "           0.76877,     0.76977,     0.77077,     0.77177,     0.77277,     0.77377,     0.77477,     0.77578,     0.77678,     0.77778,     0.77878,     0.77978,     0.78078,     0.78178,     0.78278,     0.78378,     0.78478,     0.78579,     0.78679,     0.78779,     0.78879,     0.78979,     0.79079,     0.79179,\n",
              "           0.79279,     0.79379,     0.79479,      0.7958,      0.7968,      0.7978,      0.7988,      0.7998,      0.8008,      0.8018,      0.8028,      0.8038,      0.8048,     0.80581,     0.80681,     0.80781,     0.80881,     0.80981,     0.81081,     0.81181,     0.81281,     0.81381,     0.81481,     0.81582,\n",
              "           0.81682,     0.81782,     0.81882,     0.81982,     0.82082,     0.82182,     0.82282,     0.82382,     0.82482,     0.82583,     0.82683,     0.82783,     0.82883,     0.82983,     0.83083,     0.83183,     0.83283,     0.83383,     0.83483,     0.83584,     0.83684,     0.83784,     0.83884,     0.83984,\n",
              "           0.84084,     0.84184,     0.84284,     0.84384,     0.84484,     0.84585,     0.84685,     0.84785,     0.84885,     0.84985,     0.85085,     0.85185,     0.85285,     0.85385,     0.85485,     0.85586,     0.85686,     0.85786,     0.85886,     0.85986,     0.86086,     0.86186,     0.86286,     0.86386,\n",
              "           0.86486,     0.86587,     0.86687,     0.86787,     0.86887,     0.86987,     0.87087,     0.87187,     0.87287,     0.87387,     0.87487,     0.87588,     0.87688,     0.87788,     0.87888,     0.87988,     0.88088,     0.88188,     0.88288,     0.88388,     0.88488,     0.88589,     0.88689,     0.88789,\n",
              "           0.88889,     0.88989,     0.89089,     0.89189,     0.89289,     0.89389,     0.89489,      0.8959,      0.8969,      0.8979,      0.8989,      0.8999,      0.9009,      0.9019,      0.9029,      0.9039,      0.9049,     0.90591,     0.90691,     0.90791,     0.90891,     0.90991,     0.91091,     0.91191,\n",
              "           0.91291,     0.91391,     0.91491,     0.91592,     0.91692,     0.91792,     0.91892,     0.91992,     0.92092,     0.92192,     0.92292,     0.92392,     0.92492,     0.92593,     0.92693,     0.92793,     0.92893,     0.92993,     0.93093,     0.93193,     0.93293,     0.93393,     0.93493,     0.93594,\n",
              "           0.93694,     0.93794,     0.93894,     0.93994,     0.94094,     0.94194,     0.94294,     0.94394,     0.94494,     0.94595,     0.94695,     0.94795,     0.94895,     0.94995,     0.95095,     0.95195,     0.95295,     0.95395,     0.95495,     0.95596,     0.95696,     0.95796,     0.95896,     0.95996,\n",
              "           0.96096,     0.96196,     0.96296,     0.96396,     0.96496,     0.96597,     0.96697,     0.96797,     0.96897,     0.96997,     0.97097,     0.97197,     0.97297,     0.97397,     0.97497,     0.97598,     0.97698,     0.97798,     0.97898,     0.97998,     0.98098,     0.98198,     0.98298,     0.98398,\n",
              "           0.98498,     0.98599,     0.98699,     0.98799,     0.98899,     0.98999,     0.99099,     0.99199,     0.99299,     0.99399,     0.99499,       0.996,       0.997,       0.998,       0.999,           1]), array([[          1,           1,           1, ...,   0.0011183,  0.00055915,           0],\n",
              "       [          1,           1,           1, ...,  0.00039516,  0.00019758,           0]]), 'Recall', 'Precision'], [array([          0,    0.001001,    0.002002,    0.003003,    0.004004,    0.005005,    0.006006,    0.007007,    0.008008,    0.009009,     0.01001,    0.011011,    0.012012,    0.013013,    0.014014,    0.015015,    0.016016,    0.017017,    0.018018,    0.019019,     0.02002,    0.021021,    0.022022,    0.023023,\n",
              "          0.024024,    0.025025,    0.026026,    0.027027,    0.028028,    0.029029,     0.03003,    0.031031,    0.032032,    0.033033,    0.034034,    0.035035,    0.036036,    0.037037,    0.038038,    0.039039,     0.04004,    0.041041,    0.042042,    0.043043,    0.044044,    0.045045,    0.046046,    0.047047,\n",
              "          0.048048,    0.049049,     0.05005,    0.051051,    0.052052,    0.053053,    0.054054,    0.055055,    0.056056,    0.057057,    0.058058,    0.059059,     0.06006,    0.061061,    0.062062,    0.063063,    0.064064,    0.065065,    0.066066,    0.067067,    0.068068,    0.069069,     0.07007,    0.071071,\n",
              "          0.072072,    0.073073,    0.074074,    0.075075,    0.076076,    0.077077,    0.078078,    0.079079,     0.08008,    0.081081,    0.082082,    0.083083,    0.084084,    0.085085,    0.086086,    0.087087,    0.088088,    0.089089,     0.09009,    0.091091,    0.092092,    0.093093,    0.094094,    0.095095,\n",
              "          0.096096,    0.097097,    0.098098,    0.099099,      0.1001,      0.1011,      0.1021,      0.1031,      0.1041,     0.10511,     0.10611,     0.10711,     0.10811,     0.10911,     0.11011,     0.11111,     0.11211,     0.11311,     0.11411,     0.11512,     0.11612,     0.11712,     0.11812,     0.11912,\n",
              "           0.12012,     0.12112,     0.12212,     0.12312,     0.12412,     0.12513,     0.12613,     0.12713,     0.12813,     0.12913,     0.13013,     0.13113,     0.13213,     0.13313,     0.13413,     0.13514,     0.13614,     0.13714,     0.13814,     0.13914,     0.14014,     0.14114,     0.14214,     0.14314,\n",
              "           0.14414,     0.14515,     0.14615,     0.14715,     0.14815,     0.14915,     0.15015,     0.15115,     0.15215,     0.15315,     0.15415,     0.15516,     0.15616,     0.15716,     0.15816,     0.15916,     0.16016,     0.16116,     0.16216,     0.16316,     0.16416,     0.16517,     0.16617,     0.16717,\n",
              "           0.16817,     0.16917,     0.17017,     0.17117,     0.17217,     0.17317,     0.17417,     0.17518,     0.17618,     0.17718,     0.17818,     0.17918,     0.18018,     0.18118,     0.18218,     0.18318,     0.18418,     0.18519,     0.18619,     0.18719,     0.18819,     0.18919,     0.19019,     0.19119,\n",
              "           0.19219,     0.19319,     0.19419,      0.1952,      0.1962,      0.1972,      0.1982,      0.1992,      0.2002,      0.2012,      0.2022,      0.2032,      0.2042,     0.20521,     0.20621,     0.20721,     0.20821,     0.20921,     0.21021,     0.21121,     0.21221,     0.21321,     0.21421,     0.21522,\n",
              "           0.21622,     0.21722,     0.21822,     0.21922,     0.22022,     0.22122,     0.22222,     0.22322,     0.22422,     0.22523,     0.22623,     0.22723,     0.22823,     0.22923,     0.23023,     0.23123,     0.23223,     0.23323,     0.23423,     0.23524,     0.23624,     0.23724,     0.23824,     0.23924,\n",
              "           0.24024,     0.24124,     0.24224,     0.24324,     0.24424,     0.24525,     0.24625,     0.24725,     0.24825,     0.24925,     0.25025,     0.25125,     0.25225,     0.25325,     0.25425,     0.25526,     0.25626,     0.25726,     0.25826,     0.25926,     0.26026,     0.26126,     0.26226,     0.26326,\n",
              "           0.26426,     0.26527,     0.26627,     0.26727,     0.26827,     0.26927,     0.27027,     0.27127,     0.27227,     0.27327,     0.27427,     0.27528,     0.27628,     0.27728,     0.27828,     0.27928,     0.28028,     0.28128,     0.28228,     0.28328,     0.28428,     0.28529,     0.28629,     0.28729,\n",
              "           0.28829,     0.28929,     0.29029,     0.29129,     0.29229,     0.29329,     0.29429,      0.2953,      0.2963,      0.2973,      0.2983,      0.2993,      0.3003,      0.3013,      0.3023,      0.3033,      0.3043,     0.30531,     0.30631,     0.30731,     0.30831,     0.30931,     0.31031,     0.31131,\n",
              "           0.31231,     0.31331,     0.31431,     0.31532,     0.31632,     0.31732,     0.31832,     0.31932,     0.32032,     0.32132,     0.32232,     0.32332,     0.32432,     0.32533,     0.32633,     0.32733,     0.32833,     0.32933,     0.33033,     0.33133,     0.33233,     0.33333,     0.33433,     0.33534,\n",
              "           0.33634,     0.33734,     0.33834,     0.33934,     0.34034,     0.34134,     0.34234,     0.34334,     0.34434,     0.34535,     0.34635,     0.34735,     0.34835,     0.34935,     0.35035,     0.35135,     0.35235,     0.35335,     0.35435,     0.35536,     0.35636,     0.35736,     0.35836,     0.35936,\n",
              "           0.36036,     0.36136,     0.36236,     0.36336,     0.36436,     0.36537,     0.36637,     0.36737,     0.36837,     0.36937,     0.37037,     0.37137,     0.37237,     0.37337,     0.37437,     0.37538,     0.37638,     0.37738,     0.37838,     0.37938,     0.38038,     0.38138,     0.38238,     0.38338,\n",
              "           0.38438,     0.38539,     0.38639,     0.38739,     0.38839,     0.38939,     0.39039,     0.39139,     0.39239,     0.39339,     0.39439,      0.3954,      0.3964,      0.3974,      0.3984,      0.3994,      0.4004,      0.4014,      0.4024,      0.4034,      0.4044,     0.40541,     0.40641,     0.40741,\n",
              "           0.40841,     0.40941,     0.41041,     0.41141,     0.41241,     0.41341,     0.41441,     0.41542,     0.41642,     0.41742,     0.41842,     0.41942,     0.42042,     0.42142,     0.42242,     0.42342,     0.42442,     0.42543,     0.42643,     0.42743,     0.42843,     0.42943,     0.43043,     0.43143,\n",
              "           0.43243,     0.43343,     0.43443,     0.43544,     0.43644,     0.43744,     0.43844,     0.43944,     0.44044,     0.44144,     0.44244,     0.44344,     0.44444,     0.44545,     0.44645,     0.44745,     0.44845,     0.44945,     0.45045,     0.45145,     0.45245,     0.45345,     0.45445,     0.45546,\n",
              "           0.45646,     0.45746,     0.45846,     0.45946,     0.46046,     0.46146,     0.46246,     0.46346,     0.46446,     0.46547,     0.46647,     0.46747,     0.46847,     0.46947,     0.47047,     0.47147,     0.47247,     0.47347,     0.47447,     0.47548,     0.47648,     0.47748,     0.47848,     0.47948,\n",
              "           0.48048,     0.48148,     0.48248,     0.48348,     0.48448,     0.48549,     0.48649,     0.48749,     0.48849,     0.48949,     0.49049,     0.49149,     0.49249,     0.49349,     0.49449,      0.4955,      0.4965,      0.4975,      0.4985,      0.4995,      0.5005,      0.5015,      0.5025,      0.5035,\n",
              "            0.5045,     0.50551,     0.50651,     0.50751,     0.50851,     0.50951,     0.51051,     0.51151,     0.51251,     0.51351,     0.51451,     0.51552,     0.51652,     0.51752,     0.51852,     0.51952,     0.52052,     0.52152,     0.52252,     0.52352,     0.52452,     0.52553,     0.52653,     0.52753,\n",
              "           0.52853,     0.52953,     0.53053,     0.53153,     0.53253,     0.53353,     0.53453,     0.53554,     0.53654,     0.53754,     0.53854,     0.53954,     0.54054,     0.54154,     0.54254,     0.54354,     0.54454,     0.54555,     0.54655,     0.54755,     0.54855,     0.54955,     0.55055,     0.55155,\n",
              "           0.55255,     0.55355,     0.55455,     0.55556,     0.55656,     0.55756,     0.55856,     0.55956,     0.56056,     0.56156,     0.56256,     0.56356,     0.56456,     0.56557,     0.56657,     0.56757,     0.56857,     0.56957,     0.57057,     0.57157,     0.57257,     0.57357,     0.57457,     0.57558,\n",
              "           0.57658,     0.57758,     0.57858,     0.57958,     0.58058,     0.58158,     0.58258,     0.58358,     0.58458,     0.58559,     0.58659,     0.58759,     0.58859,     0.58959,     0.59059,     0.59159,     0.59259,     0.59359,     0.59459,      0.5956,      0.5966,      0.5976,      0.5986,      0.5996,\n",
              "            0.6006,      0.6016,      0.6026,      0.6036,      0.6046,     0.60561,     0.60661,     0.60761,     0.60861,     0.60961,     0.61061,     0.61161,     0.61261,     0.61361,     0.61461,     0.61562,     0.61662,     0.61762,     0.61862,     0.61962,     0.62062,     0.62162,     0.62262,     0.62362,\n",
              "           0.62462,     0.62563,     0.62663,     0.62763,     0.62863,     0.62963,     0.63063,     0.63163,     0.63263,     0.63363,     0.63463,     0.63564,     0.63664,     0.63764,     0.63864,     0.63964,     0.64064,     0.64164,     0.64264,     0.64364,     0.64464,     0.64565,     0.64665,     0.64765,\n",
              "           0.64865,     0.64965,     0.65065,     0.65165,     0.65265,     0.65365,     0.65465,     0.65566,     0.65666,     0.65766,     0.65866,     0.65966,     0.66066,     0.66166,     0.66266,     0.66366,     0.66466,     0.66567,     0.66667,     0.66767,     0.66867,     0.66967,     0.67067,     0.67167,\n",
              "           0.67267,     0.67367,     0.67467,     0.67568,     0.67668,     0.67768,     0.67868,     0.67968,     0.68068,     0.68168,     0.68268,     0.68368,     0.68468,     0.68569,     0.68669,     0.68769,     0.68869,     0.68969,     0.69069,     0.69169,     0.69269,     0.69369,     0.69469,      0.6957,\n",
              "            0.6967,      0.6977,      0.6987,      0.6997,      0.7007,      0.7017,      0.7027,      0.7037,      0.7047,     0.70571,     0.70671,     0.70771,     0.70871,     0.70971,     0.71071,     0.71171,     0.71271,     0.71371,     0.71471,     0.71572,     0.71672,     0.71772,     0.71872,     0.71972,\n",
              "           0.72072,     0.72172,     0.72272,     0.72372,     0.72472,     0.72573,     0.72673,     0.72773,     0.72873,     0.72973,     0.73073,     0.73173,     0.73273,     0.73373,     0.73473,     0.73574,     0.73674,     0.73774,     0.73874,     0.73974,     0.74074,     0.74174,     0.74274,     0.74374,\n",
              "           0.74474,     0.74575,     0.74675,     0.74775,     0.74875,     0.74975,     0.75075,     0.75175,     0.75275,     0.75375,     0.75475,     0.75576,     0.75676,     0.75776,     0.75876,     0.75976,     0.76076,     0.76176,     0.76276,     0.76376,     0.76476,     0.76577,     0.76677,     0.76777,\n",
              "           0.76877,     0.76977,     0.77077,     0.77177,     0.77277,     0.77377,     0.77477,     0.77578,     0.77678,     0.77778,     0.77878,     0.77978,     0.78078,     0.78178,     0.78278,     0.78378,     0.78478,     0.78579,     0.78679,     0.78779,     0.78879,     0.78979,     0.79079,     0.79179,\n",
              "           0.79279,     0.79379,     0.79479,      0.7958,      0.7968,      0.7978,      0.7988,      0.7998,      0.8008,      0.8018,      0.8028,      0.8038,      0.8048,     0.80581,     0.80681,     0.80781,     0.80881,     0.80981,     0.81081,     0.81181,     0.81281,     0.81381,     0.81481,     0.81582,\n",
              "           0.81682,     0.81782,     0.81882,     0.81982,     0.82082,     0.82182,     0.82282,     0.82382,     0.82482,     0.82583,     0.82683,     0.82783,     0.82883,     0.82983,     0.83083,     0.83183,     0.83283,     0.83383,     0.83483,     0.83584,     0.83684,     0.83784,     0.83884,     0.83984,\n",
              "           0.84084,     0.84184,     0.84284,     0.84384,     0.84484,     0.84585,     0.84685,     0.84785,     0.84885,     0.84985,     0.85085,     0.85185,     0.85285,     0.85385,     0.85485,     0.85586,     0.85686,     0.85786,     0.85886,     0.85986,     0.86086,     0.86186,     0.86286,     0.86386,\n",
              "           0.86486,     0.86587,     0.86687,     0.86787,     0.86887,     0.86987,     0.87087,     0.87187,     0.87287,     0.87387,     0.87487,     0.87588,     0.87688,     0.87788,     0.87888,     0.87988,     0.88088,     0.88188,     0.88288,     0.88388,     0.88488,     0.88589,     0.88689,     0.88789,\n",
              "           0.88889,     0.88989,     0.89089,     0.89189,     0.89289,     0.89389,     0.89489,      0.8959,      0.8969,      0.8979,      0.8989,      0.8999,      0.9009,      0.9019,      0.9029,      0.9039,      0.9049,     0.90591,     0.90691,     0.90791,     0.90891,     0.90991,     0.91091,     0.91191,\n",
              "           0.91291,     0.91391,     0.91491,     0.91592,     0.91692,     0.91792,     0.91892,     0.91992,     0.92092,     0.92192,     0.92292,     0.92392,     0.92492,     0.92593,     0.92693,     0.92793,     0.92893,     0.92993,     0.93093,     0.93193,     0.93293,     0.93393,     0.93493,     0.93594,\n",
              "           0.93694,     0.93794,     0.93894,     0.93994,     0.94094,     0.94194,     0.94294,     0.94394,     0.94494,     0.94595,     0.94695,     0.94795,     0.94895,     0.94995,     0.95095,     0.95195,     0.95295,     0.95395,     0.95495,     0.95596,     0.95696,     0.95796,     0.95896,     0.95996,\n",
              "           0.96096,     0.96196,     0.96296,     0.96396,     0.96496,     0.96597,     0.96697,     0.96797,     0.96897,     0.96997,     0.97097,     0.97197,     0.97297,     0.97397,     0.97497,     0.97598,     0.97698,     0.97798,     0.97898,     0.97998,     0.98098,     0.98198,     0.98298,     0.98398,\n",
              "           0.98498,     0.98599,     0.98699,     0.98799,     0.98899,     0.98999,     0.99099,     0.99199,     0.99299,     0.99399,     0.99499,       0.996,       0.997,       0.998,       0.999,           1]), array([[    0.09002,     0.09002,     0.12065, ...,           0,           0,           0],\n",
              "       [   0.049921,    0.049921,    0.071545, ...,           0,           0,           0]]), 'Confidence', 'F1'], [array([          0,    0.001001,    0.002002,    0.003003,    0.004004,    0.005005,    0.006006,    0.007007,    0.008008,    0.009009,     0.01001,    0.011011,    0.012012,    0.013013,    0.014014,    0.015015,    0.016016,    0.017017,    0.018018,    0.019019,     0.02002,    0.021021,    0.022022,    0.023023,\n",
              "          0.024024,    0.025025,    0.026026,    0.027027,    0.028028,    0.029029,     0.03003,    0.031031,    0.032032,    0.033033,    0.034034,    0.035035,    0.036036,    0.037037,    0.038038,    0.039039,     0.04004,    0.041041,    0.042042,    0.043043,    0.044044,    0.045045,    0.046046,    0.047047,\n",
              "          0.048048,    0.049049,     0.05005,    0.051051,    0.052052,    0.053053,    0.054054,    0.055055,    0.056056,    0.057057,    0.058058,    0.059059,     0.06006,    0.061061,    0.062062,    0.063063,    0.064064,    0.065065,    0.066066,    0.067067,    0.068068,    0.069069,     0.07007,    0.071071,\n",
              "          0.072072,    0.073073,    0.074074,    0.075075,    0.076076,    0.077077,    0.078078,    0.079079,     0.08008,    0.081081,    0.082082,    0.083083,    0.084084,    0.085085,    0.086086,    0.087087,    0.088088,    0.089089,     0.09009,    0.091091,    0.092092,    0.093093,    0.094094,    0.095095,\n",
              "          0.096096,    0.097097,    0.098098,    0.099099,      0.1001,      0.1011,      0.1021,      0.1031,      0.1041,     0.10511,     0.10611,     0.10711,     0.10811,     0.10911,     0.11011,     0.11111,     0.11211,     0.11311,     0.11411,     0.11512,     0.11612,     0.11712,     0.11812,     0.11912,\n",
              "           0.12012,     0.12112,     0.12212,     0.12312,     0.12412,     0.12513,     0.12613,     0.12713,     0.12813,     0.12913,     0.13013,     0.13113,     0.13213,     0.13313,     0.13413,     0.13514,     0.13614,     0.13714,     0.13814,     0.13914,     0.14014,     0.14114,     0.14214,     0.14314,\n",
              "           0.14414,     0.14515,     0.14615,     0.14715,     0.14815,     0.14915,     0.15015,     0.15115,     0.15215,     0.15315,     0.15415,     0.15516,     0.15616,     0.15716,     0.15816,     0.15916,     0.16016,     0.16116,     0.16216,     0.16316,     0.16416,     0.16517,     0.16617,     0.16717,\n",
              "           0.16817,     0.16917,     0.17017,     0.17117,     0.17217,     0.17317,     0.17417,     0.17518,     0.17618,     0.17718,     0.17818,     0.17918,     0.18018,     0.18118,     0.18218,     0.18318,     0.18418,     0.18519,     0.18619,     0.18719,     0.18819,     0.18919,     0.19019,     0.19119,\n",
              "           0.19219,     0.19319,     0.19419,      0.1952,      0.1962,      0.1972,      0.1982,      0.1992,      0.2002,      0.2012,      0.2022,      0.2032,      0.2042,     0.20521,     0.20621,     0.20721,     0.20821,     0.20921,     0.21021,     0.21121,     0.21221,     0.21321,     0.21421,     0.21522,\n",
              "           0.21622,     0.21722,     0.21822,     0.21922,     0.22022,     0.22122,     0.22222,     0.22322,     0.22422,     0.22523,     0.22623,     0.22723,     0.22823,     0.22923,     0.23023,     0.23123,     0.23223,     0.23323,     0.23423,     0.23524,     0.23624,     0.23724,     0.23824,     0.23924,\n",
              "           0.24024,     0.24124,     0.24224,     0.24324,     0.24424,     0.24525,     0.24625,     0.24725,     0.24825,     0.24925,     0.25025,     0.25125,     0.25225,     0.25325,     0.25425,     0.25526,     0.25626,     0.25726,     0.25826,     0.25926,     0.26026,     0.26126,     0.26226,     0.26326,\n",
              "           0.26426,     0.26527,     0.26627,     0.26727,     0.26827,     0.26927,     0.27027,     0.27127,     0.27227,     0.27327,     0.27427,     0.27528,     0.27628,     0.27728,     0.27828,     0.27928,     0.28028,     0.28128,     0.28228,     0.28328,     0.28428,     0.28529,     0.28629,     0.28729,\n",
              "           0.28829,     0.28929,     0.29029,     0.29129,     0.29229,     0.29329,     0.29429,      0.2953,      0.2963,      0.2973,      0.2983,      0.2993,      0.3003,      0.3013,      0.3023,      0.3033,      0.3043,     0.30531,     0.30631,     0.30731,     0.30831,     0.30931,     0.31031,     0.31131,\n",
              "           0.31231,     0.31331,     0.31431,     0.31532,     0.31632,     0.31732,     0.31832,     0.31932,     0.32032,     0.32132,     0.32232,     0.32332,     0.32432,     0.32533,     0.32633,     0.32733,     0.32833,     0.32933,     0.33033,     0.33133,     0.33233,     0.33333,     0.33433,     0.33534,\n",
              "           0.33634,     0.33734,     0.33834,     0.33934,     0.34034,     0.34134,     0.34234,     0.34334,     0.34434,     0.34535,     0.34635,     0.34735,     0.34835,     0.34935,     0.35035,     0.35135,     0.35235,     0.35335,     0.35435,     0.35536,     0.35636,     0.35736,     0.35836,     0.35936,\n",
              "           0.36036,     0.36136,     0.36236,     0.36336,     0.36436,     0.36537,     0.36637,     0.36737,     0.36837,     0.36937,     0.37037,     0.37137,     0.37237,     0.37337,     0.37437,     0.37538,     0.37638,     0.37738,     0.37838,     0.37938,     0.38038,     0.38138,     0.38238,     0.38338,\n",
              "           0.38438,     0.38539,     0.38639,     0.38739,     0.38839,     0.38939,     0.39039,     0.39139,     0.39239,     0.39339,     0.39439,      0.3954,      0.3964,      0.3974,      0.3984,      0.3994,      0.4004,      0.4014,      0.4024,      0.4034,      0.4044,     0.40541,     0.40641,     0.40741,\n",
              "           0.40841,     0.40941,     0.41041,     0.41141,     0.41241,     0.41341,     0.41441,     0.41542,     0.41642,     0.41742,     0.41842,     0.41942,     0.42042,     0.42142,     0.42242,     0.42342,     0.42442,     0.42543,     0.42643,     0.42743,     0.42843,     0.42943,     0.43043,     0.43143,\n",
              "           0.43243,     0.43343,     0.43443,     0.43544,     0.43644,     0.43744,     0.43844,     0.43944,     0.44044,     0.44144,     0.44244,     0.44344,     0.44444,     0.44545,     0.44645,     0.44745,     0.44845,     0.44945,     0.45045,     0.45145,     0.45245,     0.45345,     0.45445,     0.45546,\n",
              "           0.45646,     0.45746,     0.45846,     0.45946,     0.46046,     0.46146,     0.46246,     0.46346,     0.46446,     0.46547,     0.46647,     0.46747,     0.46847,     0.46947,     0.47047,     0.47147,     0.47247,     0.47347,     0.47447,     0.47548,     0.47648,     0.47748,     0.47848,     0.47948,\n",
              "           0.48048,     0.48148,     0.48248,     0.48348,     0.48448,     0.48549,     0.48649,     0.48749,     0.48849,     0.48949,     0.49049,     0.49149,     0.49249,     0.49349,     0.49449,      0.4955,      0.4965,      0.4975,      0.4985,      0.4995,      0.5005,      0.5015,      0.5025,      0.5035,\n",
              "            0.5045,     0.50551,     0.50651,     0.50751,     0.50851,     0.50951,     0.51051,     0.51151,     0.51251,     0.51351,     0.51451,     0.51552,     0.51652,     0.51752,     0.51852,     0.51952,     0.52052,     0.52152,     0.52252,     0.52352,     0.52452,     0.52553,     0.52653,     0.52753,\n",
              "           0.52853,     0.52953,     0.53053,     0.53153,     0.53253,     0.53353,     0.53453,     0.53554,     0.53654,     0.53754,     0.53854,     0.53954,     0.54054,     0.54154,     0.54254,     0.54354,     0.54454,     0.54555,     0.54655,     0.54755,     0.54855,     0.54955,     0.55055,     0.55155,\n",
              "           0.55255,     0.55355,     0.55455,     0.55556,     0.55656,     0.55756,     0.55856,     0.55956,     0.56056,     0.56156,     0.56256,     0.56356,     0.56456,     0.56557,     0.56657,     0.56757,     0.56857,     0.56957,     0.57057,     0.57157,     0.57257,     0.57357,     0.57457,     0.57558,\n",
              "           0.57658,     0.57758,     0.57858,     0.57958,     0.58058,     0.58158,     0.58258,     0.58358,     0.58458,     0.58559,     0.58659,     0.58759,     0.58859,     0.58959,     0.59059,     0.59159,     0.59259,     0.59359,     0.59459,      0.5956,      0.5966,      0.5976,      0.5986,      0.5996,\n",
              "            0.6006,      0.6016,      0.6026,      0.6036,      0.6046,     0.60561,     0.60661,     0.60761,     0.60861,     0.60961,     0.61061,     0.61161,     0.61261,     0.61361,     0.61461,     0.61562,     0.61662,     0.61762,     0.61862,     0.61962,     0.62062,     0.62162,     0.62262,     0.62362,\n",
              "           0.62462,     0.62563,     0.62663,     0.62763,     0.62863,     0.62963,     0.63063,     0.63163,     0.63263,     0.63363,     0.63463,     0.63564,     0.63664,     0.63764,     0.63864,     0.63964,     0.64064,     0.64164,     0.64264,     0.64364,     0.64464,     0.64565,     0.64665,     0.64765,\n",
              "           0.64865,     0.64965,     0.65065,     0.65165,     0.65265,     0.65365,     0.65465,     0.65566,     0.65666,     0.65766,     0.65866,     0.65966,     0.66066,     0.66166,     0.66266,     0.66366,     0.66466,     0.66567,     0.66667,     0.66767,     0.66867,     0.66967,     0.67067,     0.67167,\n",
              "           0.67267,     0.67367,     0.67467,     0.67568,     0.67668,     0.67768,     0.67868,     0.67968,     0.68068,     0.68168,     0.68268,     0.68368,     0.68468,     0.68569,     0.68669,     0.68769,     0.68869,     0.68969,     0.69069,     0.69169,     0.69269,     0.69369,     0.69469,      0.6957,\n",
              "            0.6967,      0.6977,      0.6987,      0.6997,      0.7007,      0.7017,      0.7027,      0.7037,      0.7047,     0.70571,     0.70671,     0.70771,     0.70871,     0.70971,     0.71071,     0.71171,     0.71271,     0.71371,     0.71471,     0.71572,     0.71672,     0.71772,     0.71872,     0.71972,\n",
              "           0.72072,     0.72172,     0.72272,     0.72372,     0.72472,     0.72573,     0.72673,     0.72773,     0.72873,     0.72973,     0.73073,     0.73173,     0.73273,     0.73373,     0.73473,     0.73574,     0.73674,     0.73774,     0.73874,     0.73974,     0.74074,     0.74174,     0.74274,     0.74374,\n",
              "           0.74474,     0.74575,     0.74675,     0.74775,     0.74875,     0.74975,     0.75075,     0.75175,     0.75275,     0.75375,     0.75475,     0.75576,     0.75676,     0.75776,     0.75876,     0.75976,     0.76076,     0.76176,     0.76276,     0.76376,     0.76476,     0.76577,     0.76677,     0.76777,\n",
              "           0.76877,     0.76977,     0.77077,     0.77177,     0.77277,     0.77377,     0.77477,     0.77578,     0.77678,     0.77778,     0.77878,     0.77978,     0.78078,     0.78178,     0.78278,     0.78378,     0.78478,     0.78579,     0.78679,     0.78779,     0.78879,     0.78979,     0.79079,     0.79179,\n",
              "           0.79279,     0.79379,     0.79479,      0.7958,      0.7968,      0.7978,      0.7988,      0.7998,      0.8008,      0.8018,      0.8028,      0.8038,      0.8048,     0.80581,     0.80681,     0.80781,     0.80881,     0.80981,     0.81081,     0.81181,     0.81281,     0.81381,     0.81481,     0.81582,\n",
              "           0.81682,     0.81782,     0.81882,     0.81982,     0.82082,     0.82182,     0.82282,     0.82382,     0.82482,     0.82583,     0.82683,     0.82783,     0.82883,     0.82983,     0.83083,     0.83183,     0.83283,     0.83383,     0.83483,     0.83584,     0.83684,     0.83784,     0.83884,     0.83984,\n",
              "           0.84084,     0.84184,     0.84284,     0.84384,     0.84484,     0.84585,     0.84685,     0.84785,     0.84885,     0.84985,     0.85085,     0.85185,     0.85285,     0.85385,     0.85485,     0.85586,     0.85686,     0.85786,     0.85886,     0.85986,     0.86086,     0.86186,     0.86286,     0.86386,\n",
              "           0.86486,     0.86587,     0.86687,     0.86787,     0.86887,     0.86987,     0.87087,     0.87187,     0.87287,     0.87387,     0.87487,     0.87588,     0.87688,     0.87788,     0.87888,     0.87988,     0.88088,     0.88188,     0.88288,     0.88388,     0.88488,     0.88589,     0.88689,     0.88789,\n",
              "           0.88889,     0.88989,     0.89089,     0.89189,     0.89289,     0.89389,     0.89489,      0.8959,      0.8969,      0.8979,      0.8989,      0.8999,      0.9009,      0.9019,      0.9029,      0.9039,      0.9049,     0.90591,     0.90691,     0.90791,     0.90891,     0.90991,     0.91091,     0.91191,\n",
              "           0.91291,     0.91391,     0.91491,     0.91592,     0.91692,     0.91792,     0.91892,     0.91992,     0.92092,     0.92192,     0.92292,     0.92392,     0.92492,     0.92593,     0.92693,     0.92793,     0.92893,     0.92993,     0.93093,     0.93193,     0.93293,     0.93393,     0.93493,     0.93594,\n",
              "           0.93694,     0.93794,     0.93894,     0.93994,     0.94094,     0.94194,     0.94294,     0.94394,     0.94494,     0.94595,     0.94695,     0.94795,     0.94895,     0.94995,     0.95095,     0.95195,     0.95295,     0.95395,     0.95495,     0.95596,     0.95696,     0.95796,     0.95896,     0.95996,\n",
              "           0.96096,     0.96196,     0.96296,     0.96396,     0.96496,     0.96597,     0.96697,     0.96797,     0.96897,     0.96997,     0.97097,     0.97197,     0.97297,     0.97397,     0.97497,     0.97598,     0.97698,     0.97798,     0.97898,     0.97998,     0.98098,     0.98198,     0.98298,     0.98398,\n",
              "           0.98498,     0.98599,     0.98699,     0.98799,     0.98899,     0.98999,     0.99099,     0.99199,     0.99299,     0.99399,     0.99499,       0.996,       0.997,       0.998,       0.999,           1]), array([[   0.047338,    0.047338,    0.064655, ...,           1,           1,           1],\n",
              "       [   0.025698,    0.025698,     0.03736, ...,           1,           1,           1]]), 'Confidence', 'Precision'], [array([          0,    0.001001,    0.002002,    0.003003,    0.004004,    0.005005,    0.006006,    0.007007,    0.008008,    0.009009,     0.01001,    0.011011,    0.012012,    0.013013,    0.014014,    0.015015,    0.016016,    0.017017,    0.018018,    0.019019,     0.02002,    0.021021,    0.022022,    0.023023,\n",
              "          0.024024,    0.025025,    0.026026,    0.027027,    0.028028,    0.029029,     0.03003,    0.031031,    0.032032,    0.033033,    0.034034,    0.035035,    0.036036,    0.037037,    0.038038,    0.039039,     0.04004,    0.041041,    0.042042,    0.043043,    0.044044,    0.045045,    0.046046,    0.047047,\n",
              "          0.048048,    0.049049,     0.05005,    0.051051,    0.052052,    0.053053,    0.054054,    0.055055,    0.056056,    0.057057,    0.058058,    0.059059,     0.06006,    0.061061,    0.062062,    0.063063,    0.064064,    0.065065,    0.066066,    0.067067,    0.068068,    0.069069,     0.07007,    0.071071,\n",
              "          0.072072,    0.073073,    0.074074,    0.075075,    0.076076,    0.077077,    0.078078,    0.079079,     0.08008,    0.081081,    0.082082,    0.083083,    0.084084,    0.085085,    0.086086,    0.087087,    0.088088,    0.089089,     0.09009,    0.091091,    0.092092,    0.093093,    0.094094,    0.095095,\n",
              "          0.096096,    0.097097,    0.098098,    0.099099,      0.1001,      0.1011,      0.1021,      0.1031,      0.1041,     0.10511,     0.10611,     0.10711,     0.10811,     0.10911,     0.11011,     0.11111,     0.11211,     0.11311,     0.11411,     0.11512,     0.11612,     0.11712,     0.11812,     0.11912,\n",
              "           0.12012,     0.12112,     0.12212,     0.12312,     0.12412,     0.12513,     0.12613,     0.12713,     0.12813,     0.12913,     0.13013,     0.13113,     0.13213,     0.13313,     0.13413,     0.13514,     0.13614,     0.13714,     0.13814,     0.13914,     0.14014,     0.14114,     0.14214,     0.14314,\n",
              "           0.14414,     0.14515,     0.14615,     0.14715,     0.14815,     0.14915,     0.15015,     0.15115,     0.15215,     0.15315,     0.15415,     0.15516,     0.15616,     0.15716,     0.15816,     0.15916,     0.16016,     0.16116,     0.16216,     0.16316,     0.16416,     0.16517,     0.16617,     0.16717,\n",
              "           0.16817,     0.16917,     0.17017,     0.17117,     0.17217,     0.17317,     0.17417,     0.17518,     0.17618,     0.17718,     0.17818,     0.17918,     0.18018,     0.18118,     0.18218,     0.18318,     0.18418,     0.18519,     0.18619,     0.18719,     0.18819,     0.18919,     0.19019,     0.19119,\n",
              "           0.19219,     0.19319,     0.19419,      0.1952,      0.1962,      0.1972,      0.1982,      0.1992,      0.2002,      0.2012,      0.2022,      0.2032,      0.2042,     0.20521,     0.20621,     0.20721,     0.20821,     0.20921,     0.21021,     0.21121,     0.21221,     0.21321,     0.21421,     0.21522,\n",
              "           0.21622,     0.21722,     0.21822,     0.21922,     0.22022,     0.22122,     0.22222,     0.22322,     0.22422,     0.22523,     0.22623,     0.22723,     0.22823,     0.22923,     0.23023,     0.23123,     0.23223,     0.23323,     0.23423,     0.23524,     0.23624,     0.23724,     0.23824,     0.23924,\n",
              "           0.24024,     0.24124,     0.24224,     0.24324,     0.24424,     0.24525,     0.24625,     0.24725,     0.24825,     0.24925,     0.25025,     0.25125,     0.25225,     0.25325,     0.25425,     0.25526,     0.25626,     0.25726,     0.25826,     0.25926,     0.26026,     0.26126,     0.26226,     0.26326,\n",
              "           0.26426,     0.26527,     0.26627,     0.26727,     0.26827,     0.26927,     0.27027,     0.27127,     0.27227,     0.27327,     0.27427,     0.27528,     0.27628,     0.27728,     0.27828,     0.27928,     0.28028,     0.28128,     0.28228,     0.28328,     0.28428,     0.28529,     0.28629,     0.28729,\n",
              "           0.28829,     0.28929,     0.29029,     0.29129,     0.29229,     0.29329,     0.29429,      0.2953,      0.2963,      0.2973,      0.2983,      0.2993,      0.3003,      0.3013,      0.3023,      0.3033,      0.3043,     0.30531,     0.30631,     0.30731,     0.30831,     0.30931,     0.31031,     0.31131,\n",
              "           0.31231,     0.31331,     0.31431,     0.31532,     0.31632,     0.31732,     0.31832,     0.31932,     0.32032,     0.32132,     0.32232,     0.32332,     0.32432,     0.32533,     0.32633,     0.32733,     0.32833,     0.32933,     0.33033,     0.33133,     0.33233,     0.33333,     0.33433,     0.33534,\n",
              "           0.33634,     0.33734,     0.33834,     0.33934,     0.34034,     0.34134,     0.34234,     0.34334,     0.34434,     0.34535,     0.34635,     0.34735,     0.34835,     0.34935,     0.35035,     0.35135,     0.35235,     0.35335,     0.35435,     0.35536,     0.35636,     0.35736,     0.35836,     0.35936,\n",
              "           0.36036,     0.36136,     0.36236,     0.36336,     0.36436,     0.36537,     0.36637,     0.36737,     0.36837,     0.36937,     0.37037,     0.37137,     0.37237,     0.37337,     0.37437,     0.37538,     0.37638,     0.37738,     0.37838,     0.37938,     0.38038,     0.38138,     0.38238,     0.38338,\n",
              "           0.38438,     0.38539,     0.38639,     0.38739,     0.38839,     0.38939,     0.39039,     0.39139,     0.39239,     0.39339,     0.39439,      0.3954,      0.3964,      0.3974,      0.3984,      0.3994,      0.4004,      0.4014,      0.4024,      0.4034,      0.4044,     0.40541,     0.40641,     0.40741,\n",
              "           0.40841,     0.40941,     0.41041,     0.41141,     0.41241,     0.41341,     0.41441,     0.41542,     0.41642,     0.41742,     0.41842,     0.41942,     0.42042,     0.42142,     0.42242,     0.42342,     0.42442,     0.42543,     0.42643,     0.42743,     0.42843,     0.42943,     0.43043,     0.43143,\n",
              "           0.43243,     0.43343,     0.43443,     0.43544,     0.43644,     0.43744,     0.43844,     0.43944,     0.44044,     0.44144,     0.44244,     0.44344,     0.44444,     0.44545,     0.44645,     0.44745,     0.44845,     0.44945,     0.45045,     0.45145,     0.45245,     0.45345,     0.45445,     0.45546,\n",
              "           0.45646,     0.45746,     0.45846,     0.45946,     0.46046,     0.46146,     0.46246,     0.46346,     0.46446,     0.46547,     0.46647,     0.46747,     0.46847,     0.46947,     0.47047,     0.47147,     0.47247,     0.47347,     0.47447,     0.47548,     0.47648,     0.47748,     0.47848,     0.47948,\n",
              "           0.48048,     0.48148,     0.48248,     0.48348,     0.48448,     0.48549,     0.48649,     0.48749,     0.48849,     0.48949,     0.49049,     0.49149,     0.49249,     0.49349,     0.49449,      0.4955,      0.4965,      0.4975,      0.4985,      0.4995,      0.5005,      0.5015,      0.5025,      0.5035,\n",
              "            0.5045,     0.50551,     0.50651,     0.50751,     0.50851,     0.50951,     0.51051,     0.51151,     0.51251,     0.51351,     0.51451,     0.51552,     0.51652,     0.51752,     0.51852,     0.51952,     0.52052,     0.52152,     0.52252,     0.52352,     0.52452,     0.52553,     0.52653,     0.52753,\n",
              "           0.52853,     0.52953,     0.53053,     0.53153,     0.53253,     0.53353,     0.53453,     0.53554,     0.53654,     0.53754,     0.53854,     0.53954,     0.54054,     0.54154,     0.54254,     0.54354,     0.54454,     0.54555,     0.54655,     0.54755,     0.54855,     0.54955,     0.55055,     0.55155,\n",
              "           0.55255,     0.55355,     0.55455,     0.55556,     0.55656,     0.55756,     0.55856,     0.55956,     0.56056,     0.56156,     0.56256,     0.56356,     0.56456,     0.56557,     0.56657,     0.56757,     0.56857,     0.56957,     0.57057,     0.57157,     0.57257,     0.57357,     0.57457,     0.57558,\n",
              "           0.57658,     0.57758,     0.57858,     0.57958,     0.58058,     0.58158,     0.58258,     0.58358,     0.58458,     0.58559,     0.58659,     0.58759,     0.58859,     0.58959,     0.59059,     0.59159,     0.59259,     0.59359,     0.59459,      0.5956,      0.5966,      0.5976,      0.5986,      0.5996,\n",
              "            0.6006,      0.6016,      0.6026,      0.6036,      0.6046,     0.60561,     0.60661,     0.60761,     0.60861,     0.60961,     0.61061,     0.61161,     0.61261,     0.61361,     0.61461,     0.61562,     0.61662,     0.61762,     0.61862,     0.61962,     0.62062,     0.62162,     0.62262,     0.62362,\n",
              "           0.62462,     0.62563,     0.62663,     0.62763,     0.62863,     0.62963,     0.63063,     0.63163,     0.63263,     0.63363,     0.63463,     0.63564,     0.63664,     0.63764,     0.63864,     0.63964,     0.64064,     0.64164,     0.64264,     0.64364,     0.64464,     0.64565,     0.64665,     0.64765,\n",
              "           0.64865,     0.64965,     0.65065,     0.65165,     0.65265,     0.65365,     0.65465,     0.65566,     0.65666,     0.65766,     0.65866,     0.65966,     0.66066,     0.66166,     0.66266,     0.66366,     0.66466,     0.66567,     0.66667,     0.66767,     0.66867,     0.66967,     0.67067,     0.67167,\n",
              "           0.67267,     0.67367,     0.67467,     0.67568,     0.67668,     0.67768,     0.67868,     0.67968,     0.68068,     0.68168,     0.68268,     0.68368,     0.68468,     0.68569,     0.68669,     0.68769,     0.68869,     0.68969,     0.69069,     0.69169,     0.69269,     0.69369,     0.69469,      0.6957,\n",
              "            0.6967,      0.6977,      0.6987,      0.6997,      0.7007,      0.7017,      0.7027,      0.7037,      0.7047,     0.70571,     0.70671,     0.70771,     0.70871,     0.70971,     0.71071,     0.71171,     0.71271,     0.71371,     0.71471,     0.71572,     0.71672,     0.71772,     0.71872,     0.71972,\n",
              "           0.72072,     0.72172,     0.72272,     0.72372,     0.72472,     0.72573,     0.72673,     0.72773,     0.72873,     0.72973,     0.73073,     0.73173,     0.73273,     0.73373,     0.73473,     0.73574,     0.73674,     0.73774,     0.73874,     0.73974,     0.74074,     0.74174,     0.74274,     0.74374,\n",
              "           0.74474,     0.74575,     0.74675,     0.74775,     0.74875,     0.74975,     0.75075,     0.75175,     0.75275,     0.75375,     0.75475,     0.75576,     0.75676,     0.75776,     0.75876,     0.75976,     0.76076,     0.76176,     0.76276,     0.76376,     0.76476,     0.76577,     0.76677,     0.76777,\n",
              "           0.76877,     0.76977,     0.77077,     0.77177,     0.77277,     0.77377,     0.77477,     0.77578,     0.77678,     0.77778,     0.77878,     0.77978,     0.78078,     0.78178,     0.78278,     0.78378,     0.78478,     0.78579,     0.78679,     0.78779,     0.78879,     0.78979,     0.79079,     0.79179,\n",
              "           0.79279,     0.79379,     0.79479,      0.7958,      0.7968,      0.7978,      0.7988,      0.7998,      0.8008,      0.8018,      0.8028,      0.8038,      0.8048,     0.80581,     0.80681,     0.80781,     0.80881,     0.80981,     0.81081,     0.81181,     0.81281,     0.81381,     0.81481,     0.81582,\n",
              "           0.81682,     0.81782,     0.81882,     0.81982,     0.82082,     0.82182,     0.82282,     0.82382,     0.82482,     0.82583,     0.82683,     0.82783,     0.82883,     0.82983,     0.83083,     0.83183,     0.83283,     0.83383,     0.83483,     0.83584,     0.83684,     0.83784,     0.83884,     0.83984,\n",
              "           0.84084,     0.84184,     0.84284,     0.84384,     0.84484,     0.84585,     0.84685,     0.84785,     0.84885,     0.84985,     0.85085,     0.85185,     0.85285,     0.85385,     0.85485,     0.85586,     0.85686,     0.85786,     0.85886,     0.85986,     0.86086,     0.86186,     0.86286,     0.86386,\n",
              "           0.86486,     0.86587,     0.86687,     0.86787,     0.86887,     0.86987,     0.87087,     0.87187,     0.87287,     0.87387,     0.87487,     0.87588,     0.87688,     0.87788,     0.87888,     0.87988,     0.88088,     0.88188,     0.88288,     0.88388,     0.88488,     0.88589,     0.88689,     0.88789,\n",
              "           0.88889,     0.88989,     0.89089,     0.89189,     0.89289,     0.89389,     0.89489,      0.8959,      0.8969,      0.8979,      0.8989,      0.8999,      0.9009,      0.9019,      0.9029,      0.9039,      0.9049,     0.90591,     0.90691,     0.90791,     0.90891,     0.90991,     0.91091,     0.91191,\n",
              "           0.91291,     0.91391,     0.91491,     0.91592,     0.91692,     0.91792,     0.91892,     0.91992,     0.92092,     0.92192,     0.92292,     0.92392,     0.92492,     0.92593,     0.92693,     0.92793,     0.92893,     0.92993,     0.93093,     0.93193,     0.93293,     0.93393,     0.93493,     0.93594,\n",
              "           0.93694,     0.93794,     0.93894,     0.93994,     0.94094,     0.94194,     0.94294,     0.94394,     0.94494,     0.94595,     0.94695,     0.94795,     0.94895,     0.94995,     0.95095,     0.95195,     0.95295,     0.95395,     0.95495,     0.95596,     0.95696,     0.95796,     0.95896,     0.95996,\n",
              "           0.96096,     0.96196,     0.96296,     0.96396,     0.96496,     0.96597,     0.96697,     0.96797,     0.96897,     0.96997,     0.97097,     0.97197,     0.97297,     0.97397,     0.97497,     0.97598,     0.97698,     0.97798,     0.97898,     0.97998,     0.98098,     0.98198,     0.98298,     0.98398,\n",
              "           0.98498,     0.98599,     0.98699,     0.98799,     0.98899,     0.98999,     0.99099,     0.99199,     0.99299,     0.99399,     0.99499,       0.996,       0.997,       0.998,       0.999,           1]), array([[    0.91525,     0.91525,     0.90139, ...,           0,           0,           0],\n",
              "       [    0.86981,     0.86981,     0.84211, ...,           0,           0,           0]]), 'Confidence', 'Recall']]\n",
              "fitness: 0.36678234990752734\n",
              "keys: ['metrics/precision(B)', 'metrics/recall(B)', 'metrics/mAP50(B)', 'metrics/mAP50-95(B)']\n",
              "maps: array([    0.38042,     0.30071])\n",
              "names: {0: 'fire', 1: 'smoke'}\n",
              "plot: True\n",
              "results_dict: {'metrics/precision(B)': 0.6720974777241794, 'metrics/recall(B)': 0.5597989280057687, 'metrics/mAP50(B)': 0.6027122070556327, 'metrics/mAP50-95(B)': 0.3405679213355156, 'fitness': 0.36678234990752734}\n",
              "save_dir: PosixPath('runs/detect/train')\n",
              "speed: {'preprocess': 0.3808421650152097, 'inference': 3.020058189772098, 'loss': 0.0008577587960780352, 'postprocess': 5.469227202550662}\n",
              "task: 'detect'"
            ]
          },
          "metadata": {},
          "execution_count": 7
        }
      ]
    },
    {
      "cell_type": "code",
      "source": [
        "results = model.predict(source='/content/drive/MyDrive/capstone/data/', save=True)"
      ],
      "metadata": {
        "id": "BUQssMuB-frp",
        "colab": {
          "base_uri": "https://localhost:8080/"
        },
        "outputId": "b1ff11bf-8209-4c5c-bd9a-44dc2aadd588",
        "collapsed": true
      },
      "execution_count": null,
      "outputs": [
        {
          "output_type": "stream",
          "name": "stdout",
          "text": [
            "\n",
            "image 1/340 /content/drive/MyDrive/capstone/data/ComfyUI_00868__png.rf.ad87fc4b36db04408cb7c7d0b0dde8cc.jpg: 640x640 2 fires, 4 smokes, 7.3ms\n",
            "image 2/340 /content/drive/MyDrive/capstone/data/ComfyUI_00871__png.rf.9b26a3fa21a0a52fb9712e6ebd76584b.jpg: 640x640 4 fires, 1 smoke, 7.2ms\n",
            "image 3/340 /content/drive/MyDrive/capstone/data/ComfyUI_00872__png.rf.1108552ca3f731df881ed7da51351bcf.jpg: 640x640 3 fires, 7.3ms\n",
            "image 4/340 /content/drive/MyDrive/capstone/data/ComfyUI_00873__png.rf.db749fa2b618bd7c661c98b70b91cd64.jpg: 640x640 2 fires, 13.3ms\n",
            "image 5/340 /content/drive/MyDrive/capstone/data/ComfyUI_00874__png.rf.270e29095bd7a0386fdcb9a17bcee429.jpg: 640x640 5 fires, 1 smoke, 11.7ms\n",
            "image 6/340 /content/drive/MyDrive/capstone/data/ComfyUI_00875__png.rf.e21a1a3527cd355fadbaa3a806c5f2b0.jpg: 640x640 3 fires, 4 smokes, 13.8ms\n",
            "image 7/340 /content/drive/MyDrive/capstone/data/ComfyUI_00876__png.rf.ebd4e1db4486efdff19e3bff8cc1bc67.jpg: 640x640 3 fires, 2 smokes, 19.0ms\n",
            "image 8/340 /content/drive/MyDrive/capstone/data/ComfyUI_00877__png.rf.052e837b5aa36d6a221b46ac38320b5d.jpg: 640x640 3 fires, 1 smoke, 8.5ms\n",
            "image 9/340 /content/drive/MyDrive/capstone/data/ComfyUI_00878__png.rf.fc1d26e84da279fddf9af7f7b950cb85.jpg: 640x640 1 fire, 1 smoke, 8.4ms\n",
            "image 10/340 /content/drive/MyDrive/capstone/data/ComfyUI_00879__png.rf.0f8c74ca241cbbaa2e7b3c8ff1d12f0e.jpg: 640x640 6 fires, 1 smoke, 11.7ms\n",
            "image 11/340 /content/drive/MyDrive/capstone/data/ComfyUI_00881__png.rf.76ea375b6c87abdce770ba66a550018a.jpg: 640x640 4 fires, 5 smokes, 11.6ms\n",
            "image 12/340 /content/drive/MyDrive/capstone/data/ComfyUI_00882__png.rf.6a063e956c80f8359b2a0a78a5727598.jpg: 640x640 2 fires, 19.6ms\n",
            "image 13/340 /content/drive/MyDrive/capstone/data/ComfyUI_00883__png.rf.86f24018f9faff309fcea41ef615a5e1.jpg: 640x640 7 fires, 1 smoke, 12.1ms\n",
            "image 14/340 /content/drive/MyDrive/capstone/data/ComfyUI_00885__png.rf.e64aafe7faf6e79863007226ab7fa31a.jpg: 640x640 3 fires, 13.5ms\n",
            "image 15/340 /content/drive/MyDrive/capstone/data/ComfyUI_00886__png.rf.fd55baec3be372daeb3fc17f2b0d5826.jpg: 640x640 4 fires, 11.5ms\n",
            "image 16/340 /content/drive/MyDrive/capstone/data/ComfyUI_00887__png.rf.58f7ef5238c039a94b607f0b85444674.jpg: 640x640 4 fires, 1 smoke, 19.6ms\n",
            "image 17/340 /content/drive/MyDrive/capstone/data/ComfyUI_00888__png.rf.ca12a0904d0028232d250057efe119c8.jpg: 640x640 10 fires, 43.8ms\n",
            "image 18/340 /content/drive/MyDrive/capstone/data/ComfyUI_00889__png.rf.6b4503d3f9f6a77e915f97c06750e85b.jpg: 640x640 3 fires, 30.6ms\n",
            "image 19/340 /content/drive/MyDrive/capstone/data/ComfyUI_00890__png.rf.46b82ef9c27ebadceccaca318da657f9.jpg: 640x640 2 fires, 2 smokes, 34.2ms\n",
            "image 20/340 /content/drive/MyDrive/capstone/data/ComfyUI_00891__png.rf.75e501258a1a54e2f0a83042daf9ff2a.jpg: 640x640 2 fires, 1 smoke, 29.3ms\n",
            "image 21/340 /content/drive/MyDrive/capstone/data/ComfyUI_00892__png.rf.f3496624b9b0d903938b6019b58a4680.jpg: 640x640 1 fire, 2 smokes, 13.8ms\n",
            "image 22/340 /content/drive/MyDrive/capstone/data/ComfyUI_00894__png.rf.afbb829510e33c0681dbb70e72ac7e7d.jpg: 640x640 7 fires, 1 smoke, 8.9ms\n",
            "image 23/340 /content/drive/MyDrive/capstone/data/ComfyUI_00896__png.rf.58aae1d49306422ae06a0aa763d2ea66.jpg: 640x640 8 fires, 1 smoke, 9.3ms\n",
            "image 24/340 /content/drive/MyDrive/capstone/data/ComfyUI_00897__png.rf.a4714e0e5b15aca0dfa9b60a9852a601.jpg: 640x640 4 fires, 8.4ms\n",
            "image 25/340 /content/drive/MyDrive/capstone/data/ComfyUI_00899__png.rf.90d06a9e0341f4564e23a1d300814430.jpg: 640x640 4 fires, 1 smoke, 9.9ms\n",
            "image 26/340 /content/drive/MyDrive/capstone/data/ComfyUI_00900__png.rf.4fb28aa24b6da4bc6d27cf76fe46b2d8.jpg: 640x640 3 fires, 2 smokes, 8.2ms\n",
            "image 27/340 /content/drive/MyDrive/capstone/data/ComfyUI_00901__png.rf.bc6dee0a1f8309b1453b23e7683128e4.jpg: 640x640 1 fire, 1 smoke, 8.6ms\n",
            "image 28/340 /content/drive/MyDrive/capstone/data/ComfyUI_00902__png.rf.95009c0a7e352392f784ae936696a089.jpg: 640x640 8 fires, 8.6ms\n",
            "image 29/340 /content/drive/MyDrive/capstone/data/ComfyUI_00903__png.rf.55df3a16360ce979e3cd93d7e9eb3cf9.jpg: 640x640 3 fires, 12.5ms\n",
            "image 30/340 /content/drive/MyDrive/capstone/data/ComfyUI_00905__png.rf.64da18fd22df280adcfdc3fbcc0d35ba.jpg: 640x640 3 fires, 8.9ms\n",
            "image 31/340 /content/drive/MyDrive/capstone/data/ComfyUI_00906__png.rf.188983e32798f215e7bd7946c32345ba.jpg: 640x640 2 fires, 8.0ms\n",
            "image 32/340 /content/drive/MyDrive/capstone/data/ComfyUI_00907__png.rf.4768e047f49b32f20e9aa3e5a196238e.jpg: 640x640 2 fires, 8.7ms\n",
            "image 33/340 /content/drive/MyDrive/capstone/data/ComfyUI_00908__png.rf.e47c224847e0e49d16c0fc76c07fff39.jpg: 640x640 4 fires, 8.6ms\n",
            "image 34/340 /content/drive/MyDrive/capstone/data/ComfyUI_00909__png.rf.652cdcc485e98fa1e45dd1c00463d41a.jpg: 640x640 1 fire, 2 smokes, 9.5ms\n",
            "image 35/340 /content/drive/MyDrive/capstone/data/ComfyUI_00910__png.rf.0ea2ed1e6f845e82742c4d8478e762d5.jpg: 640x640 3 fires, 8.0ms\n",
            "image 36/340 /content/drive/MyDrive/capstone/data/ComfyUI_00987__png.rf.c39b862669e5cc6609bf4e847b6b436a.jpg: 640x640 3 fires, 1 smoke, 10.5ms\n",
            "image 37/340 /content/drive/MyDrive/capstone/data/ComfyUI_00988__png.rf.20bc1184eac1d5911200fa84a4d240ed.jpg: 640x640 2 fires, 11.6ms\n",
            "image 38/340 /content/drive/MyDrive/capstone/data/ComfyUI_00994__png.rf.bf15ea0787dc83c9295071c7720f2b25.jpg: 640x640 8 fires, 12.6ms\n",
            "image 39/340 /content/drive/MyDrive/capstone/data/ComfyUI_00998__png.rf.bc3ed234debd9e80318463e1a1f1f227.jpg: 640x640 2 fires, 2 smokes, 8.3ms\n",
            "image 40/340 /content/drive/MyDrive/capstone/data/ComfyUI_01000__png.rf.ce4f0ef402f02661dce8c1f7a6eea152.jpg: 640x640 3 fires, 8.8ms\n",
            "image 41/340 /content/drive/MyDrive/capstone/data/ComfyUI_01003__png.rf.660edcc16767bf75a4f9d5f6390d9c92.jpg: 640x640 5 fires, 3 smokes, 11.1ms\n",
            "image 42/340 /content/drive/MyDrive/capstone/data/ComfyUI_01004__png.rf.21cbcc100407a225554083354dfafb4d.jpg: 640x640 4 fires, 3 smokes, 10.0ms\n",
            "image 43/340 /content/drive/MyDrive/capstone/data/ComfyUI_01008__png.rf.c901d8e3b2db124507244b1fcc0ab833.jpg: 640x640 8 fires, 1 smoke, 8.2ms\n",
            "image 44/340 /content/drive/MyDrive/capstone/data/campfire_00001__png.rf.1244d450b2624700ee6723f7a29778f4.jpg: 640x640 1 fire, 10.2ms\n",
            "image 45/340 /content/drive/MyDrive/capstone/data/campfire_00003__png.rf.a01d5a4775eb69c2b5b352d0e1221153.jpg: 640x640 2 fires, 1 smoke, 11.6ms\n",
            "image 46/340 /content/drive/MyDrive/capstone/data/campfire_00004__png.rf.ae59027845c626342d49f3de295c01ba.jpg: 640x640 3 fires, 8.9ms\n",
            "image 47/340 /content/drive/MyDrive/capstone/data/campfire_00005__png.rf.5d67d0de50b6c53bcd7b830c7c30aa69.jpg: 640x640 3 fires, 12.9ms\n",
            "image 48/340 /content/drive/MyDrive/capstone/data/campfire_00006__png.rf.69cb05c9c465a3cd6330904a9c24fb2e.jpg: 640x640 4 fires, 11.6ms\n",
            "image 49/340 /content/drive/MyDrive/capstone/data/campfire_00007__png.rf.ed472060a13b811999bbee1a48b61c66.jpg: 640x640 1 fire, 11.4ms\n",
            "image 50/340 /content/drive/MyDrive/capstone/data/campfire_00009__png.rf.7b910546e6ec0fe7bd74ff0e314f74e0.jpg: 640x640 1 fire, 9.5ms\n",
            "image 51/340 /content/drive/MyDrive/capstone/data/campfire_00010__png.rf.16b56c87c8bf6d39abd861f16e9cad95.jpg: 640x640 5 fires, 11.3ms\n",
            "image 52/340 /content/drive/MyDrive/capstone/data/campfire_00013__png.rf.729e6657228600c9baf1442d750e9052.jpg: 640x640 3 fires, 9.2ms\n",
            "image 53/340 /content/drive/MyDrive/capstone/data/campfire_00014__png.rf.e93bae7acd91e2060e2fd6eebdc01f14.jpg: 640x640 2 fires, 8.8ms\n",
            "image 54/340 /content/drive/MyDrive/capstone/data/campfire_00016__png.rf.6f73478204ad4d58a8b85c8d8decd537.jpg: 640x640 1 fire, 13.2ms\n",
            "image 55/340 /content/drive/MyDrive/capstone/data/campfire_00017__png.rf.bc40c292d5dd50eb255cccab0de134ea.jpg: 640x640 1 fire, 3 smokes, 14.8ms\n",
            "image 56/340 /content/drive/MyDrive/capstone/data/campfire_00018__png.rf.5979a8d5d74bcee64ce097e7dcad0f22.jpg: 640x640 1 fire, 11.7ms\n",
            "image 57/340 /content/drive/MyDrive/capstone/data/campfire_00019__png.rf.9633e5ebc0e6fd55ebff869f6fd9e0c8.jpg: 640x640 2 fires, 13.1ms\n",
            "image 58/340 /content/drive/MyDrive/capstone/data/campfire_00021__png.rf.5f6751a9e168c9869ba8582cc10bcaf2.jpg: 640x640 4 fires, 1 smoke, 9.0ms\n",
            "image 59/340 /content/drive/MyDrive/capstone/data/campfire_00022__png.rf.6ea240de5b90a805ea65649f3b4c99ed.jpg: 640x640 3 fires, 11.6ms\n",
            "image 60/340 /content/drive/MyDrive/capstone/data/campfire_00023__png.rf.4649d06512b119b365bd7e55232d6375.jpg: 640x640 1 fire, 8.0ms\n",
            "image 61/340 /content/drive/MyDrive/capstone/data/campfire_00024__png.rf.e84cfee2f7e21ba32a3792d0e2572843.jpg: 640x640 1 fire, 13.3ms\n",
            "image 62/340 /content/drive/MyDrive/capstone/data/campfire_00025__png.rf.1eaec11390a958a45946fad1c3c478a6.jpg: 640x640 6 fires, 10.4ms\n",
            "image 63/340 /content/drive/MyDrive/capstone/data/campfire_00026__png.rf.1feecba9fbcee5eb1429b5b0c302883f.jpg: 640x640 1 fire, 5 smokes, 10.4ms\n",
            "image 64/340 /content/drive/MyDrive/capstone/data/campfire_00028__png.rf.c19ae0ce6cb86e1e054bbcf6efecdba0.jpg: 640x640 3 fires, 3 smokes, 11.2ms\n",
            "image 65/340 /content/drive/MyDrive/capstone/data/campfire_00029__png.rf.24af8f0cdc656b1522f897ef7a995be6.jpg: 640x640 2 fires, 1 smoke, 11.4ms\n",
            "image 66/340 /content/drive/MyDrive/capstone/data/campfire_00030__png.rf.008293262a49dc93bf628f63d5b33fa7.jpg: 640x640 1 fire, 1 smoke, 10.0ms\n",
            "image 67/340 /content/drive/MyDrive/capstone/data/campfire_00031__png.rf.1931b55189923b0af61ffdf085e55796.jpg: 640x640 2 fires, 3 smokes, 9.8ms\n",
            "image 68/340 /content/drive/MyDrive/capstone/data/campfire_00032__png.rf.f3414c42a5362633869836ea5642bf55.jpg: 640x640 1 fire, 3 smokes, 9.5ms\n",
            "image 69/340 /content/drive/MyDrive/capstone/data/car_00184__png.rf.d59f211582012d4dea438581d3d178e5.jpg: 640x640 7 fires, 6 smokes, 11.1ms\n",
            "image 70/340 /content/drive/MyDrive/capstone/data/car_00185__png.rf.ba288b80a286b07ff11ef53bff244727.jpg: 640x640 8 fires, 4 smokes, 11.7ms\n",
            "image 71/340 /content/drive/MyDrive/capstone/data/car_00186__png.rf.2a5acdc1e2886fcb4c5e5be7bfabd4f4.jpg: 640x640 4 fires, 7 smokes, 12.0ms\n",
            "image 72/340 /content/drive/MyDrive/capstone/data/car_00187__png.rf.6c595e405854ca694072751fa6fa0f5c.jpg: 640x640 5 fires, 4 smokes, 11.2ms\n",
            "image 73/340 /content/drive/MyDrive/capstone/data/car_00189__png.rf.c45462eaa3beda331d5812a36a11b0b0.jpg: 640x640 4 fires, 4 smokes, 13.6ms\n",
            "image 74/340 /content/drive/MyDrive/capstone/data/car_00191__png.rf.59595ef5f605fd3f0e818e5a20e91a8c.jpg: 640x640 6 fires, 12 smokes, 14.8ms\n",
            "image 75/340 /content/drive/MyDrive/capstone/data/car_00192__png.rf.a8a9a3c4602272277622fb43d546fd79.jpg: 640x640 3 fires, 14 smokes, 9.7ms\n",
            "image 76/340 /content/drive/MyDrive/capstone/data/car_00193__png.rf.60b2cfd5f536a9cce80b29ff07f892e7.jpg: 640x640 6 fires, 6 smokes, 10.7ms\n",
            "image 77/340 /content/drive/MyDrive/capstone/data/car_00194__png.rf.7776677a8d6c5475e67aaf8d647c5099.jpg: 640x640 5 fires, 4 smokes, 9.3ms\n",
            "image 78/340 /content/drive/MyDrive/capstone/data/car_00195__png.rf.aef4e02bef7996bbea54c7b05f1af0ac.jpg: 640x640 8 fires, 5 smokes, 12.0ms\n",
            "image 79/340 /content/drive/MyDrive/capstone/data/car_00196__png.rf.294b61f404097f838be3bf8846e4d695.jpg: 640x640 7 fires, 5 smokes, 9.4ms\n",
            "image 80/340 /content/drive/MyDrive/capstone/data/car_00197__png.rf.5b555d0947c054330c07f2f02a96e3a1.jpg: 640x640 3 fires, 12 smokes, 12.1ms\n",
            "image 81/340 /content/drive/MyDrive/capstone/data/car_00198__png.rf.504a424146cf113db30ffb507161af09.jpg: 640x640 6 fires, 5 smokes, 9.1ms\n",
            "image 82/340 /content/drive/MyDrive/capstone/data/car_00200__png.rf.a6d1773b9b37040ae75ec67c3995a1b6.jpg: 640x640 1 fire, 2 smokes, 10.4ms\n",
            "image 83/340 /content/drive/MyDrive/capstone/data/car_00201__png.rf.ad4a2e51815f2b2ac2ea5c4e9ab36bf3.jpg: 640x640 5 fires, 5 smokes, 10.5ms\n",
            "image 84/340 /content/drive/MyDrive/capstone/data/car_00202__png.rf.10e2caa0911994146383824334337947.jpg: 640x640 4 fires, 4 smokes, 10.1ms\n",
            "image 85/340 /content/drive/MyDrive/capstone/data/car_00203__png.rf.c0624cf0749035f535c12939930b4178.jpg: 640x640 8 fires, 3 smokes, 9.6ms\n",
            "image 86/340 /content/drive/MyDrive/capstone/data/car_00204__png.rf.c0351d788940eab0e7aa84441fa41f68.jpg: 640x640 5 fires, 5 smokes, 9.5ms\n",
            "image 87/340 /content/drive/MyDrive/capstone/data/car_00205__png.rf.56c903a063ea95c8be8db7e7e891ac3f.jpg: 640x640 5 fires, 6 smokes, 9.7ms\n",
            "image 88/340 /content/drive/MyDrive/capstone/data/car_00251__png.rf.28b1e5d1f7bbb54e7b5a023a5da441de.jpg: 640x640 5 fires, 13 smokes, 9.7ms\n",
            "image 89/340 /content/drive/MyDrive/capstone/data/car_00253__png.rf.8df60efa6c53835eb0f3762f65045f7b.jpg: 640x640 6 fires, 7 smokes, 10.4ms\n",
            "image 90/340 /content/drive/MyDrive/capstone/data/car_00254__png.rf.99750c3f6944f49b4deb328d91a319ce.jpg: 640x640 3 fires, 8 smokes, 12.4ms\n",
            "image 91/340 /content/drive/MyDrive/capstone/data/car_00255__png.rf.06a3bc92e61b259868dcc3e2b2bb7b82.jpg: 640x640 1 fire, 4 smokes, 10.2ms\n",
            "image 92/340 /content/drive/MyDrive/capstone/data/car_00256__png.rf.b79571bbb8b97cc13a17f75ef65daf75.jpg: 640x640 4 fires, 3 smokes, 9.5ms\n",
            "image 93/340 /content/drive/MyDrive/capstone/data/car_00257__png.rf.084e0d9bed17f0f6357c6c5a8fb35aaa.jpg: 640x640 1 fire, 3 smokes, 10.2ms\n",
            "image 94/340 /content/drive/MyDrive/capstone/data/car_00259__png.rf.ff2f9b036b59a40497d4088ab9a796df.jpg: 640x640 1 fire, 5 smokes, 12.4ms\n",
            "image 95/340 /content/drive/MyDrive/capstone/data/car_00260__png.rf.ba04a2fbfcb2b2bf6aaa05de8e9c754b.jpg: 640x640 6 fires, 10 smokes, 10.4ms\n",
            "image 96/340 /content/drive/MyDrive/capstone/data/car_00262__png.rf.ee8efab8a5b754b217dde7b3c987d985.jpg: 640x640 4 fires, 5 smokes, 13.0ms\n",
            "image 97/340 /content/drive/MyDrive/capstone/data/car_00263__png.rf.43eec0c8f1f576f5b7f0f8e8fdc1c533.jpg: 640x640 3 fires, 6 smokes, 9.7ms\n",
            "image 98/340 /content/drive/MyDrive/capstone/data/car_00265__png.rf.4c3ec1c743187c12188bab715ef41dc0.jpg: 640x640 5 fires, 1 smoke, 8.7ms\n",
            "image 99/340 /content/drive/MyDrive/capstone/data/car_00266__png.rf.48a90e0ad9cad631fdd50c75c2c0f712.jpg: 640x640 7 fires, 11 smokes, 9.4ms\n",
            "image 100/340 /content/drive/MyDrive/capstone/data/car_00267__png.rf.4366e11e11791ec12c897e07a6366b07.jpg: 640x640 4 fires, 5 smokes, 10.0ms\n",
            "image 101/340 /content/drive/MyDrive/capstone/data/car_00268__png.rf.24bd11d0175f14506172e4c67b771c8a.jpg: 640x640 3 fires, 5 smokes, 15.3ms\n",
            "image 102/340 /content/drive/MyDrive/capstone/data/car_00269__png.rf.1721a2cf7267c7dbf94de17e97200f71.jpg: 640x640 16 fires, 5 smokes, 16.0ms\n",
            "image 103/340 /content/drive/MyDrive/capstone/data/car_00273__png.rf.4c2296a5bdb50a77e3a5ec6ead98ea80.jpg: 640x640 6 fires, 2 smokes, 10.4ms\n",
            "image 104/340 /content/drive/MyDrive/capstone/data/car_00276__png.rf.72a8ddb808ba40dd7273895c0fec5aa0.jpg: 640x640 4 fires, 5 smokes, 10.1ms\n",
            "image 105/340 /content/drive/MyDrive/capstone/data/car_00356__png.rf.58e07ba536fcf574f27dc97a9d87b17a.jpg: 640x640 4 fires, 3 smokes, 9.6ms\n",
            "image 106/340 /content/drive/MyDrive/capstone/data/car_00357__png.rf.9d1f6ed7986abd321b4e8f6d47e021ff.jpg: 640x640 3 fires, 3 smokes, 9.7ms\n",
            "image 107/340 /content/drive/MyDrive/capstone/data/car_00360__png.rf.1b59e46ee8b7caad6c49a27d498ef380.jpg: 640x640 5 fires, 1 smoke, 12.7ms\n",
            "image 108/340 /content/drive/MyDrive/capstone/data/car_00361__png.rf.d03680b3c30f1e2c9b1019dc016c26a8.jpg: 640x640 6 fires, 19 smokes, 12.4ms\n",
            "image 109/340 /content/drive/MyDrive/capstone/data/car_00363__png.rf.be459060f06918bf2fc7de8bc8980dfa.jpg: 640x640 6 fires, 8 smokes, 15.1ms\n",
            "image 110/340 /content/drive/MyDrive/capstone/data/car_00364__png.rf.189df5fba1622ffbe7e337c553b42eb8.jpg: 640x640 8 fires, 8 smokes, 14.6ms\n",
            "image 111/340 /content/drive/MyDrive/capstone/data/car_00365__png.rf.9d4acfe675184a033c124b97f46e30ae.jpg: 640x640 3 fires, 2 smokes, 9.9ms\n",
            "image 112/340 /content/drive/MyDrive/capstone/data/car_00367__png.rf.42d621332bd286449fd28771e85a8ae5.jpg: 640x640 5 fires, 10 smokes, 11.5ms\n",
            "image 113/340 /content/drive/MyDrive/capstone/data/car_00369__png.rf.9c5422b8023e5e4ddf8382473a19c3c1.jpg: 640x640 5 fires, 5 smokes, 9.7ms\n",
            "image 114/340 /content/drive/MyDrive/capstone/data/car_00371__png.rf.ae689397a9a65c1aa9f8803f40f87e82.jpg: 640x640 7 fires, 8 smokes, 9.1ms\n",
            "image 115/340 /content/drive/MyDrive/capstone/data/car_00372__png.rf.c3191e7d1ed32c17e2f871f110f425b5.jpg: 640x640 6 fires, 3 smokes, 9.1ms\n",
            "image 116/340 /content/drive/MyDrive/capstone/data/car_00374__png.rf.49f89a63403d326b640f66883ce14c1a.jpg: 640x640 2 fires, 3 smokes, 10.5ms\n",
            "image 117/340 /content/drive/MyDrive/capstone/data/car_00375__png.rf.51ca4022397cff962a29fe78f7e56b9b.jpg: 640x640 5 fires, 7 smokes, 9.2ms\n",
            "image 118/340 /content/drive/MyDrive/capstone/data/car_00376__png.rf.b9a98b2a649e1cce755aca846e7188dd.jpg: 640x640 4 fires, 3 smokes, 9.4ms\n",
            "image 119/340 /content/drive/MyDrive/capstone/data/car_00379__png.rf.7a0a66e8b96c71339ed09a511120936c.jpg: 640x640 7 fires, 7 smokes, 10.1ms\n",
            "image 120/340 /content/drive/MyDrive/capstone/data/car_00380__png.rf.c2b6f29f010ee8858faf9404c025af54.jpg: 640x640 6 fires, 8 smokes, 11.0ms\n",
            "image 121/340 /content/drive/MyDrive/capstone/data/car_00384__png.rf.4bd53bd265328f6d447e9dc208fd7c82.jpg: 640x640 3 fires, 4 smokes, 9.9ms\n",
            "image 122/340 /content/drive/MyDrive/capstone/data/car_00385__png.rf.184803602061c9433e65b4ca7b48f498.jpg: 640x640 8 fires, 10.5ms\n",
            "image 123/340 /content/drive/MyDrive/capstone/data/controlled_00579__png.rf.c7001782944209dbcb64a47dcd0a7d3e.jpg: 640x640 3 fires, 5 smokes, 11.0ms\n",
            "image 124/340 /content/drive/MyDrive/capstone/data/controlled_00582__png.rf.5491d074098449ef022957c2439053bb.jpg: 640x640 5 fires, 8 smokes, 9.7ms\n",
            "image 125/340 /content/drive/MyDrive/capstone/data/controlled_00584__png.rf.1f95e4705ddf71d3be929c2818ce1af7.jpg: 640x640 2 fires, 4 smokes, 9.4ms\n",
            "image 126/340 /content/drive/MyDrive/capstone/data/controlled_00585__png.rf.18e486d992c20b392c077f63479792d2.jpg: 640x640 2 fires, 4 smokes, 11.2ms\n",
            "image 127/340 /content/drive/MyDrive/capstone/data/controlled_00587__png.rf.3b9ed94a3836e6869f6ed71a424033b5.jpg: 640x640 5 fires, 4 smokes, 10.1ms\n",
            "image 128/340 /content/drive/MyDrive/capstone/data/controlled_00589__png.rf.6db08f240f271be7fbd45388650a5a73.jpg: 640x640 2 fires, 8 smokes, 9.4ms\n",
            "image 129/340 /content/drive/MyDrive/capstone/data/controlled_00595__png.rf.78b3a59903f57dc2106d3ca9e78798ff.jpg: 640x640 2 fires, 1 smoke, 9.3ms\n",
            "image 130/340 /content/drive/MyDrive/capstone/data/controlled_00597__png.rf.777d9d58ccb49930be616280bd8ab3ea.jpg: 640x640 5 fires, 5 smokes, 19.4ms\n",
            "image 131/340 /content/drive/MyDrive/capstone/data/controlled_00599__png.rf.24fbdb59ee6f5e288f8cc8484a4855d0.jpg: 640x640 3 fires, 4 smokes, 11.6ms\n",
            "image 132/340 /content/drive/MyDrive/capstone/data/controlled_00604__png.rf.52135b58dfe6b1040ed7b8af569c8b22.jpg: 640x640 1 fire, 9 smokes, 15.9ms\n",
            "image 133/340 /content/drive/MyDrive/capstone/data/controlled_00607__png.rf.752bf3bc288431a02f4bc0e910efc7ff.jpg: 640x640 3 fires, 6 smokes, 12.1ms\n",
            "image 134/340 /content/drive/MyDrive/capstone/data/farm_00007__png.rf.6d69128fd147b149c7767c66f49eb7e1.jpg: 640x640 3 smokes, 9.7ms\n",
            "image 135/340 /content/drive/MyDrive/capstone/data/farm_00008__png.rf.1e7a0493593ec91c13bac8cdead2cd33.jpg: 640x640 8 fires, 2 smokes, 15.4ms\n",
            "image 136/340 /content/drive/MyDrive/capstone/data/farm_00013__png.rf.7bc8e38ccc63889bcaef132f0304bf5f.jpg: 640x640 1 fire, 2 smokes, 10.2ms\n",
            "image 137/340 /content/drive/MyDrive/capstone/data/farm_00019__png.rf.2bc633a4f4c2764beea1bef7c85cc224.jpg: 640x640 2 fires, 1 smoke, 9.8ms\n",
            "image 138/340 /content/drive/MyDrive/capstone/data/farm_00030__png.rf.7039a6157b87c328db4b7332f32eee36.jpg: 640x640 17 fires, 3 smokes, 10.0ms\n",
            "image 139/340 /content/drive/MyDrive/capstone/data/farm_00032__png.rf.c40202cb09c6a35ca541092c2f397961.jpg: 640x640 5 fires, 4 smokes, 10.1ms\n",
            "image 140/340 /content/drive/MyDrive/capstone/data/farm_00039__png.rf.23983f41ed72f11ddf887cf98d46af64.jpg: 640x640 5 fires, 1 smoke, 10.1ms\n",
            "image 141/340 /content/drive/MyDrive/capstone/data/farm_00124__png.rf.732139353ebf5ecde982040dc833ea2d.jpg: 640x640 1 fire, 7 smokes, 12.2ms\n",
            "image 142/340 /content/drive/MyDrive/capstone/data/farm_00125__png.rf.278572891437bf4733df23baaa3380a0.jpg: 640x640 3 fires, 2 smokes, 24.9ms\n",
            "image 143/340 /content/drive/MyDrive/capstone/data/farm_00128__png.rf.6f84738369fd2d50ca7f41396f41b444.jpg: 640x640 3 fires, 2 smokes, 10.9ms\n",
            "image 144/340 /content/drive/MyDrive/capstone/data/farm_00133__png.rf.34c0a8071885239b77aae8583b64eab2.jpg: 640x640 13 fires, 6 smokes, 9.6ms\n",
            "image 145/340 /content/drive/MyDrive/capstone/data/farm_00134__png.rf.7a71b95e770d60c10cc28519a61cad13.jpg: 640x640 6 fires, 6 smokes, 10.0ms\n",
            "image 146/340 /content/drive/MyDrive/capstone/data/farm_00141__png.rf.676c084a039fdde8e9a667b804bcf5ab.jpg: 640x640 11 fires, 3 smokes, 9.6ms\n",
            "image 147/340 /content/drive/MyDrive/capstone/data/farm_00146__png.rf.bff59c9ee32feb285cb9891c34164fe2.jpg: 640x640 2 fires, 1 smoke, 9.4ms\n",
            "image 148/340 /content/drive/MyDrive/capstone/data/farm_00149__png.rf.79ce1bc3213d71e0f731923e517d7865.jpg: 640x640 3 fires, 2 smokes, 9.3ms\n",
            "image 149/340 /content/drive/MyDrive/capstone/data/farm_00152__png.rf.c1396642b341efd330e9a4819d734e24.jpg: 640x640 4 fires, 3 smokes, 22.8ms\n",
            "image 150/340 /content/drive/MyDrive/capstone/data/farm_00154__png.rf.6f41343f5d46befe3e6997e1c8376a26.jpg: 640x640 5 fires, 1 smoke, 12.4ms\n",
            "image 151/340 /content/drive/MyDrive/capstone/data/farm_00155__png.rf.22af14ff1c215d8b79d46b1dad1bff4e.jpg: 640x640 1 fire, 1 smoke, 9.9ms\n",
            "image 152/340 /content/drive/MyDrive/capstone/data/farm_00156__png.rf.1de4f59c46a6a51d68bc6f695ad1ea61.jpg: 640x640 2 fires, 3 smokes, 9.6ms\n",
            "image 153/340 /content/drive/MyDrive/capstone/data/house_00049__png.rf.1a2aad22300a2553f1418a1564ee28c4.jpg: 640x640 3 fires, 1 smoke, 9.6ms\n",
            "image 154/340 /content/drive/MyDrive/capstone/data/house_00053__png.rf.192860d5b6f09783bf33ecdcc0e41838.jpg: 640x640 3 fires, 2 smokes, 9.5ms\n",
            "image 155/340 /content/drive/MyDrive/capstone/data/house_00066__png.rf.146768220a9667088d3291b6c9b5cb1d.jpg: 640x640 5 fires, 2 smokes, 25.1ms\n",
            "image 156/340 /content/drive/MyDrive/capstone/data/house_00076__png.rf.6e02a851e826921d490d578ed7d53fa3.jpg: 640x640 2 fires, 2 smokes, 26.6ms\n",
            "image 157/340 /content/drive/MyDrive/capstone/data/house_00502__png.rf.6d3c90de49f6a6152e99180cc9ee59ab.jpg: 640x640 1 smoke, 21.3ms\n",
            "image 158/340 /content/drive/MyDrive/capstone/data/house_00524__png.rf.674c882342c38cd95770360935fe3ec5.jpg: 640x640 2 smokes, 26.7ms\n",
            "image 159/340 /content/drive/MyDrive/capstone/data/house_00525__png.rf.7a8ff38fb04ff7c896e20c4b95c89728.jpg: 640x640 4 smokes, 30.5ms\n",
            "image 160/340 /content/drive/MyDrive/capstone/data/house_00705__png.rf.22380ee1b811cb7ded6c30b5ea861558.jpg: 640x640 12 fires, 4 smokes, 37.8ms\n",
            "image 161/340 /content/drive/MyDrive/capstone/data/house_00706__png.rf.69c492c7869a52a214343573ced8dd21.jpg: 640x640 5 fires, 1 smoke, 29.4ms\n",
            "image 162/340 /content/drive/MyDrive/capstone/data/house_00708__png.rf.cbd5b35153b0828c1b3fe1ebcb4e5894.jpg: 640x640 2 fires, 1 smoke, 23.6ms\n",
            "image 163/340 /content/drive/MyDrive/capstone/data/house_00711__png.rf.361fe1644fe4a317edc70f97756dcfc8.jpg: 640x640 3 fires, 2 smokes, 25.0ms\n",
            "image 164/340 /content/drive/MyDrive/capstone/data/house_00724__png.rf.2272d12141c89e7f7e907a8c7063b2f2.jpg: 640x640 3 fires, 1 smoke, 24.3ms\n",
            "image 165/340 /content/drive/MyDrive/capstone/data/house_00757__png.rf.4102f02b5ef148535f3da7832930fa97.jpg: 640x640 5 fires, 25.8ms\n",
            "image 166/340 /content/drive/MyDrive/capstone/data/house_00759__png.rf.32f1626b13ff36f1755d019203cb7d20.jpg: 640x640 5 fires, 38.0ms\n",
            "image 167/340 /content/drive/MyDrive/capstone/data/house_00762__png.rf.5b5aa3bc4d1930c565233636d5400b74.jpg: 640x640 6 fires, 2 smokes, 30.3ms\n",
            "image 168/340 /content/drive/MyDrive/capstone/data/large_-1580-_jpg.rf.589a6b4455e56a4806ab82b2f3c9a3d5.jpg: 640x640 2 fires, 24.7ms\n",
            "image 169/340 /content/drive/MyDrive/capstone/data/large_-1648-_jpg.rf.6e95b91dae8e764f487c2539e5ceab55.jpg: 640x640 1 fire, 25.3ms\n",
            "image 170/340 /content/drive/MyDrive/capstone/data/large_-1971-_jpg.rf.1cde7f313c3a3051986bd800d673cbf3.jpg: 640x640 4 fires, 18.8ms\n",
            "image 171/340 /content/drive/MyDrive/capstone/data/large_-2040-_jpg.rf.1c284086d8964efdaaa35a44ddc9d16d.jpg: 640x640 1 fire, 19.0ms\n",
            "image 172/340 /content/drive/MyDrive/capstone/data/large_-2081-_jpg.rf.684669ce96bc4d3a202827f0ce7fc3c3.jpg: 640x640 5 fires, 2 smokes, 23.2ms\n",
            "image 173/340 /content/drive/MyDrive/capstone/data/large_-2196-_jpg.rf.1e72605614380e60beb414dac609d172.jpg: 640x640 1 fire, 1 smoke, 11.0ms\n",
            "image 174/340 /content/drive/MyDrive/capstone/data/large_-2296-_jpg.rf.bd85247025a68290926d5de35862c6f0.jpg: 640x640 1 fire, 9.9ms\n",
            "image 175/340 /content/drive/MyDrive/capstone/data/large_-2301-_jpg.rf.c77a9ed0fc296cb90bd459121ad9efdf.jpg: 640x640 1 fire, 9.6ms\n",
            "image 176/340 /content/drive/MyDrive/capstone/data/large_-2363-_jpg.rf.16272b0a57aa3dbda45ba5ed5ab6fc27.jpg: 640x640 11 fires, 11.2ms\n",
            "image 177/340 /content/drive/MyDrive/capstone/data/large_-2371-_jpg.rf.bbadfc52099b8718d63f422f03dc15b1.jpg: 640x640 3 fires, 10.5ms\n",
            "image 178/340 /content/drive/MyDrive/capstone/data/large_-2568-_jpg.rf.70240dccbcbc20c4db165efb5bc60edc.jpg: 640x640 1 fire, 2 smokes, 13.7ms\n",
            "image 179/340 /content/drive/MyDrive/capstone/data/middle_-1364-_jpg.rf.1356c825eb820b5c46dec6eab8a2ca22.jpg: 640x640 2 fires, 1 smoke, 16.1ms\n",
            "image 180/340 /content/drive/MyDrive/capstone/data/middle_-1406-_jpg.rf.298285309d93aa76a34fa9bf24e93dc9.jpg: 640x640 1 fire, 12.0ms\n",
            "image 181/340 /content/drive/MyDrive/capstone/data/middle_-1419-_jpg.rf.4eb9b6c7a936c6b69384c38850c3c5e2.jpg: 640x640 2 fires, 13.2ms\n",
            "image 182/340 /content/drive/MyDrive/capstone/data/middle_-1422-_jpg.rf.2a0c8663abae4dfb43e3e99a823ad59b.jpg: 640x640 2 fires, 2 smokes, 11.2ms\n",
            "image 183/340 /content/drive/MyDrive/capstone/data/middle_-1435-_jpg.rf.49ed59b81735f8fb28b81f95185f504f.jpg: 640x640 1 fire, 12.9ms\n",
            "image 184/340 /content/drive/MyDrive/capstone/data/middle_-1499-_jpg.rf.16c73bbf9a81318f8900fb7a5cd2138c.jpg: 640x640 7 fires, 15.5ms\n",
            "image 185/340 /content/drive/MyDrive/capstone/data/middle_-1508-_jpg.rf.743575661209348806dce32000225338.jpg: 640x640 3 fires, 5 smokes, 13.0ms\n",
            "image 186/340 /content/drive/MyDrive/capstone/data/middle_-1519-_jpg.rf.769e572e1e7515c14bdb4b82bb0d0f2f.jpg: 640x640 9 fires, 13.5ms\n",
            "image 187/340 /content/drive/MyDrive/capstone/data/middle_-1579-_jpg.rf.cd59193c3f149d906a39563425ed9922.jpg: 640x640 1 fire, 2 smokes, 11.6ms\n",
            "image 188/340 /content/drive/MyDrive/capstone/data/middle_-1612-_jpg.rf.ca6c3fa24ceb0c365c97d7fa461ad9b4.jpg: 640x640 2 fires, 1 smoke, 18.0ms\n",
            "image 189/340 /content/drive/MyDrive/capstone/data/middle_-1705-_jpg.rf.c8346f369480f565e2c356eb4b1fcb28.jpg: 640x640 1 fire, 11.5ms\n",
            "image 190/340 /content/drive/MyDrive/capstone/data/middle_-1714-_jpg.rf.74dab538bb17f3d06c3666b6a0b2a350.jpg: 640x640 1 fire, 1 smoke, 13.1ms\n",
            "image 191/340 /content/drive/MyDrive/capstone/data/middle_-1716-_jpg.rf.c1bb11628d04af88ac39da00fc3a383d.jpg: 640x640 3 fires, 13.1ms\n",
            "image 192/340 /content/drive/MyDrive/capstone/data/middle_-1731-_jpg.rf.6ce237f4dd2b30b9dbc510d86eb4868a.jpg: 640x640 1 fire, 11.4ms\n",
            "image 193/340 /content/drive/MyDrive/capstone/data/middle_-1747-_jpg.rf.6fa4b21406b6883357cb4c742dcddab6.jpg: 640x640 1 fire, 3 smokes, 11.6ms\n",
            "image 194/340 /content/drive/MyDrive/capstone/data/middle_-1794-_jpg.rf.53abe116a566f9b2593bf5380d43865d.jpg: 640x640 1 fire, 13.2ms\n",
            "image 195/340 /content/drive/MyDrive/capstone/data/middle_-1807-_jpg.rf.54891b4c732744e14d4bc4cda4e15a01.jpg: 640x640 2 fires, 1 smoke, 15.1ms\n",
            "image 196/340 /content/drive/MyDrive/capstone/data/middle_-1814-_jpg.rf.c7220a8cda05f61079dd8b6f05e42ee5.jpg: 640x640 2 fires, 2 smokes, 12.9ms\n",
            "image 197/340 /content/drive/MyDrive/capstone/data/middle_-1815-_jpg.rf.665b52c8d98705d5f3c5d410666208b3.jpg: 640x640 2 fires, 12.1ms\n",
            "image 198/340 /content/drive/MyDrive/capstone/data/middle_-1821-_jpg.rf.c3a69d604b053321eddc98cb23618794.jpg: 640x640 2 fires, 2 smokes, 10.9ms\n",
            "image 199/340 /content/drive/MyDrive/capstone/data/middle_-1827-_jpg.rf.48b64afb656d6f4bedcdaf9d7af88b86.jpg: 640x640 3 fires, 3 smokes, 11.1ms\n",
            "image 200/340 /content/drive/MyDrive/capstone/data/middle_-1829-_jpg.rf.c44f3716db7c2852f0782883792654a9.jpg: 640x640 1 fire, 12.3ms\n",
            "image 201/340 /content/drive/MyDrive/capstone/data/middle_-1832-_jpg.rf.c9846c3f8841ab8058460512c27709e5.jpg: 640x640 2 fires, 11.2ms\n",
            "image 202/340 /content/drive/MyDrive/capstone/data/middle_-1833-_jpg.rf.7b67be3bdda33b599fc63ce9ba6e648b.jpg: 640x640 1 fire, 2 smokes, 11.1ms\n",
            "image 203/340 /content/drive/MyDrive/capstone/data/middle_-1843-_jpg.rf.76669a3c103f3e23591843141e2ee8cc.jpg: 640x640 1 fire, 1 smoke, 11.2ms\n",
            "image 204/340 /content/drive/MyDrive/capstone/data/middle_-1844-_jpg.rf.26b87e29b6164bd2daef8a1190e04d7d.jpg: 640x640 16 fires, 10.8ms\n",
            "image 205/340 /content/drive/MyDrive/capstone/data/middle_-1853-_jpg.rf.23b5d68434c3fd40e5f539bff5e0f22b.jpg: 640x640 2 fires, 1 smoke, 12.5ms\n",
            "image 206/340 /content/drive/MyDrive/capstone/data/middle_-1854-_jpg.rf.29f15629cd97b57de3d0c0bb1d6ec4b6.jpg: 640x640 2 fires, 11.7ms\n",
            "image 207/340 /content/drive/MyDrive/capstone/data/middle_-1857-_jpg.rf.18cb240c171779850a4b1d0d08cb4ad3.jpg: 640x640 (no detections), 12.2ms\n",
            "image 208/340 /content/drive/MyDrive/capstone/data/middle_-1878-_jpg.rf.69082c7bf9ee7a8e42abc0c3716b1742.jpg: 640x640 1 fire, 2 smokes, 12.4ms\n",
            "image 209/340 /content/drive/MyDrive/capstone/data/middle_-1888-_jpg.rf.67bdd57574d60e761cc46fe78c7c6f80.jpg: 640x640 2 fires, 24.4ms\n",
            "image 210/340 /content/drive/MyDrive/capstone/data/middle_-1919-_jpg.rf.2aefa4e7400a6ceef3883dc244de370e.jpg: 640x640 7 fires, 1 smoke, 22.3ms\n",
            "image 211/340 /content/drive/MyDrive/capstone/data/middle_-1920-_jpg.rf.67cfdb34bc5d2fbd0b7d96f563579800.jpg: 640x640 8 fires, 1 smoke, 19.0ms\n",
            "image 212/340 /content/drive/MyDrive/capstone/data/middle_-1936-_jpg.rf.730992dff54c2c5e3132f671aab5b29e.jpg: 640x640 1 fire, 2 smokes, 11.9ms\n",
            "image 213/340 /content/drive/MyDrive/capstone/data/middle_-1952-_jpg.rf.709ab379772b681cf8cc817842b3f9df.jpg: 640x640 2 fires, 2 smokes, 12.2ms\n",
            "image 214/340 /content/drive/MyDrive/capstone/data/middle_-1975-_jpg.rf.bbaf54b086dcd00f3a63b1ccbba3c579.jpg: 640x640 1 fire, 1 smoke, 16.1ms\n",
            "image 215/340 /content/drive/MyDrive/capstone/data/middle_-1982-_jpg.rf.781cb23524b617d8287dcaf6d710d184.jpg: 640x640 5 fires, 4 smokes, 11.7ms\n",
            "image 216/340 /content/drive/MyDrive/capstone/data/middle_-1983-_jpg.rf.297edeb5066ca0e7a965b08255ac6ff8.jpg: 640x640 1 fire, 2 smokes, 8.3ms\n",
            "image 217/340 /content/drive/MyDrive/capstone/data/middle_-2000-_jpg.rf.5be7bf67e65af94534d5b87ae485242f.jpg: 640x640 4 fires, 7 smokes, 7.1ms\n",
            "image 218/340 /content/drive/MyDrive/capstone/data/middle_-2001-_jpg.rf.6971c49aa7948fe744bf963a7c4c62aa.jpg: 640x640 4 fires, 3 smokes, 7.2ms\n",
            "image 219/340 /content/drive/MyDrive/capstone/data/middle_-2007-_jpg.rf.cd8d29e7f4aa1fdbb13b8a3c37f3efaa.jpg: 640x640 1 fire, 7.9ms\n",
            "image 220/340 /content/drive/MyDrive/capstone/data/middle_-2013-_jpg.rf.3134f8d79ab4636aec6dff7f64746e6a.jpg: 640x640 3 fires, 1 smoke, 7.1ms\n",
            "image 221/340 /content/drive/MyDrive/capstone/data/middle_-2033-_jpg.rf.cc2692a47c0a2e65cb78208567ac38ce.jpg: 640x640 4 fires, 5 smokes, 7.1ms\n",
            "image 222/340 /content/drive/MyDrive/capstone/data/middle_-2062-_jpg.rf.bd34d00730b46601a0829d700298dd3a.jpg: 640x640 1 fire, 7.1ms\n",
            "image 223/340 /content/drive/MyDrive/capstone/data/middle_-2067-_jpg.rf.38d4cf1b49d13733c004fd10f06de07d.jpg: 640x640 3 fires, 7.1ms\n",
            "image 224/340 /content/drive/MyDrive/capstone/data/middle_-2076-_jpg.rf.67d31fcc86dd0ca52df5c8aed33fade6.jpg: 640x640 1 fire, 2 smokes, 7.1ms\n",
            "image 225/340 /content/drive/MyDrive/capstone/data/middle_-2077-_jpg.rf.35792851654b34d419263beea387ce1a.jpg: 640x640 3 fires, 2 smokes, 7.1ms\n",
            "image 226/340 /content/drive/MyDrive/capstone/data/middle_-2094-_jpg.rf.4a3ffc811279a17af2ee5105eb65f8ab.jpg: 640x640 1 fire, 5 smokes, 7.2ms\n",
            "image 227/340 /content/drive/MyDrive/capstone/data/middle_-2099-_jpg.rf.cb6aed2fbe31ebf6acad514908062489.jpg: 640x640 1 fire, 4 smokes, 7.4ms\n",
            "image 228/340 /content/drive/MyDrive/capstone/data/middle_-2104-_jpg.rf.6dcd7e32a51c635a22a940da2841f191.jpg: 640x640 9 fires, 3 smokes, 7.2ms\n",
            "image 229/340 /content/drive/MyDrive/capstone/data/middle_-2110-_jpg.rf.53d4dce757f3e4a5cde796cf24e08763.jpg: 640x640 10 fires, 7.1ms\n",
            "image 230/340 /content/drive/MyDrive/capstone/data/middle_-2112-_jpg.rf.637c2eda6fe5cbd756c62a5b8d752ea6.jpg: 640x640 1 fire, 11.6ms\n",
            "image 231/340 /content/drive/MyDrive/capstone/data/middle_-2122-_jpg.rf.713e8f77c9ec2cfddc6a11419d97ceca.jpg: 640x640 1 smoke, 7.1ms\n",
            "image 232/340 /content/drive/MyDrive/capstone/data/middle_-2129-_jpg.rf.757ec32937f62dba2b9e0af437b92e7c.jpg: 640x640 1 fire, 3 smokes, 7.1ms\n",
            "image 233/340 /content/drive/MyDrive/capstone/data/middle_-2134-_jpg.rf.37b84523f9d83bd7bf2cee3ca6055ec9.jpg: 640x640 4 fires, 7.2ms\n",
            "image 234/340 /content/drive/MyDrive/capstone/data/middle_-2137-_jpg.rf.2a0f64346ee774bb329a629e1dff2859.jpg: 640x640 4 fires, 2 smokes, 7.8ms\n",
            "image 235/340 /content/drive/MyDrive/capstone/data/middle_-2141-_jpg.rf.67dea06a96bc9635a3bf44681b5b6f9f.jpg: 640x640 2 fires, 7.1ms\n",
            "image 236/340 /content/drive/MyDrive/capstone/data/middle_-2149-_jpg.rf.c66c34bb9f6529bb4a5dc5579bd70299.jpg: 640x640 3 fires, 7.1ms\n",
            "image 237/340 /content/drive/MyDrive/capstone/data/middle_-2150-_jpg.rf.3c9a9a0c9ab1d47f8c267ce71a225a9d.jpg: 640x640 6 fires, 7.2ms\n",
            "image 238/340 /content/drive/MyDrive/capstone/data/middle_-2162-_jpg.rf.704985131cb4e61f0d816a6dae9d0cf9.jpg: 640x640 1 fire, 7.1ms\n",
            "image 239/340 /content/drive/MyDrive/capstone/data/middle_-2163-_jpg.rf.6a97e70a9ce8d93271461060c4e2cdb5.jpg: 640x640 2 fires, 1 smoke, 7.1ms\n",
            "image 240/340 /content/drive/MyDrive/capstone/data/middle_-2203-_jpg.rf.61ae7f72cca9b61548e118313b41031c.jpg: 640x640 1 fire, 7 smokes, 7.1ms\n",
            "image 241/340 /content/drive/MyDrive/capstone/data/middle_-2210-_jpg.rf.678551685016195b7bbf70dbbdb0434d.jpg: 640x640 3 fires, 1 smoke, 7.1ms\n",
            "image 242/340 /content/drive/MyDrive/capstone/data/middle_-2211-_jpg.rf.c0e393db8427590afec9f83ceb6b1682.jpg: 640x640 2 fires, 7.2ms\n",
            "image 243/340 /content/drive/MyDrive/capstone/data/middle_-2221-_jpg.rf.1baa6d0bf0aab8bb3c69bf6a2563fec4.jpg: 640x640 1 fire, 7.1ms\n",
            "image 244/340 /content/drive/MyDrive/capstone/data/middle_-2222-_jpg.rf.c4872370d710a46dccba59a1555f9d46.jpg: 640x640 4 fires, 3 smokes, 7.1ms\n",
            "image 245/340 /content/drive/MyDrive/capstone/data/middle_-2223-_jpg.rf.1f0bc4fb016b28961647a015521fcfef.jpg: 640x640 5 fires, 1 smoke, 7.1ms\n",
            "image 246/340 /content/drive/MyDrive/capstone/data/middle_-2239-_jpg.rf.66aca37544461c3e50686285cae68dc2.jpg: 640x640 1 fire, 7.1ms\n",
            "image 247/340 /content/drive/MyDrive/capstone/data/middle_-2253-_jpg.rf.72b55059e52320e6f749906da4a9c200.jpg: 640x640 4 fires, 3 smokes, 11.0ms\n",
            "image 248/340 /content/drive/MyDrive/capstone/data/middle_-2254-_jpg.rf.22b0241435ce50417577a877865c26af.jpg: 640x640 1 fire, 12.2ms\n",
            "image 249/340 /content/drive/MyDrive/capstone/data/middle_-2260-_jpg.rf.bdcf9e403ebc67fdce9215dab128b88f.jpg: 640x640 10 fires, 9.6ms\n",
            "image 250/340 /content/drive/MyDrive/capstone/data/middle_-2262-_jpg.rf.32b351757df8f0f6195c6ec3b7bad3d7.jpg: 640x640 2 fires, 4 smokes, 9.0ms\n",
            "image 251/340 /content/drive/MyDrive/capstone/data/middle_-2277-_jpg.rf.66c05ef73f4514dcef2782cb3b37a9d7.jpg: 640x640 9 fires, 4 smokes, 9.3ms\n",
            "image 252/340 /content/drive/MyDrive/capstone/data/middle_-2280-_jpg.rf.2525704f455985a97c6a666130949b5c.jpg: 640x640 1 fire, 3 smokes, 11.2ms\n",
            "image 253/340 /content/drive/MyDrive/capstone/data/middle_-2281-_jpg.rf.557cfc897ccca532fd35f27e1e5f30fc.jpg: 640x640 1 fire, 2 smokes, 7.6ms\n",
            "image 254/340 /content/drive/MyDrive/capstone/data/middle_-2282-_jpg.rf.c1f3c7ffa5a3ec632973da18cee94f5b.jpg: 640x640 1 fire, 2 smokes, 8.3ms\n",
            "image 255/340 /content/drive/MyDrive/capstone/data/middle_-2296-_jpg.rf.70b590eca7f64ce719973b569b9bc2db.jpg: 640x640 3 fires, 1 smoke, 7.1ms\n",
            "image 256/340 /content/drive/MyDrive/capstone/data/middle_-2301-_jpg.rf.65d0722efacbb56944adf674ca36bed2.jpg: 640x640 2 fires, 7.1ms\n",
            "image 257/340 /content/drive/MyDrive/capstone/data/middle_-2311-_jpg.rf.7269b1b28aeaf6bd7038d1543318a43d.jpg: 640x640 5 fires, 2 smokes, 7.2ms\n",
            "image 258/340 /content/drive/MyDrive/capstone/data/middle_-2336-_jpg.rf.173643dbdfdd9980d0e7e3a66089f86d.jpg: 640x640 3 fires, 7.1ms\n",
            "image 259/340 /content/drive/MyDrive/capstone/data/middle_-2339-_jpg.rf.1dd2c8c5c5ea25d021b8cc4d58da9e97.jpg: 640x640 1 fire, 7.1ms\n",
            "image 260/340 /content/drive/MyDrive/capstone/data/middle_-2349-_jpg.rf.46f2833b2feae3dbbca603b06a0dbc6c.jpg: 640x640 1 fire, 7.1ms\n",
            "image 261/340 /content/drive/MyDrive/capstone/data/middle_-2364-_jpg.rf.445937740ef83c527f802cd9173e6e24.jpg: 640x640 1 fire, 7.1ms\n",
            "image 262/340 /content/drive/MyDrive/capstone/data/middle_-2375-_jpg.rf.12326d8c717f057d68870bde1aba2d02.jpg: 640x640 8 fires, 7.1ms\n",
            "image 263/340 /content/drive/MyDrive/capstone/data/middle_-2385-_jpg.rf.bf9b9028170bee2d031ca8460401aafa.jpg: 640x640 1 fire, 7.1ms\n",
            "image 264/340 /content/drive/MyDrive/capstone/data/middle_-2387-_jpg.rf.734756e987aa410ff0bdbb540d1d3ef6.jpg: 640x640 1 fire, 7.1ms\n",
            "image 265/340 /content/drive/MyDrive/capstone/data/middle_-2394-_jpg.rf.c8600536c0f1968492275be196b5419f.jpg: 640x640 4 fires, 4 smokes, 7.1ms\n",
            "image 266/340 /content/drive/MyDrive/capstone/data/middle_-2401-_jpg.rf.c989825c0564fc817759574202750e75.jpg: 640x640 2 fires, 7.2ms\n",
            "image 267/340 /content/drive/MyDrive/capstone/data/middle_-2403-_jpg.rf.beea56401e663736622cf8c329d7993b.jpg: 640x640 3 fires, 4 smokes, 7.1ms\n",
            "image 268/340 /content/drive/MyDrive/capstone/data/middle_-2445-_jpg.rf.553ecd2ed138265dadb97c35ff55b27a.jpg: 640x640 1 fire, 7.1ms\n",
            "image 269/340 /content/drive/MyDrive/capstone/data/middle_-2476-_jpg.rf.1a18443110455714235dda19f4dd63a8.jpg: 640x640 1 fire, 7.1ms\n",
            "image 270/340 /content/drive/MyDrive/capstone/data/middle_-2489-_jpg.rf.ca43f8224f777d5d75b9583c16694697.jpg: 640x640 1 fire, 7.2ms\n",
            "image 271/340 /content/drive/MyDrive/capstone/data/middle_-2490-_jpg.rf.203dd1caec7f0beec9e0ba4d02065a2e.jpg: 640x640 1 fire, 10.0ms\n",
            "image 272/340 /content/drive/MyDrive/capstone/data/middle_-2499-_jpg.rf.694f5062006410814cdf98690ca54d02.jpg: 640x640 1 fire, 7.1ms\n",
            "image 273/340 /content/drive/MyDrive/capstone/data/middle_-2504-_jpg.rf.145d219957925357cd76cdcdb08fa1c1.jpg: 640x640 1 fire, 7.1ms\n",
            "image 274/340 /content/drive/MyDrive/capstone/data/middle_-2506-_jpg.rf.2844bc4f18b4254bdab78c32f536e62f.jpg: 640x640 1 fire, 7.1ms\n",
            "image 275/340 /content/drive/MyDrive/capstone/data/middle_-2508-_jpg.rf.180a375b207216316466cbe793accafd.jpg: 640x640 1 fire, 12.3ms\n",
            "image 276/340 /content/drive/MyDrive/capstone/data/middle_-2526-_jpg.rf.3a60cb5926f6f6859dbb555b6b0992fc.jpg: 640x640 1 fire, 7.2ms\n",
            "image 277/340 /content/drive/MyDrive/capstone/data/middle_-2527-_jpg.rf.178536ff977c030d9c21efaf197fd327.jpg: 640x640 1 fire, 7.1ms\n",
            "image 278/340 /content/drive/MyDrive/capstone/data/middle_-2533-_jpg.rf.3ff05c45e6e8b9930a212f7582f6b105.jpg: 640x640 1 fire, 7.2ms\n",
            "image 279/340 /content/drive/MyDrive/capstone/data/middle_-2567-_jpg.rf.1949f2bc54e5e76da1b685c07cb25b86.jpg: 640x640 2 fires, 7.1ms\n",
            "image 280/340 /content/drive/MyDrive/capstone/data/middle_-2577-_jpg.rf.3e10516726fde94b294a9f790f6a6294.jpg: 640x640 1 fire, 7.1ms\n",
            "image 281/340 /content/drive/MyDrive/capstone/data/middle_-2595-_jpg.rf.be6eb022f88a337f33b39222106b97c8.jpg: 640x640 1 fire, 7.1ms\n",
            "image 282/340 /content/drive/MyDrive/capstone/data/middle_-2596-_jpg.rf.c0360de2f55143db750712422329209e.jpg: 640x640 1 fire, 7.1ms\n",
            "image 283/340 /content/drive/MyDrive/capstone/data/middle_-2597-_jpg.rf.c2955529d172f70d33d3088d8e422dea.jpg: 640x640 1 fire, 7.1ms\n",
            "image 284/340 /content/drive/MyDrive/capstone/data/middle_-2603-_jpg.rf.cf0fedb9e6f0bfa4565794191a447355.jpg: 640x640 1 fire, 7.1ms\n",
            "image 285/340 /content/drive/MyDrive/capstone/data/middle_-2607-_jpg.rf.2b3f7a01b086590aa598a28e7d871ac3.jpg: 640x640 1 fire, 7.1ms\n",
            "image 286/340 /content/drive/MyDrive/capstone/data/middle_-2609-_jpg.rf.687b7607564f7d632d69351d3decde4b.jpg: 640x640 1 fire, 7.1ms\n",
            "image 287/340 /content/drive/MyDrive/capstone/data/middle_-2632-_jpg.rf.20517d08c2338662217e268201e6e095.jpg: 640x640 1 fire, 7.2ms\n",
            "image 288/340 /content/drive/MyDrive/capstone/data/middle_-2640-_jpg.rf.2ba909862e5a9ee5cf430f87f47a7224.jpg: 640x640 1 fire, 7.1ms\n",
            "image 289/340 /content/drive/MyDrive/capstone/data/middle_-2653-_jpg.rf.6b4d1369afda3fba17a6cc48afc856c3.jpg: 640x640 3 fires, 7.1ms\n",
            "image 290/340 /content/drive/MyDrive/capstone/data/middle_-2657-_jpg.rf.7a26d51e128fdcfc51e1a0dc1585d36e.jpg: 640x640 1 fire, 7.1ms\n",
            "image 291/340 /content/drive/MyDrive/capstone/data/middle_-2662-_jpg.rf.1f37a6b05172361037666e031b16e6ce.jpg: 640x640 4 fires, 7.1ms\n",
            "image 292/340 /content/drive/MyDrive/capstone/data/middle_-2682-_jpg.rf.2bbde6c7fb62ae6c6031a27a72b31300.jpg: 640x640 2 fires, 7.1ms\n",
            "image 293/340 /content/drive/MyDrive/capstone/data/middle_-2751-_jpg.rf.19b920ea0e1ae1786e7947a9624278d1.jpg: 640x640 1 fire, 1 smoke, 8.7ms\n",
            "image 294/340 /content/drive/MyDrive/capstone/data/middle_-2757-_jpg.rf.2644159dc9ea82a3dd842b62b0522572.jpg: 640x640 1 fire, 2 smokes, 10.6ms\n",
            "image 295/340 /content/drive/MyDrive/capstone/data/middle_-2805-_jpg.rf.bcff2a28c559e10a6f1450616e39135f.jpg: 640x640 1 fire, 9.0ms\n",
            "image 296/340 /content/drive/MyDrive/capstone/data/middle_-2806-_jpg.rf.332d973bcd5b616780f3c03dae18594f.jpg: 640x640 5 fires, 1 smoke, 9.7ms\n",
            "image 297/340 /content/drive/MyDrive/capstone/data/middle_-2809-_jpg.rf.64c546d8afa57277e6ffe13f2ba71fe2.jpg: 640x640 1 fire, 10.9ms\n",
            "image 298/340 /content/drive/MyDrive/capstone/data/middle_-2812-_jpg.rf.bb4ce765696955535a03fadf8f0d078a.jpg: 640x640 1 fire, 9.4ms\n",
            "image 299/340 /content/drive/MyDrive/capstone/data/middle_-2813-_jpg.rf.15ce90854c1a5a0858688e149cc4c56d.jpg: 640x640 3 fires, 9.3ms\n",
            "image 300/340 /content/drive/MyDrive/capstone/data/middle_-2831-_jpg.rf.17afe0b7217267f3a7851d46a3fb319c.jpg: 640x640 6 fires, 9.4ms\n",
            "image 301/340 /content/drive/MyDrive/capstone/data/middle_-2832-_jpg.rf.51a05d8ffafc8d62b9737fbd1e98afda.jpg: 640x640 4 fires, 2 smokes, 9.6ms\n",
            "image 302/340 /content/drive/MyDrive/capstone/data/middle_-2836-_jpg.rf.ca552580b3602b7b27d9e5ba78ba63b8.jpg: 640x640 1 fire, 7.1ms\n",
            "image 303/340 /content/drive/MyDrive/capstone/data/middle_-2844-_jpg.rf.732fe796b66de8569c145a3330a2502e.jpg: 640x640 3 fires, 7.1ms\n",
            "image 304/340 /content/drive/MyDrive/capstone/data/middle_-2855-_jpg.rf.7b620a7edaef4581087fe84b35c74c0a.jpg: 640x640 2 fires, 7.1ms\n",
            "image 305/340 /content/drive/MyDrive/capstone/data/middle_-2860-_jpg.rf.14ad97a04412762baab937b37258c81d.jpg: 640x640 2 fires, 7.1ms\n",
            "image 306/340 /content/drive/MyDrive/capstone/data/middle_-2863-_jpg.rf.cb77b50770cdf7a5cd0873b5598bea77.jpg: 640x640 2 fires, 7.1ms\n",
            "image 307/340 /content/drive/MyDrive/capstone/data/middle_-2864-_jpg.rf.1ffd02c7f881552b509d97c82c2bcd7f.jpg: 640x640 2 fires, 7.2ms\n",
            "image 308/340 /content/drive/MyDrive/capstone/data/middle_-2901-_jpg.rf.769569b7cc24d1beaf42e92c7522158f.jpg: 640x640 6 fires, 7.1ms\n",
            "image 309/340 /content/drive/MyDrive/capstone/data/middle_-2907-_jpg.rf.6992a878786fe2c40077b7c900233feb.jpg: 640x640 2 fires, 1 smoke, 7.1ms\n",
            "image 310/340 /content/drive/MyDrive/capstone/data/middle_-2913-_jpg.rf.6e7036862a6a9cf9a66532bef1205085.jpg: 640x640 1 fire, 7.1ms\n",
            "image 311/340 /content/drive/MyDrive/capstone/data/middle_-2939-_jpg.rf.c3a464f652fa85d889b2aa34f8c36b24.jpg: 640x640 1 fire, 2 smokes, 7.1ms\n",
            "image 312/340 /content/drive/MyDrive/capstone/data/middle_-345-_jpg.rf.2861108d217ac9bb946d35d4226a234a.jpg: 640x640 1 fire, 7.9ms\n",
            "image 313/340 /content/drive/MyDrive/capstone/data/middle_-356-_jpg.rf.69bf70ae98c74cd931a44d249045e5b0.jpg: 640x640 1 fire, 7.2ms\n",
            "image 314/340 /content/drive/MyDrive/capstone/data/middle_-402-_jpg.rf.733d1e8ea92e6736ebca27fca5acdc2f.jpg: 640x640 1 fire, 1 smoke, 7.2ms\n",
            "image 315/340 /content/drive/MyDrive/capstone/data/middle_-406-_jpg.rf.c69e5410e477b6538208228b9e7011a1.jpg: 640x640 4 fires, 2 smokes, 7.1ms\n",
            "image 316/340 /content/drive/MyDrive/capstone/data/middle_-408-_jpg.rf.742a76d273c685674bfe22a1ece1cfcc.jpg: 640x640 1 fire, 7.1ms\n",
            "image 317/340 /content/drive/MyDrive/capstone/data/middle_-416-_jpg.rf.c845fcf4b360801951afd3ececb53953.jpg: 640x640 1 fire, 1 smoke, 7.1ms\n",
            "image 318/340 /content/drive/MyDrive/capstone/data/middle_-418-_jpg.rf.60ea22a45b7e737cbb982b7df6678a9c.jpg: 640x640 1 fire, 7.1ms\n",
            "image 319/340 /content/drive/MyDrive/capstone/data/middle_-425-_jpg.rf.26ccde5a27ca37e45b6d0d8de36d6519.jpg: 640x640 1 fire, 1 smoke, 7.1ms\n",
            "image 320/340 /content/drive/MyDrive/capstone/data/middle_-426-_jpg.rf.cf2872756cf33917cb73f85ba8639bc3.jpg: 640x640 1 fire, 7.2ms\n",
            "image 321/340 /content/drive/MyDrive/capstone/data/middle_-483-_jpg.rf.735853c4b3c343d53ab4c703d35944a6.jpg: 640x640 1 fire, 2 smokes, 7.1ms\n",
            "image 322/340 /content/drive/MyDrive/capstone/data/middle_-524-_jpg.rf.bd11486104f1462ced67a8870ffdf416.jpg: 640x640 2 fires, 10.8ms\n",
            "image 323/340 /content/drive/MyDrive/capstone/data/middle_-604-_jpg.rf.7adbd970d21d1ffe9aa5d71a85141afc.jpg: 640x640 1 fire, 7.2ms\n",
            "image 324/340 /content/drive/MyDrive/capstone/data/middle_-619-_jpg.rf.c0c6c6a83c48cea64d46de6aaeb34aac.jpg: 640x640 1 fire, 8.5ms\n",
            "image 325/340 /content/drive/MyDrive/capstone/data/middle_-621-_jpg.rf.18c96f844703dc10abaa778f4b4712ad.jpg: 640x640 1 fire, 7.1ms\n",
            "image 326/340 /content/drive/MyDrive/capstone/data/middle_-695-_jpg.rf.2555eddf5b74b9c7724dfaf973f74b02.jpg: 640x640 1 fire, 7.1ms\n",
            "image 327/340 /content/drive/MyDrive/capstone/data/middle_-704-_jpg.rf.602d3eaec9c0f41dfb769801f45cd976.jpg: 640x640 1 fire, 7.1ms\n",
            "image 328/340 /content/drive/MyDrive/capstone/data/middle_-730-_jpg.rf.452b6797acf453301fb603fb9dc1e112.jpg: 640x640 1 fire, 7.3ms\n",
            "image 329/340 /content/drive/MyDrive/capstone/data/middle_-739-_jpg.rf.c65441a1f55b7bbdf3702628969dc398.jpg: 640x640 1 fire, 7.1ms\n",
            "image 330/340 /content/drive/MyDrive/capstone/data/middle_-757-_jpg.rf.3e4549f3e70f36d90375471bbd94428e.jpg: 640x640 1 fire, 7.1ms\n",
            "image 331/340 /content/drive/MyDrive/capstone/data/middle_-760-_jpg.rf.7672f76f29ef8f9b8dbf6c3b5d1e5294.jpg: 640x640 1 fire, 7.1ms\n",
            "image 332/340 /content/drive/MyDrive/capstone/data/middle_-768-_jpg.rf.687ee0a7ccdc626373460ef1cab2b824.jpg: 640x640 2 fires, 1 smoke, 7.4ms\n",
            "image 333/340 /content/drive/MyDrive/capstone/data/middle_-780-_jpg.rf.6eff337a86f0c161e3e1f93b71dfa1be.jpg: 640x640 1 fire, 7.5ms\n",
            "image 334/340 /content/drive/MyDrive/capstone/data/middle_-798-_jpg.rf.656c7cdd008cc139accf79000acca57b.jpg: 640x640 2 fires, 2 smokes, 7.1ms\n",
            "image 335/340 /content/drive/MyDrive/capstone/data/middle_-799-_jpg.rf.252ba2410c9cb575de0769e0748a5620.jpg: 640x640 3 fires, 1 smoke, 7.1ms\n",
            "image 336/340 /content/drive/MyDrive/capstone/data/middle_-800-_jpg.rf.567c08aa07d22c96eaa14dfd3d1ece15.jpg: 640x640 7 fires, 7.2ms\n",
            "image 337/340 /content/drive/MyDrive/capstone/data/middle_-813-_jpg.rf.4b3b3398419aa9b48ad0672db2d615cf.jpg: 640x640 2 fires, 7.1ms\n",
            "image 338/340 /content/drive/MyDrive/capstone/data/middle_-815-_jpg.rf.c875bc26dc704e2eed7896e2e6c65c88.jpg: 640x640 1 fire, 9.4ms\n",
            "image 339/340 /content/drive/MyDrive/capstone/data/small_-255-_jpg.rf.be2e258f9b30caf3a9d9d84030ab5578.jpg: 640x640 1 fire, 8.9ms\n",
            "image 340/340 /content/drive/MyDrive/capstone/data/small_-277-_jpg.rf.7b9728dd8df6e29e0d8e5b69ebe241f4.jpg: 640x640 2 fires, 3 smokes, 8.6ms\n",
            "Speed: 2.9ms preprocess, 11.1ms inference, 1.7ms postprocess per image at shape (1, 3, 640, 640)\n",
            "Results saved to \u001b[1mruns/detect/train2\u001b[0m\n"
          ]
        }
      ]
    },
    {
      "cell_type": "code",
      "source": [
        "import locale\n",
        "def getpreferredencoding(do_setlocale = True):\n",
        "    return \"UTF-8\"\n",
        "locale.getpreferredencoding = getpreferredencoding"
      ],
      "metadata": {
        "id": "spY3EjWsDCJ8"
      },
      "execution_count": null,
      "outputs": []
    },
    {
      "cell_type": "code",
      "source": [
        "!mkdir /content/drive/MyDrive/capstone/data/"
      ],
      "metadata": {
        "id": "lSZI2eG9DtLG"
      },
      "execution_count": null,
      "outputs": []
    }
  ]
}